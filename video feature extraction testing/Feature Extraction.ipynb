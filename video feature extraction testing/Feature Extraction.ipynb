{
 "metadata": {
  "name": "",
  "signature": "sha256:586da2ed1c97ee5489ebb38258b2cc7404992f0bc4fa7cbfa7af3546809e5b4f"
 },
 "nbformat": 3,
 "nbformat_minor": 0,
 "worksheets": [
  {
   "cells": [
    {
     "cell_type": "code",
     "collapsed": false,
     "input": [
      "import numpy as np\n",
      "import pandas as pd\n",
      "import cv2\n",
      "import glob\n",
      "\n",
      "M = 750\n",
      "\n",
      "def frame_video(path):\n",
      "    \n",
      "    cap = cv2.VideoCapture(path)\n",
      "    ret = True\n",
      "    a = []\n",
      "    count = 0\n",
      "    while(cap.isOpened() and ret and count < M):\n",
      "        ret, frame = cap.read()\n",
      "        if ret:\n",
      "            gray = cv2.cvtColor(frame, cv2.COLOR_BGR2GRAY)\n",
      "            a.append(gray)\n",
      "            count = count + 1\n",
      "    \n",
      "    return a\n",
      "\n",
      "# Take input path\n",
      "def start(folder):\n",
      "    \n",
      "    L = []\n",
      "    min_=np.iinfo(np.int32).max\n",
      "    max_=0\n",
      "    arrayFiles = glob.glob(folder+\"/*.avi\")\n",
      "    for name in arrayFiles:\n",
      "\n",
      "            print name\n",
      "            A = frame_video(name)\n",
      "            r, c = A[0].shape\n",
      "            P = r*c\n",
      "            print 'shape'\n",
      "            print r\n",
      "            print c\n",
      "            TMM = np.zeros((r, c))\n",
      "\n",
      "            for i in range(M - 1):\n",
      "                if i % 4 ==0:\n",
      "                    for k in range(r):\n",
      "                        for l in range(c):\n",
      "                            #print \"pixel values= \" + str(round(A[0][k, l]/8.0,0)) +\", \" + str(round(A[i + 1][k, l]/8.0,0))\n",
      "                            if round(A[0][k, l]/8.0,0) != round(A[i + 1][k, l]/8.0,0):\n",
      "                                TMM[k, l] += 1\n",
      "                            \n",
      "            print 'aggregation complete'\n",
      "\n",
      "            l = [name]\n",
      "\n",
      "            for i in range(r):\n",
      "                if i % 9 == 0:\n",
      "                    s = 0\n",
      "                    for j in range(c):\n",
      "                        s += TMM[i, j]\n",
      "\n",
      "\n",
      "                   # print s\n",
      "                    l.append(s)\n",
      "                    if min_>s:\n",
      "                        min_=s\n",
      "                    if max_<s:\n",
      "                        max_=s\n",
      "                    s = 0\n",
      "            \n",
      "            L.append(l)\n",
      "    minMaxRange=max_-min_\n",
      "    print 'range'\n",
      "    print min_\n",
      "    print max_    \n",
      "            \n",
      "    # write to file\n",
      "    L = np.array(L)\n",
      "    for l in L:\n",
      "        for i in range(1, len(l)):\n",
      "            l[i]=np.float(l[i])/minMaxRange\n",
      "    d = pd.DataFrame(data=L)\n",
      "    d.to_csv(folder + '.txt', index=False, header=False) \n",
      "    T = set([l.shape for l in L])"
     ],
     "language": "python",
     "metadata": {},
     "outputs": [],
     "prompt_number": 3
    },
    {
     "cell_type": "code",
     "collapsed": false,
     "input": [
      "start('0')\n",
      "start('1')\n",
      "start('2')\n",
      "start('3')\n",
      "start('4')\n",
      "start('5')\n",
      "start('6')\n"
     ],
     "language": "python",
     "metadata": {},
     "outputs": [
      {
       "output_type": "stream",
       "stream": "stdout",
       "text": [
        "range\n",
        "2147483647\n",
        "0\n",
        "1\\17KAJ4F_172.18.4.71_2013-06-14_06-00-00(1)_0.avi\n",
        "shape"
       ]
      },
      {
       "output_type": "stream",
       "stream": "stdout",
       "text": [
        "\n",
        "640\n",
        "704\n"
       ]
      },
      {
       "ename": "KeyboardInterrupt",
       "evalue": "",
       "output_type": "pyerr",
       "traceback": [
        "\u001b[1;31m---------------------------------------------------------------------------\u001b[0m\n\u001b[1;31mKeyboardInterrupt\u001b[0m                         Traceback (most recent call last)",
        "\u001b[1;32m<ipython-input-4-3512ef29c4e9>\u001b[0m in \u001b[0;36m<module>\u001b[1;34m()\u001b[0m\n\u001b[0;32m      1\u001b[0m \u001b[0mstart\u001b[0m\u001b[1;33m(\u001b[0m\u001b[1;34m'0'\u001b[0m\u001b[1;33m)\u001b[0m\u001b[1;33m\u001b[0m\u001b[0m\n\u001b[1;32m----> 2\u001b[1;33m \u001b[0mstart\u001b[0m\u001b[1;33m(\u001b[0m\u001b[1;34m'1'\u001b[0m\u001b[1;33m)\u001b[0m\u001b[1;33m\u001b[0m\u001b[0m\n\u001b[0m\u001b[0;32m      3\u001b[0m \u001b[0mstart\u001b[0m\u001b[1;33m(\u001b[0m\u001b[1;34m'2'\u001b[0m\u001b[1;33m)\u001b[0m\u001b[1;33m\u001b[0m\u001b[0m\n\u001b[0;32m      4\u001b[0m \u001b[0mstart\u001b[0m\u001b[1;33m(\u001b[0m\u001b[1;34m'3'\u001b[0m\u001b[1;33m)\u001b[0m\u001b[1;33m\u001b[0m\u001b[0m\n\u001b[0;32m      5\u001b[0m \u001b[0mstart\u001b[0m\u001b[1;33m(\u001b[0m\u001b[1;34m'4'\u001b[0m\u001b[1;33m)\u001b[0m\u001b[1;33m\u001b[0m\u001b[0m\n",
        "\u001b[1;32m<ipython-input-3-f01934792489>\u001b[0m in \u001b[0;36mstart\u001b[1;34m(folder)\u001b[0m\n\u001b[0;32m     44\u001b[0m                         \u001b[1;32mfor\u001b[0m \u001b[0ml\u001b[0m \u001b[1;32min\u001b[0m \u001b[0mrange\u001b[0m\u001b[1;33m(\u001b[0m\u001b[0mc\u001b[0m\u001b[1;33m)\u001b[0m\u001b[1;33m:\u001b[0m\u001b[1;33m\u001b[0m\u001b[0m\n\u001b[0;32m     45\u001b[0m                             \u001b[1;31m#print \"pixel values= \" + str(round(A[0][k, l]/8.0,0)) +\", \" + str(round(A[i + 1][k, l]/8.0,0))\u001b[0m\u001b[1;33m\u001b[0m\u001b[1;33m\u001b[0m\u001b[0m\n\u001b[1;32m---> 46\u001b[1;33m                             \u001b[1;32mif\u001b[0m \u001b[0mround\u001b[0m\u001b[1;33m(\u001b[0m\u001b[0mA\u001b[0m\u001b[1;33m[\u001b[0m\u001b[1;36m0\u001b[0m\u001b[1;33m]\u001b[0m\u001b[1;33m[\u001b[0m\u001b[0mk\u001b[0m\u001b[1;33m,\u001b[0m \u001b[0ml\u001b[0m\u001b[1;33m]\u001b[0m\u001b[1;33m/\u001b[0m\u001b[1;36m8.0\u001b[0m\u001b[1;33m,\u001b[0m\u001b[1;36m0\u001b[0m\u001b[1;33m)\u001b[0m \u001b[1;33m!=\u001b[0m \u001b[0mround\u001b[0m\u001b[1;33m(\u001b[0m\u001b[0mA\u001b[0m\u001b[1;33m[\u001b[0m\u001b[0mi\u001b[0m \u001b[1;33m+\u001b[0m \u001b[1;36m1\u001b[0m\u001b[1;33m]\u001b[0m\u001b[1;33m[\u001b[0m\u001b[0mk\u001b[0m\u001b[1;33m,\u001b[0m \u001b[0ml\u001b[0m\u001b[1;33m]\u001b[0m\u001b[1;33m/\u001b[0m\u001b[1;36m8.0\u001b[0m\u001b[1;33m,\u001b[0m\u001b[1;36m0\u001b[0m\u001b[1;33m)\u001b[0m\u001b[1;33m:\u001b[0m\u001b[1;33m\u001b[0m\u001b[0m\n\u001b[0m\u001b[0;32m     47\u001b[0m                                 \u001b[0mTMM\u001b[0m\u001b[1;33m[\u001b[0m\u001b[0mk\u001b[0m\u001b[1;33m,\u001b[0m \u001b[0ml\u001b[0m\u001b[1;33m]\u001b[0m \u001b[1;33m+=\u001b[0m \u001b[1;36m1\u001b[0m\u001b[1;33m\u001b[0m\u001b[0m\n\u001b[0;32m     48\u001b[0m \u001b[1;33m\u001b[0m\u001b[0m\n",
        "\u001b[1;31mKeyboardInterrupt\u001b[0m: "
       ]
      }
     ],
     "prompt_number": 4
    },
    {
     "cell_type": "code",
     "collapsed": false,
     "input": [
      "import numpy as np\n",
      "import pandas as pd\n",
      "import cv2\n",
      "import glob\n",
      "import ntpath\n",
      "import os.path\n",
      "\n",
      "M = 3\n",
      "# Define the codec and create VideoWriter object\n",
      "\n",
      "\n",
      "def frame_video(folder):\n",
      "    \n",
      "    arrayFiles = glob.glob(folder+\"/*.mp4\")\n",
      "    \n",
      "    count1=0\n",
      "    for name in arrayFiles:\n",
      "        \n",
      "        fname=os.path.splitext(ntpath.basename(name))[0]\n",
      "        print name\n",
      "        print fname\n",
      "        cap = cv2.VideoCapture(name)\n",
      "        ret = True\n",
      "        count = 0\n",
      "        ret,frame = cap.read()\n",
      "        lower_reso = cv2.pyrDown(frame)\n",
      "        r,c,s=lower_reso.shape\n",
      "        fourcc = cv2.cv.CV_FOURCC(*'XVID')\n",
      "        rg=int (cap.get(cv2.cv.CV_CAP_PROP_FRAME_COUNT)/M)\n",
      "        print rg\n",
      "        \n",
      "        for i in range(M):\n",
      "            count = 0\n",
      "            print \"i=\" +str(i)\n",
      "            directory = 'outnew20minnew2/'+str(count1)\n",
      "            if not os.path.exists(directory):\n",
      "                os.makedirs(directory)\n",
      "            wFile=directory+'/'+ fname + '_' + str(i) + '.avi'\n",
      "            out = cv2.VideoWriter(wFile,fourcc,cap.get(cv2.cv.CV_CAP_PROP_FPS) , (c,r))\n",
      "            while (cap.isOpened() and ret and count < rg):\n",
      "                ret, frame = cap.read()\n",
      "                if ret:\n",
      "                    lower_reso = cv2.pyrDown(frame)\n",
      "                    out.write(lower_reso)\n",
      "                    count = count + 1\n",
      "\n",
      "                \n",
      "        count1 = count1 + 1\n",
      "\n",
      "#     cap.release()\n",
      "    cv2.destroyAllWindows()"
     ],
     "language": "python",
     "metadata": {},
     "outputs": [],
     "prompt_number": 13
    },
    {
     "cell_type": "code",
     "collapsed": false,
     "input": [
      "frame_video(\"M:/traffic_data/kan2\")"
     ],
     "language": "python",
     "metadata": {},
     "outputs": [
      {
       "output_type": "stream",
       "stream": "stdout",
       "text": [
        "M:/traffic_data/kan2\\17KAJ4F_172.18.4.71_2013-06-12_06-00-00(1).mp4\n",
        "17KAJ4F_172.18.4.71_2013-06-12_06-00-00(1)\n",
        "9888"
       ]
      },
      {
       "output_type": "stream",
       "stream": "stdout",
       "text": [
        "\n",
        "i=0\n",
        "i=1"
       ]
      },
      {
       "output_type": "stream",
       "stream": "stdout",
       "text": [
        "\n",
        "i=2"
       ]
      },
      {
       "output_type": "stream",
       "stream": "stdout",
       "text": [
        "\n",
        "M:/traffic_data/kan2\\17KAJ4F_172.18.4.71_2013-06-12_06-00-00(10).mp4"
       ]
      },
      {
       "output_type": "stream",
       "stream": "stdout",
       "text": [
        "\n",
        "17KAJ4F_172.18.4.71_2013-06-12_06-00-00(10)\n",
        "9593"
       ]
      },
      {
       "output_type": "stream",
       "stream": "stdout",
       "text": [
        "\n",
        "i=0\n",
        "i=1"
       ]
      },
      {
       "output_type": "stream",
       "stream": "stdout",
       "text": [
        "\n",
        "i=2"
       ]
      },
      {
       "output_type": "stream",
       "stream": "stdout",
       "text": [
        "\n",
        "M:/traffic_data/kan2\\17KAJ4F_172.18.4.71_2013-06-12_06-00-00(11).mp4"
       ]
      },
      {
       "output_type": "stream",
       "stream": "stdout",
       "text": [
        "\n",
        "17KAJ4F_172.18.4.71_2013-06-12_06-00-00(11)\n",
        "9125"
       ]
      },
      {
       "output_type": "stream",
       "stream": "stdout",
       "text": [
        "\n",
        "i=0\n",
        "i=1"
       ]
      },
      {
       "output_type": "stream",
       "stream": "stdout",
       "text": [
        "\n",
        "i=2"
       ]
      },
      {
       "output_type": "stream",
       "stream": "stdout",
       "text": [
        "\n",
        "M:/traffic_data/kan2\\17KAJ4F_172.18.4.71_2013-06-12_06-00-00(12).mp4"
       ]
      },
      {
       "output_type": "stream",
       "stream": "stdout",
       "text": [
        "\n",
        "17KAJ4F_172.18.4.71_2013-06-12_06-00-00(12)\n",
        "8879"
       ]
      },
      {
       "output_type": "stream",
       "stream": "stdout",
       "text": [
        "\n",
        "i=0\n",
        "i=1"
       ]
      },
      {
       "output_type": "stream",
       "stream": "stdout",
       "text": [
        "\n",
        "i=2"
       ]
      },
      {
       "output_type": "stream",
       "stream": "stdout",
       "text": [
        "\n",
        "M:/traffic_data/kan2\\17KAJ4F_172.18.4.71_2013-06-12_06-00-00(13).mp4"
       ]
      },
      {
       "output_type": "stream",
       "stream": "stdout",
       "text": [
        "\n",
        "17KAJ4F_172.18.4.71_2013-06-12_06-00-00(13)\n",
        "9598"
       ]
      },
      {
       "output_type": "stream",
       "stream": "stdout",
       "text": [
        "\n",
        "i=0\n",
        "i=1"
       ]
      },
      {
       "output_type": "stream",
       "stream": "stdout",
       "text": [
        "\n",
        "i=2"
       ]
      },
      {
       "output_type": "stream",
       "stream": "stdout",
       "text": [
        "\n",
        "M:/traffic_data/kan2\\17KAJ4F_172.18.4.71_2013-06-12_06-00-00(14).mp4"
       ]
      },
      {
       "output_type": "stream",
       "stream": "stdout",
       "text": [
        "\n",
        "17KAJ4F_172.18.4.71_2013-06-12_06-00-00(14)\n",
        "9846"
       ]
      },
      {
       "output_type": "stream",
       "stream": "stdout",
       "text": [
        "\n",
        "i=0\n",
        "i=1"
       ]
      },
      {
       "output_type": "stream",
       "stream": "stdout",
       "text": [
        "\n",
        "i=2"
       ]
      },
      {
       "output_type": "stream",
       "stream": "stdout",
       "text": [
        "\n",
        "M:/traffic_data/kan2\\17KAJ4F_172.18.4.71_2013-06-12_06-00-00(2).mp4"
       ]
      },
      {
       "output_type": "stream",
       "stream": "stdout",
       "text": [
        "\n",
        "17KAJ4F_172.18.4.71_2013-06-12_06-00-00(2)\n",
        "9267"
       ]
      },
      {
       "output_type": "stream",
       "stream": "stdout",
       "text": [
        "\n",
        "i=0\n",
        "i=1"
       ]
      },
      {
       "output_type": "stream",
       "stream": "stdout",
       "text": [
        "\n",
        "i=2"
       ]
      },
      {
       "output_type": "stream",
       "stream": "stdout",
       "text": [
        "\n",
        "M:/traffic_data/kan2\\17KAJ4F_172.18.4.71_2013-06-12_06-00-00(3).mp4"
       ]
      },
      {
       "output_type": "stream",
       "stream": "stdout",
       "text": [
        "\n",
        "17KAJ4F_172.18.4.71_2013-06-12_06-00-00(3)\n",
        "9709"
       ]
      },
      {
       "output_type": "stream",
       "stream": "stdout",
       "text": [
        "\n",
        "i=0\n",
        "i=1"
       ]
      },
      {
       "output_type": "stream",
       "stream": "stdout",
       "text": [
        "\n",
        "i=2"
       ]
      },
      {
       "output_type": "stream",
       "stream": "stdout",
       "text": [
        "\n",
        "M:/traffic_data/kan2\\17KAJ4F_172.18.4.71_2013-06-12_06-00-00(4).mp4"
       ]
      },
      {
       "output_type": "stream",
       "stream": "stdout",
       "text": [
        "\n",
        "17KAJ4F_172.18.4.71_2013-06-12_06-00-00(4)\n",
        "9283"
       ]
      },
      {
       "output_type": "stream",
       "stream": "stdout",
       "text": [
        "\n",
        "i=0\n",
        "i=1"
       ]
      },
      {
       "output_type": "stream",
       "stream": "stdout",
       "text": [
        "\n",
        "i=2"
       ]
      },
      {
       "output_type": "stream",
       "stream": "stdout",
       "text": [
        "\n",
        "M:/traffic_data/kan2\\17KAJ4F_172.18.4.71_2013-06-12_06-00-00(5).mp4"
       ]
      },
      {
       "output_type": "stream",
       "stream": "stdout",
       "text": [
        "\n",
        "17KAJ4F_172.18.4.71_2013-06-12_06-00-00(5)\n",
        "9312"
       ]
      },
      {
       "output_type": "stream",
       "stream": "stdout",
       "text": [
        "\n",
        "i=0\n",
        "i=1"
       ]
      },
      {
       "output_type": "stream",
       "stream": "stdout",
       "text": [
        "\n",
        "i=2"
       ]
      },
      {
       "output_type": "stream",
       "stream": "stdout",
       "text": [
        "\n",
        "M:/traffic_data/kan2\\17KAJ4F_172.18.4.71_2013-06-12_06-00-00(6).mp4"
       ]
      },
      {
       "output_type": "stream",
       "stream": "stdout",
       "text": [
        "\n",
        "17KAJ4F_172.18.4.71_2013-06-12_06-00-00(6)\n",
        "9263"
       ]
      },
      {
       "output_type": "stream",
       "stream": "stdout",
       "text": [
        "\n",
        "i=0\n",
        "i=1"
       ]
      },
      {
       "output_type": "stream",
       "stream": "stdout",
       "text": [
        "\n",
        "i=2"
       ]
      },
      {
       "output_type": "stream",
       "stream": "stdout",
       "text": [
        "\n",
        "M:/traffic_data/kan2\\17KAJ4F_172.18.4.71_2013-06-12_06-00-00(7).mp4"
       ]
      },
      {
       "output_type": "stream",
       "stream": "stdout",
       "text": [
        "\n",
        "17KAJ4F_172.18.4.71_2013-06-12_06-00-00(7)\n",
        "9162"
       ]
      },
      {
       "output_type": "stream",
       "stream": "stdout",
       "text": [
        "\n",
        "i=0\n",
        "i=1"
       ]
      },
      {
       "output_type": "stream",
       "stream": "stdout",
       "text": [
        "\n",
        "i=2"
       ]
      },
      {
       "output_type": "stream",
       "stream": "stdout",
       "text": [
        "\n",
        "M:/traffic_data/kan2\\17KAJ4F_172.18.4.71_2013-06-12_06-00-00(8).mp4"
       ]
      },
      {
       "output_type": "stream",
       "stream": "stdout",
       "text": [
        "\n",
        "17KAJ4F_172.18.4.71_2013-06-12_06-00-00(8)\n",
        "9236"
       ]
      },
      {
       "output_type": "stream",
       "stream": "stdout",
       "text": [
        "\n",
        "i=0\n",
        "i=1"
       ]
      },
      {
       "output_type": "stream",
       "stream": "stdout",
       "text": [
        "\n",
        "i=2"
       ]
      },
      {
       "output_type": "stream",
       "stream": "stdout",
       "text": [
        "\n",
        "M:/traffic_data/kan2\\17KAJ4F_172.18.4.71_2013-06-12_06-00-00(9).mp4"
       ]
      },
      {
       "output_type": "stream",
       "stream": "stdout",
       "text": [
        "\n",
        "17KAJ4F_172.18.4.71_2013-06-12_06-00-00(9)\n",
        "8949"
       ]
      },
      {
       "output_type": "stream",
       "stream": "stdout",
       "text": [
        "\n",
        "i=0\n",
        "i=1"
       ]
      },
      {
       "output_type": "stream",
       "stream": "stdout",
       "text": [
        "\n",
        "i=2"
       ]
      },
      {
       "output_type": "stream",
       "stream": "stdout",
       "text": [
        "\n"
       ]
      }
     ],
     "prompt_number": 14
    },
    {
     "cell_type": "code",
     "collapsed": false,
     "input": [
      "import numpy as np\n",
      "import pandas as pd\n",
      "import cv2\n",
      "import glob\n",
      "import ntpath\n",
      "import os.path\n",
      "import Image\n",
      "\n",
      "M = 400\n",
      "# Define the codec and create VideoWriter object\n",
      "\n",
      "\n",
      "def frame_video(folder):\n",
      "    \n",
      "    arrayFiles = glob.glob(folder+\"/*.mp4\")\n",
      "    \n",
      "    for name in arrayFiles:\n",
      "        \n",
      "        fname=os.path.splitext(ntpath.basename(name))[0]\n",
      "        print name\n",
      "        print fname\n",
      "        cap = cv2.VideoCapture(name)\n",
      "        ret = True\n",
      "        count = 0\n",
      "        ret,frame = cap.read()\n",
      "        print frame.shape\n",
      "        img=Image.fromarray(frame)\n",
      "        print img\n",
      "        directory = folder+'/image_all'\n",
      "        if not os.path.exists(directory):\n",
      "            os.makedirs(directory)\n",
      "            \n",
      "        img.save(directory + '/' + fname+'.jpg')\n",
      "#         cv2.cv.SaveImage(directory + '/' + fname+'.jpg',img)\n",
      "        \n",
      "\n",
      "#     cap.release()\n",
      "    cv2.destroyAllWindows()"
     ],
     "language": "python",
     "metadata": {},
     "outputs": [],
     "prompt_number": 1
    },
    {
     "cell_type": "code",
     "collapsed": false,
     "input": [
      "frame_video('new segments')"
     ],
     "language": "python",
     "metadata": {},
     "outputs": [
      {
       "output_type": "stream",
       "stream": "stdout",
       "text": [
        "new segments\\2014-09-02-10h52m21s-09BOR1F_172.18.4.32_2013-06-11_06-00-00(1).mp4\n",
        "2014-09-02-10h52m21s-09BOR1F_172.18.4.32_2013-06-11_06-00-00(1)\n",
        "(640, 704, 3)"
       ]
      },
      {
       "output_type": "stream",
       "stream": "stdout",
       "text": [
        "\n",
        "<Image.Image image mode=RGB size=704x640 at 0x69BCE90>\n",
        "new segments\\2014-09-02-10h54m24s-09BOR1F_172.18.4.32_2013-06-11_06-00-00(1).mp4"
       ]
      },
      {
       "output_type": "stream",
       "stream": "stdout",
       "text": [
        "\n",
        "2014-09-02-10h54m24s-09BOR1F_172.18.4.32_2013-06-11_06-00-00(1)\n",
        "(640, 704, 3)"
       ]
      },
      {
       "output_type": "stream",
       "stream": "stdout",
       "text": [
        "\n",
        "<Image.Image image mode=RGB size=704x640 at 0x69D0C10>\n",
        "new segments\\2014-09-02-10h55m29s-09BOR1F_172.18.4.32_2013-06-11_06-00-00(1).mp4"
       ]
      },
      {
       "output_type": "stream",
       "stream": "stdout",
       "text": [
        "\n",
        "2014-09-02-10h55m29s-09BOR1F_172.18.4.32_2013-06-11_06-00-00(1)\n",
        "(640, 704, 3)\n",
        "<Image.Image image mode=RGB size=704x640 at 0x69D0D28>\n",
        "new segments\\2014-09-02-11h14m04s-09BOR1F_172.18.4.32_2013-06-11_06-00-00(1)-.mp4"
       ]
      },
      {
       "output_type": "stream",
       "stream": "stdout",
       "text": [
        "\n",
        "2014-09-02-11h14m04s-09BOR1F_172.18.4.32_2013-06-11_06-00-00(1)-\n",
        "(640, 704, 3)"
       ]
      },
      {
       "output_type": "stream",
       "stream": "stdout",
       "text": [
        "\n",
        "<Image.Image image mode=RGB size=704x640 at 0x69D0D50>\n",
        "new segments\\2014-09-02-11h14m57s-09BOR1F_172.18.4.32_2013-06-11_06-00-00(1).mp4"
       ]
      },
      {
       "output_type": "stream",
       "stream": "stdout",
       "text": [
        "\n",
        "2014-09-02-11h14m57s-09BOR1F_172.18.4.32_2013-06-11_06-00-00(1)\n",
        "(640, 704, 3)\n",
        "<Image.Image image mode=RGB size=704x640 at 0x69D0CD8>"
       ]
      },
      {
       "output_type": "stream",
       "stream": "stdout",
       "text": [
        "\n",
        "new segments\\2014-09-02-11h15m43s-09BOR1F_172.18.4.32_2013-06-11_06-00-00(1).mp4"
       ]
      },
      {
       "output_type": "stream",
       "stream": "stdout",
       "text": [
        "\n",
        "2014-09-02-11h15m43s-09BOR1F_172.18.4.32_2013-06-11_06-00-00(1)\n",
        "(640, 704, 3)"
       ]
      },
      {
       "output_type": "stream",
       "stream": "stdout",
       "text": [
        "\n",
        "<Image.Image image mode=RGB size=704x640 at 0x69D0D00>\n",
        "new segments\\2014-09-02-11h16m42s-09BOR1F_172.18.4.32_2013-06-11_06-00-00(1).mp4"
       ]
      },
      {
       "output_type": "stream",
       "stream": "stdout",
       "text": [
        "\n",
        "2014-09-02-11h16m42s-09BOR1F_172.18.4.32_2013-06-11_06-00-00(1)\n",
        "(640, 704, 3)"
       ]
      },
      {
       "output_type": "stream",
       "stream": "stdout",
       "text": [
        "\n",
        "<Image.Image image mode=RGB size=704x640 at 0x69D0C10>\n",
        "new segments\\2014-09-02-11h17m29s-09BOR1F_172.18.4.32_2013-06-11_06-00-00(1).mp4"
       ]
      },
      {
       "output_type": "stream",
       "stream": "stdout",
       "text": [
        "\n",
        "2014-09-02-11h17m29s-09BOR1F_172.18.4.32_2013-06-11_06-00-00(1)\n",
        "(640, 704, 3)"
       ]
      },
      {
       "output_type": "stream",
       "stream": "stdout",
       "text": [
        "\n",
        "<Image.Image image mode=RGB size=704x640 at 0x69D0D28>\n",
        "new segments\\2014-09-02-11h19m04s-09BOR1F_172.18.4.32_2013-06-11_06-00-00(3).mp4"
       ]
      },
      {
       "output_type": "stream",
       "stream": "stdout",
       "text": [
        "\n",
        "2014-09-02-11h19m04s-09BOR1F_172.18.4.32_2013-06-11_06-00-00(3)\n",
        "(640, 704, 3)\n",
        "<Image.Image image mode=RGB size=704x640 at 0x69D0D50>"
       ]
      },
      {
       "output_type": "stream",
       "stream": "stdout",
       "text": [
        "\n",
        "new segments\\2014-09-02-11h19m57s-09BOR1F_172.18.4.32_2013-06-11_06-00-00(3).mp4"
       ]
      },
      {
       "output_type": "stream",
       "stream": "stdout",
       "text": [
        "\n",
        "2014-09-02-11h19m57s-09BOR1F_172.18.4.32_2013-06-11_06-00-00(3)\n",
        "(640, 704, 3)\n",
        "<Image.Image image mode=RGB size=704x640 at 0x69D0D28>\n",
        "new segments\\2014-09-02-11h20m50s-09BOR1F_172.18.4.32_2013-06-11_06-00-00(3).mp4"
       ]
      },
      {
       "output_type": "stream",
       "stream": "stdout",
       "text": [
        "\n",
        "2014-09-02-11h20m50s-09BOR1F_172.18.4.32_2013-06-11_06-00-00(3)\n",
        "(640, 704, 3)"
       ]
      },
      {
       "output_type": "stream",
       "stream": "stdout",
       "text": [
        "\n",
        "<Image.Image image mode=RGB size=704x640 at 0x69D0CD8>\n",
        "new segments\\2014-09-02-11h21m40s-09BOR1F_172.18.4.32_2013-06-11_06-00-00(3).mp4"
       ]
      },
      {
       "output_type": "stream",
       "stream": "stdout",
       "text": [
        "\n",
        "2014-09-02-11h21m40s-09BOR1F_172.18.4.32_2013-06-11_06-00-00(3)\n",
        "(640, 704, 3)\n",
        "<Image.Image image mode=RGB size=704x640 at 0x69D0C10>\n",
        "new segments\\2014-09-02-11h23m12s-17KAJ4F_172.18.4.71_2013-06-11_06-00-00(1).mp4"
       ]
      },
      {
       "output_type": "stream",
       "stream": "stdout",
       "text": [
        "\n",
        "2014-09-02-11h23m12s-17KAJ4F_172.18.4.71_2013-06-11_06-00-00(1)\n",
        "(640, 704, 3)\n",
        "<Image.Image image mode=RGB size=704x640 at 0x69D0D28>\n",
        "new segments\\2014-09-02-11h23m42s-17KAJ4F_172.18.4.71_2013-06-11_06-00-00(1).mp4"
       ]
      },
      {
       "output_type": "stream",
       "stream": "stdout",
       "text": [
        "\n",
        "2014-09-02-11h23m42s-17KAJ4F_172.18.4.71_2013-06-11_06-00-00(1)\n",
        "(640, 704, 3)\n",
        "<Image.Image image mode=RGB size=704x640 at 0x69D0CD8>\n",
        "new segments\\2014-09-02-11h24m14s-17KAJ4F_172.18.4.71_2013-06-11_06-00-00(1).mp4"
       ]
      },
      {
       "output_type": "stream",
       "stream": "stdout",
       "text": [
        "\n",
        "2014-09-02-11h24m14s-17KAJ4F_172.18.4.71_2013-06-11_06-00-00(1)\n",
        "(640, 704, 3)\n",
        "<Image.Image image mode=RGB size=704x640 at 0x69D0C10>\n",
        "new segments\\2014-09-02-11h25m00s-17KAJ4F_172.18.4.71_2013-06-11_06-00-00(1).mp4"
       ]
      },
      {
       "output_type": "stream",
       "stream": "stdout",
       "text": [
        "\n",
        "2014-09-02-11h25m00s-17KAJ4F_172.18.4.71_2013-06-11_06-00-00(1)\n",
        "(640, 704, 3)"
       ]
      },
      {
       "output_type": "stream",
       "stream": "stdout",
       "text": [
        "\n",
        "<Image.Image image mode=RGB size=704x640 at 0x69D0D00>\n"
       ]
      }
     ],
     "prompt_number": 2
    },
    {
     "cell_type": "code",
     "collapsed": false,
     "input": [
      "import numpy as np\n",
      "import cv2\n",
      "np.set_printoptions(threshold='nan')\n",
      "cap = cv2.VideoCapture('with opencv/1/17KAJ4F_172.18.4.71_2013-06-14_06-00-00(1)_8.avi')\n",
      "\n",
      "fgbg = cv2.BackgroundSubtractorMOG()\n",
      "\n",
      "while(1):\n",
      "    ret, frame = cap.read()\n",
      "    \n",
      "    lower_reso = cv2.pyrDown(frame)\n",
      "    fgmask = fgbg.apply(lower_reso)\n",
      "    cv2.imshow('frame',fgmask)\n",
      "    #print lower_reso.imag\n",
      "    k = cv2.waitKey(30) & 0xff\n",
      "    if k == 27:\n",
      "        break\n",
      "\n",
      "cap.release()\n",
      "cv2.destroyAllWindows()"
     ],
     "language": "python",
     "metadata": {},
     "outputs": [],
     "prompt_number": 7
    },
    {
     "cell_type": "heading",
     "level": 1,
     "metadata": {},
     "source": [
      "Feature Extraction with opencv"
     ]
    },
    {
     "cell_type": "code",
     "collapsed": false,
     "input": [
      "import numpy as np\n",
      "import pandas as pd\n",
      "import cv2\n",
      "import glob\n",
      "import ntpath\n",
      "import os.path\n",
      "\n",
      "np.set_printoptions(threshold='nan')\n",
      "\n",
      "# Take input path\n",
      "def start(folder,outname):\n",
      "    max_val=0\n",
      "    L = []\n",
      "    arrayFiles = glob.glob(folder+\"/*.avi\")\n",
      "    for name in arrayFiles:\n",
      "            fname=os.path.splitext(ntpath.basename(name))[0]\n",
      "            print \"start \", name\n",
      "            cap = cv2.VideoCapture(name)\n",
      "            \n",
      "            frameCount=cap.get(cv2.cv.CV_CAP_PROP_FRAME_COUNT)\n",
      "            \n",
      "            ret, frame = cap.read()\n",
      "            #lower_reso = cv2.pyrDown(cv2.pyrDown(cv2.pyrDown(cv2.pyrDown(frame))))\n",
      "            TMM = np.zeros((frame.shape[0],frame.shape[1]))\n",
      "            rowVal=frame.shape[0]/2\n",
      "            \n",
      "            ret, frame = cap.read()\n",
      "            ret = True\n",
      "            #background subtract method\n",
      "            #fgbg = cv2.BackgroundSubtractorMOG()\n",
      "            \n",
      "            #frame difference method\n",
      "            back=frame\n",
      "            while(cap.isOpened() and ret):\n",
      "                ret, frame = cap.read()\n",
      "                if ret:\n",
      "#                     frame=cv2.GaussianBlur(frame,(7,7),0)\n",
      "                    #lower_reso = cv2.pyrDown(cv2.pyrDown(cv2.pyrDown(cv2.pyrDown(frame))))\n",
      "                    #background subtract method\n",
      "                    #fgmask = fgbg.apply(frame)\n",
      "                    \n",
      "                    #frame difference method\n",
      "                    fgmask1 =cv2.absdiff(frame,back)\n",
      "                    fgmask2= cv2.cvtColor(fgmask1, cv2.COLOR_BGR2GRAY)\n",
      "                    fgmask=cv2.GaussianBlur(fgmask2,(7,7),0)\n",
      "                    (th,fgmask)=cv2.threshold(fgmask,20,255,cv2.THRESH_BINARY)\n",
      "#                     fgmask=cv2.GaussianBlur(fgmask2,(7,7),0)\n",
      "                    \n",
      "                    back=frame\n",
      "                    \n",
      "                    fgmask = fgmask/255.0\n",
      "                    TMM=TMM+fgmask\n",
      "                    \n",
      "            TMM=TMM/frameCount\n",
      "            #TMM=cv2.pyrDown(TMM)\n",
      "            #get the sum of all the rows and create a single row\n",
      "            lower_reso = cv2.pyrDown(cv2.pyrDown(cv2.pyrDown(TMM)))        \n",
      "            \n",
      "            \n",
      "            Res = np.sum(lower_reso, axis=0)\n",
      "            \n",
      "            #get the middle row as the input vector\n",
      "            #Res = TMM[rowVal]\n",
      "        \n",
      "            print lower_reso.shape\n",
      "            #print \"row value\",rowVal\n",
      "            #Res1 = np.sum(TMM, axis=1)\n",
      "            # Res1=Res1*1.0/np.max(Res1)\n",
      "#             if np.max(Res) !=0.0:\n",
      "#                 Res=Res*1.0/np.max(Res)\n",
      "            temp=np.max(Res)\n",
      "            if temp>max_val:\n",
      "                max_val=temp\n",
      "            l = [fname]\n",
      "            l=l+Res.tolist()\n",
      "            #l=l+Res1.tolist()\n",
      "            print \"length \", Res.shape[0]\n",
      "            L.append(l)  \n",
      "            print \"complete \", name\n",
      "    # write to file\n",
      "    #L = np.array(L)\n",
      "    l=[\"max value=\"+str(max_val)]\n",
      "    L.append(l)\n",
      "    d = pd.DataFrame(data=L)\n",
      "    d.to_csv(outname + '.txt', index=False, header=False)  \n",
      "    print \"max value=\",max_val\n",
      "    print \"***********complete all*************\"\n",
      "    #T = set([l.shape for l in L])"
     ],
     "language": "python",
     "metadata": {},
     "outputs": [],
     "prompt_number": 5
    },
    {
     "cell_type": "code",
     "collapsed": false,
     "input": [
      "import numpy as np\n",
      "import pandas as pd\n",
      "import cv2\n",
      "import glob\n",
      "import ntpath\n",
      "import os.path\n",
      "\n",
      "np.set_printoptions(threshold='nan')\n",
      "\n",
      "# Take input path\n",
      "def motionFeatureExtractionStart(folder,outname):\n",
      "    max_val=0\n",
      "    L = []\n",
      "    arrayFiles = glob.glob(folder+\"/*.avi\")\n",
      "    for name in arrayFiles:\n",
      "            fname=os.path.splitext(ntpath.basename(name))[0]\n",
      "            print \"start \", name\n",
      "            cap = cv2.VideoCapture(name)\n",
      "            \n",
      "            frameCount=cap.get(cv2.cv.CV_CAP_PROP_FRAME_COUNT)\n",
      "            \n",
      "            ret, frame = cap.read()\n",
      "            #lower_reso = cv2.pyrDown(cv2.pyrDown(cv2.pyrDown(cv2.pyrDown(frame))))\n",
      "            TMM = np.zeros((frame.shape[0],frame.shape[1]))\n",
      "            rowVal=frame.shape[0]/2\n",
      "            \n",
      "            ret, frame = cap.read()\n",
      "            ret = True\n",
      "            \n",
      "            if f_type == 0:\n",
      "                #background subtract method\n",
      "                fgbg = cv2.BackgroundSubtractorMOG()\n",
      "            else:\n",
      "                #frame difference method\n",
      "                back=frame\n",
      "            while(cap.isOpened() and ret):\n",
      "                ret, frame = cap.read()\n",
      "                if ret:\n",
      "#                     frame=cv2.GaussianBlur(frame,(7,7),0)\n",
      "                    #lower_reso = cv2.pyrDown(cv2.pyrDown(cv2.pyrDown(cv2.pyrDown(frame))))\n",
      "                    if f_type == 0:\n",
      "                        #background subtract method\n",
      "                        fgmask = fgbg.apply(frame)\n",
      "                    else:\n",
      "                    \n",
      "                        #frame difference method\n",
      "                        fgmask1 =cv2.absdiff(frame,back)\n",
      "                        fgmask2= cv2.cvtColor(fgmask1, cv2.COLOR_BGR2GRAY)\n",
      "                        fgmask=cv2.GaussianBlur(fgmask2,(7,7),0)\n",
      "                        (th,fgmask)=cv2.threshold(fgmask,20,255,cv2.THRESH_BINARY)\n",
      "    #                     fgmask=cv2.GaussianBlur(fgmask2,(7,7),0)\n",
      "\n",
      "                        back=frame\n",
      "                    \n",
      "                    fgmask = fgmask/255.0\n",
      "                    TMM=TMM+fgmask\n",
      "                    \n",
      "            TMM=TMM/frameCount\n",
      "            #TMM=cv2.pyrDown(TMM)\n",
      "            #get the sum of all the rows and create a single row\n",
      "            lower_reso = cv2.pyrDown(cv2.pyrDown(cv2.pyrDown(TMM)))        \n",
      "            \n",
      "            \n",
      "            Res = np.sum(lower_reso, axis=0)\n",
      "            \n",
      "            #get the middle row as the input vector\n",
      "            #Res = TMM[rowVal]\n",
      "        \n",
      "            print lower_reso.shape\n",
      "            #print \"row value\",rowVal\n",
      "            #Res1 = np.sum(TMM, axis=1)\n",
      "            # Res1=Res1*1.0/np.max(Res1)\n",
      "#             if np.max(Res) !=0.0:\n",
      "#                 Res=Res*1.0/np.max(Res)\n",
      "            temp=np.max(Res)\n",
      "            if temp>max_val:\n",
      "                max_val=temp\n",
      "            l = [fname]\n",
      "            l=l+Res.tolist()\n",
      "            #l=l+Res1.tolist()\n",
      "            print \"length \", Res.shape[0]\n",
      "            L.append(l)  \n",
      "            print \"complete \", name\n",
      "    # write to file\n",
      "    #L = np.array(L)\n",
      "    l=[\"max value=\"+str(max_val)]\n",
      "    L.append(l)\n",
      "    d = pd.DataFrame(data=L)\n",
      "    d.to_csv(outname + '.txt', index=False, header=False)  \n",
      "    print \"max value=\",max_val\n",
      "    print \"***********complete all*************\"\n",
      "    #T = set([l.shape for l in L])"
     ],
     "language": "python",
     "metadata": {},
     "outputs": [
      {
       "ename": "ImportError",
       "evalue": "No module named cv2",
       "output_type": "pyerr",
       "traceback": [
        "\u001b[1;31m---------------------------------------------------------------------------\u001b[0m\n\u001b[1;31mImportError\u001b[0m                               Traceback (most recent call last)",
        "\u001b[1;32m<ipython-input-1-0573bc87b5f1>\u001b[0m in \u001b[0;36m<module>\u001b[1;34m()\u001b[0m\n\u001b[0;32m      1\u001b[0m \u001b[1;32mimport\u001b[0m \u001b[0mnumpy\u001b[0m \u001b[1;32mas\u001b[0m \u001b[0mnp\u001b[0m\u001b[1;33m\u001b[0m\u001b[0m\n\u001b[0;32m      2\u001b[0m \u001b[1;32mimport\u001b[0m \u001b[0mpandas\u001b[0m \u001b[1;32mas\u001b[0m \u001b[0mpd\u001b[0m\u001b[1;33m\u001b[0m\u001b[0m\n\u001b[1;32m----> 3\u001b[1;33m \u001b[1;32mimport\u001b[0m \u001b[0mcv2\u001b[0m\u001b[1;33m\u001b[0m\u001b[0m\n\u001b[0m\u001b[0;32m      4\u001b[0m \u001b[1;32mimport\u001b[0m \u001b[0mglob\u001b[0m\u001b[1;33m\u001b[0m\u001b[0m\n\u001b[0;32m      5\u001b[0m \u001b[1;32mimport\u001b[0m \u001b[0mntpath\u001b[0m\u001b[1;33m\u001b[0m\u001b[0m\n",
        "\u001b[1;31mImportError\u001b[0m: No module named cv2"
       ]
      }
     ],
     "prompt_number": 1
    },
    {
     "cell_type": "code",
     "collapsed": false,
     "input": [
      "start(\"video\",\"input254motion20\")\n"
     ],
     "language": "python",
     "metadata": {},
     "outputs": [
      {
       "output_type": "stream",
       "stream": "stdout",
       "text": [
        "start  video\\cctv052x2004080516x01638.avi\n",
        "(30, 40)"
       ]
      },
      {
       "output_type": "stream",
       "stream": "stdout",
       "text": [
        "\n",
        "length  40\n",
        "complete  video\\cctv052x2004080516x01638.avi\n",
        "start  video\\cctv052x2004080516x01639.avi\n",
        "(30, 40)"
       ]
      },
      {
       "output_type": "stream",
       "stream": "stdout",
       "text": [
        "\n",
        "length  40\n",
        "complete  video\\cctv052x2004080516x01639.avi\n",
        "start  video\\cctv052x2004080516x01640.avi\n",
        "(30, 40)"
       ]
      },
      {
       "output_type": "stream",
       "stream": "stdout",
       "text": [
        "\n",
        "length  40\n",
        "complete  video\\cctv052x2004080516x01640.avi\n",
        "start  video\\cctv052x2004080516x01641.avi\n",
        "(30, 40)"
       ]
      },
      {
       "output_type": "stream",
       "stream": "stdout",
       "text": [
        "\n",
        "length  40\n",
        "complete  video\\cctv052x2004080516x01641.avi\n",
        "start  video\\cctv052x2004080516x01642.avi\n",
        "(30, 40)"
       ]
      },
      {
       "output_type": "stream",
       "stream": "stdout",
       "text": [
        "\n",
        "length  40\n",
        "complete  video\\cctv052x2004080516x01642.avi\n",
        "start  video\\cctv052x2004080516x01643.avi\n",
        "(30, 40)"
       ]
      },
      {
       "output_type": "stream",
       "stream": "stdout",
       "text": [
        "\n",
        "length  40\n",
        "complete  video\\cctv052x2004080516x01643.avi\n",
        "start  video\\cctv052x2004080516x01644.avi\n",
        "(30, 40)"
       ]
      },
      {
       "output_type": "stream",
       "stream": "stdout",
       "text": [
        "\n",
        "length  40\n",
        "complete  video\\cctv052x2004080516x01644.avi\n",
        "start  video\\cctv052x2004080516x01645.avi\n",
        "(30, 40)"
       ]
      },
      {
       "output_type": "stream",
       "stream": "stdout",
       "text": [
        "\n",
        "length  40\n",
        "complete  video\\cctv052x2004080516x01645.avi\n",
        "start  video\\cctv052x2004080516x01646.avi\n",
        "(30, 40)"
       ]
      },
      {
       "output_type": "stream",
       "stream": "stdout",
       "text": [
        "\n",
        "length  40\n",
        "complete  video\\cctv052x2004080516x01646.avi\n",
        "start  video\\cctv052x2004080516x01647.avi\n",
        "(30, 40)"
       ]
      },
      {
       "output_type": "stream",
       "stream": "stdout",
       "text": [
        "\n",
        "length  40\n",
        "complete  video\\cctv052x2004080516x01647.avi\n",
        "start  video\\cctv052x2004080516x01648.avi\n",
        "(30, 40)"
       ]
      },
      {
       "output_type": "stream",
       "stream": "stdout",
       "text": [
        "\n",
        "length  40\n",
        "complete  video\\cctv052x2004080516x01648.avi\n",
        "start  video\\cctv052x2004080516x01649.avi\n",
        "(30, 40)"
       ]
      },
      {
       "output_type": "stream",
       "stream": "stdout",
       "text": [
        "\n",
        "length  40\n",
        "complete  video\\cctv052x2004080516x01649.avi\n",
        "start  video\\cctv052x2004080516x01650.avi\n",
        "(30, 40)"
       ]
      },
      {
       "output_type": "stream",
       "stream": "stdout",
       "text": [
        "\n",
        "length  40\n",
        "complete  video\\cctv052x2004080516x01650.avi\n",
        "start  video\\cctv052x2004080517x01652.avi\n",
        "(30, 40)"
       ]
      },
      {
       "output_type": "stream",
       "stream": "stdout",
       "text": [
        "\n",
        "length  40\n",
        "complete  video\\cctv052x2004080517x01652.avi\n",
        "start  video\\cctv052x2004080517x01653.avi\n",
        "(30, 40)"
       ]
      },
      {
       "output_type": "stream",
       "stream": "stdout",
       "text": [
        "\n",
        "length  40\n",
        "complete  video\\cctv052x2004080517x01653.avi\n",
        "start  video\\cctv052x2004080517x01654.avi\n",
        "(30, 40)"
       ]
      },
      {
       "output_type": "stream",
       "stream": "stdout",
       "text": [
        "\n",
        "length  40\n",
        "complete  video\\cctv052x2004080517x01654.avi\n",
        "start  video\\cctv052x2004080517x01655.avi\n",
        "(30, 40)"
       ]
      },
      {
       "output_type": "stream",
       "stream": "stdout",
       "text": [
        "\n",
        "length  40\n",
        "complete  video\\cctv052x2004080517x01655.avi\n",
        "start  video\\cctv052x2004080517x01656.avi\n",
        "(30, 40)"
       ]
      },
      {
       "output_type": "stream",
       "stream": "stdout",
       "text": [
        "\n",
        "length  40\n",
        "complete  video\\cctv052x2004080517x01656.avi\n",
        "start  video\\cctv052x2004080517x01657.avi\n",
        "(30, 40)"
       ]
      },
      {
       "output_type": "stream",
       "stream": "stdout",
       "text": [
        "\n",
        "length  40\n",
        "complete  video\\cctv052x2004080517x01657.avi\n",
        "start  video\\cctv052x2004080517x01658.avi\n",
        "(30, 40)"
       ]
      },
      {
       "output_type": "stream",
       "stream": "stdout",
       "text": [
        "\n",
        "length  40\n",
        "complete  video\\cctv052x2004080517x01658.avi\n",
        "start  video\\cctv052x2004080517x01659.avi\n",
        "(30, 40)"
       ]
      },
      {
       "output_type": "stream",
       "stream": "stdout",
       "text": [
        "\n",
        "length  40\n",
        "complete  video\\cctv052x2004080517x01659.avi\n",
        "start  video\\cctv052x2004080517x01660.avi\n",
        "(30, 40)"
       ]
      },
      {
       "output_type": "stream",
       "stream": "stdout",
       "text": [
        "\n",
        "length  40\n",
        "complete  video\\cctv052x2004080517x01660.avi\n",
        "start  video\\cctv052x2004080517x01661.avi\n",
        "(30, 40)"
       ]
      },
      {
       "output_type": "stream",
       "stream": "stdout",
       "text": [
        "\n",
        "length  40\n",
        "complete  video\\cctv052x2004080517x01661.avi\n",
        "start  video\\cctv052x2004080517x01662.avi\n",
        "(30, 40)"
       ]
      },
      {
       "output_type": "stream",
       "stream": "stdout",
       "text": [
        "\n",
        "length  40\n",
        "complete  video\\cctv052x2004080517x01662.avi\n",
        "start  video\\cctv052x2004080517x01663.avi\n",
        "(30, 40)"
       ]
      },
      {
       "output_type": "stream",
       "stream": "stdout",
       "text": [
        "\n",
        "length  40\n",
        "complete  video\\cctv052x2004080517x01663.avi\n",
        "start  video\\cctv052x2004080517x01664.avi\n",
        "(30, 40)"
       ]
      },
      {
       "output_type": "stream",
       "stream": "stdout",
       "text": [
        "\n",
        "length  40\n",
        "complete  video\\cctv052x2004080517x01664.avi\n",
        "start  video\\cctv052x2004080517x01665.avi\n",
        "(30, 40)"
       ]
      },
      {
       "output_type": "stream",
       "stream": "stdout",
       "text": [
        "\n",
        "length  40\n",
        "complete  video\\cctv052x2004080517x01665.avi\n",
        "start  video\\cctv052x2004080518x01666.avi\n",
        "(30, 40)"
       ]
      },
      {
       "output_type": "stream",
       "stream": "stdout",
       "text": [
        "\n",
        "length  40\n",
        "complete  video\\cctv052x2004080518x01666.avi\n",
        "start  video\\cctv052x2004080518x01667.avi\n",
        "(30, 40)"
       ]
      },
      {
       "output_type": "stream",
       "stream": "stdout",
       "text": [
        "\n",
        "length  40\n",
        "complete  video\\cctv052x2004080518x01667.avi\n",
        "start  video\\cctv052x2004080518x01668.avi\n",
        "(30, 40)"
       ]
      },
      {
       "output_type": "stream",
       "stream": "stdout",
       "text": [
        "\n",
        "length  40\n",
        "complete  video\\cctv052x2004080518x01668.avi\n",
        "start  video\\cctv052x2004080518x01669.avi\n",
        "(30, 40)"
       ]
      },
      {
       "output_type": "stream",
       "stream": "stdout",
       "text": [
        "\n",
        "length  40\n",
        "complete  video\\cctv052x2004080518x01669.avi\n",
        "start  video\\cctv052x2004080518x01670.avi\n",
        "(30, 40)"
       ]
      },
      {
       "output_type": "stream",
       "stream": "stdout",
       "text": [
        "\n",
        "length  40\n",
        "complete  video\\cctv052x2004080518x01670.avi\n",
        "start  video\\cctv052x2004080518x01671.avi\n",
        "(30, 40)"
       ]
      },
      {
       "output_type": "stream",
       "stream": "stdout",
       "text": [
        "\n",
        "length  40\n",
        "complete  video\\cctv052x2004080518x01671.avi\n",
        "start  video\\cctv052x2004080518x01672.avi\n",
        "(30, 40)"
       ]
      },
      {
       "output_type": "stream",
       "stream": "stdout",
       "text": [
        "\n",
        "length  40\n",
        "complete  video\\cctv052x2004080518x01672.avi\n",
        "start  video\\cctv052x2004080518x01673.avi\n",
        "(30, 40)"
       ]
      },
      {
       "output_type": "stream",
       "stream": "stdout",
       "text": [
        "\n",
        "length  40\n",
        "complete  video\\cctv052x2004080518x01673.avi\n",
        "start  video\\cctv052x2004080518x01674.avi\n",
        "(30, 40)"
       ]
      },
      {
       "output_type": "stream",
       "stream": "stdout",
       "text": [
        "\n",
        "length  40\n",
        "complete  video\\cctv052x2004080518x01674.avi\n",
        "start  video\\cctv052x2004080518x01675.avi\n",
        "(30, 40)"
       ]
      },
      {
       "output_type": "stream",
       "stream": "stdout",
       "text": [
        "\n",
        "length  40\n",
        "complete  video\\cctv052x2004080518x01675.avi\n",
        "start  video\\cctv052x2004080518x01676.avi\n",
        "(30, 40)"
       ]
      },
      {
       "output_type": "stream",
       "stream": "stdout",
       "text": [
        "\n",
        "length  40\n",
        "complete  video\\cctv052x2004080518x01676.avi\n",
        "start  video\\cctv052x2004080518x01677.avi\n",
        "(30, 40)"
       ]
      },
      {
       "output_type": "stream",
       "stream": "stdout",
       "text": [
        "\n",
        "length  40\n",
        "complete  video\\cctv052x2004080518x01677.avi\n",
        "start  video\\cctv052x2004080519x01678.avi\n",
        "(30, 40)"
       ]
      },
      {
       "output_type": "stream",
       "stream": "stdout",
       "text": [
        "\n",
        "length  40\n",
        "complete  video\\cctv052x2004080519x01678.avi\n",
        "start  video\\cctv052x2004080519x01679.avi\n",
        "(30, 40)"
       ]
      },
      {
       "output_type": "stream",
       "stream": "stdout",
       "text": [
        "\n",
        "length  40\n",
        "complete  video\\cctv052x2004080519x01679.avi\n",
        "start  video\\cctv052x2004080519x01680.avi\n",
        "(30, 40)"
       ]
      },
      {
       "output_type": "stream",
       "stream": "stdout",
       "text": [
        "\n",
        "length  40\n",
        "complete  video\\cctv052x2004080519x01680.avi\n",
        "start  video\\cctv052x2004080519x01681.avi\n",
        "(30, 40)"
       ]
      },
      {
       "output_type": "stream",
       "stream": "stdout",
       "text": [
        "\n",
        "length  40\n",
        "complete  video\\cctv052x2004080519x01681.avi\n",
        "start  video\\cctv052x2004080519x01682.avi\n",
        "(30, 40)"
       ]
      },
      {
       "output_type": "stream",
       "stream": "stdout",
       "text": [
        "\n",
        "length  40\n",
        "complete  video\\cctv052x2004080519x01682.avi\n",
        "start  video\\cctv052x2004080519x01683.avi\n",
        "(30, 40)"
       ]
      },
      {
       "output_type": "stream",
       "stream": "stdout",
       "text": [
        "\n",
        "length  40\n",
        "complete  video\\cctv052x2004080519x01683.avi\n",
        "start  video\\cctv052x2004080519x01684.avi\n",
        "(30, 40)"
       ]
      },
      {
       "output_type": "stream",
       "stream": "stdout",
       "text": [
        "\n",
        "length  40\n",
        "complete  video\\cctv052x2004080519x01684.avi\n",
        "start  video\\cctv052x2004080519x01685.avi\n",
        "(30, 40)"
       ]
      },
      {
       "output_type": "stream",
       "stream": "stdout",
       "text": [
        "\n",
        "length  40\n",
        "complete  video\\cctv052x2004080519x01685.avi\n",
        "start  video\\cctv052x2004080519x01686.avi\n",
        "(30, 40)"
       ]
      },
      {
       "output_type": "stream",
       "stream": "stdout",
       "text": [
        "\n",
        "length  40\n",
        "complete  video\\cctv052x2004080519x01686.avi\n",
        "start  video\\cctv052x2004080519x01687.avi\n",
        "(30, 40)"
       ]
      },
      {
       "output_type": "stream",
       "stream": "stdout",
       "text": [
        "\n",
        "length  40\n",
        "complete  video\\cctv052x2004080519x01687.avi\n",
        "start  video\\cctv052x2004080519x01688.avi\n",
        "(30, 40)"
       ]
      },
      {
       "output_type": "stream",
       "stream": "stdout",
       "text": [
        "\n",
        "length  40\n",
        "complete  video\\cctv052x2004080519x01688.avi\n",
        "start  video\\cctv052x2004080519x01689.avi\n",
        "(30, 40)"
       ]
      },
      {
       "output_type": "stream",
       "stream": "stdout",
       "text": [
        "\n",
        "length  40\n",
        "complete  video\\cctv052x2004080519x01689.avi\n",
        "start  video\\cctv052x2004080519x01690.avi\n",
        "(30, 40)"
       ]
      },
      {
       "output_type": "stream",
       "stream": "stdout",
       "text": [
        "\n",
        "length  40\n",
        "complete  video\\cctv052x2004080519x01690.avi\n",
        "start  video\\cctv052x2004080519x01691.avi\n",
        "(30, 40)"
       ]
      },
      {
       "output_type": "stream",
       "stream": "stdout",
       "text": [
        "\n",
        "length  40\n",
        "complete  video\\cctv052x2004080519x01691.avi\n",
        "start  video\\cctv052x2004080519x01692.avi\n",
        "(30, 40)"
       ]
      },
      {
       "output_type": "stream",
       "stream": "stdout",
       "text": [
        "\n",
        "length  40\n",
        "complete  video\\cctv052x2004080519x01692.avi\n",
        "start  video\\cctv052x2004080519x01693.avi\n",
        "(30, 40)"
       ]
      },
      {
       "output_type": "stream",
       "stream": "stdout",
       "text": [
        "\n",
        "length  40\n",
        "complete  video\\cctv052x2004080519x01693.avi\n",
        "start  video\\cctv052x2004080520x01694.avi\n",
        "(30, 40)"
       ]
      },
      {
       "output_type": "stream",
       "stream": "stdout",
       "text": [
        "\n",
        "length  40\n",
        "complete  video\\cctv052x2004080520x01694.avi\n",
        "start  video\\cctv052x2004080520x01695.avi\n",
        "(30, 40)"
       ]
      },
      {
       "output_type": "stream",
       "stream": "stdout",
       "text": [
        "\n",
        "length  40\n",
        "complete  video\\cctv052x2004080520x01695.avi\n",
        "start  video\\cctv052x2004080520x01697.avi\n",
        "(30, 40)"
       ]
      },
      {
       "output_type": "stream",
       "stream": "stdout",
       "text": [
        "\n",
        "length  40\n",
        "complete  video\\cctv052x2004080520x01697.avi\n",
        "start  video\\cctv052x2004080520x01698.avi\n",
        "(30, 40)"
       ]
      },
      {
       "output_type": "stream",
       "stream": "stdout",
       "text": [
        "\n",
        "length  40\n",
        "complete  video\\cctv052x2004080520x01698.avi\n",
        "start  video\\cctv052x2004080520x01699.avi\n",
        "(30, 40)"
       ]
      },
      {
       "output_type": "stream",
       "stream": "stdout",
       "text": [
        "\n",
        "length  40\n",
        "complete  video\\cctv052x2004080520x01699.avi\n",
        "start  video\\cctv052x2004080520x01700.avi\n",
        "(30, 40)"
       ]
      },
      {
       "output_type": "stream",
       "stream": "stdout",
       "text": [
        "\n",
        "length  40\n",
        "complete  video\\cctv052x2004080520x01700.avi\n",
        "start  video\\cctv052x2004080606x01820.avi\n",
        "(30, 40)"
       ]
      },
      {
       "output_type": "stream",
       "stream": "stdout",
       "text": [
        "\n",
        "length  40\n",
        "complete  video\\cctv052x2004080606x01820.avi\n",
        "start  video\\cctv052x2004080606x01821.avi\n",
        "(30, 40)"
       ]
      },
      {
       "output_type": "stream",
       "stream": "stdout",
       "text": [
        "\n",
        "length  40\n",
        "complete  video\\cctv052x2004080606x01821.avi\n",
        "start  video\\cctv052x2004080606x01822.avi\n",
        "(30, 40)"
       ]
      },
      {
       "output_type": "stream",
       "stream": "stdout",
       "text": [
        "\n",
        "length  40\n",
        "complete  video\\cctv052x2004080606x01822.avi\n",
        "start  video\\cctv052x2004080606x01823.avi\n",
        "(30, 40)"
       ]
      },
      {
       "output_type": "stream",
       "stream": "stdout",
       "text": [
        "\n",
        "length  40\n",
        "complete  video\\cctv052x2004080606x01823.avi\n",
        "start  video\\cctv052x2004080606x01824.avi\n",
        "(30, 40)"
       ]
      },
      {
       "output_type": "stream",
       "stream": "stdout",
       "text": [
        "\n",
        "length  40\n",
        "complete  video\\cctv052x2004080606x01824.avi\n",
        "start  video\\cctv052x2004080606x01826.avi\n",
        "(30, 40)"
       ]
      },
      {
       "output_type": "stream",
       "stream": "stdout",
       "text": [
        "\n",
        "length  40\n",
        "complete  video\\cctv052x2004080606x01826.avi\n",
        "start  video\\cctv052x2004080606x01827.avi\n",
        "(30, 40)"
       ]
      },
      {
       "output_type": "stream",
       "stream": "stdout",
       "text": [
        "\n",
        "length  40\n",
        "complete  video\\cctv052x2004080606x01827.avi\n",
        "start  video\\cctv052x2004080606x01828.avi\n",
        "(30, 40)"
       ]
      },
      {
       "output_type": "stream",
       "stream": "stdout",
       "text": [
        "\n",
        "length  40\n",
        "complete  video\\cctv052x2004080606x01828.avi\n",
        "start  video\\cctv052x2004080606x01829.avi\n",
        "(30, 40)"
       ]
      },
      {
       "output_type": "stream",
       "stream": "stdout",
       "text": [
        "\n",
        "length  40\n",
        "complete  video\\cctv052x2004080606x01829.avi\n",
        "start  video\\cctv052x2004080606x01830.avi\n",
        "(30, 40)"
       ]
      },
      {
       "output_type": "stream",
       "stream": "stdout",
       "text": [
        "\n",
        "length  40\n",
        "complete  video\\cctv052x2004080606x01830.avi\n",
        "start  video\\cctv052x2004080606x01831.avi\n",
        "(30, 40)"
       ]
      },
      {
       "output_type": "stream",
       "stream": "stdout",
       "text": [
        "\n",
        "length  40\n",
        "complete  video\\cctv052x2004080606x01831.avi\n",
        "start  video\\cctv052x2004080606x01832.avi\n",
        "(30, 40)"
       ]
      },
      {
       "output_type": "stream",
       "stream": "stdout",
       "text": [
        "\n",
        "length  40\n",
        "complete  video\\cctv052x2004080606x01832.avi\n",
        "start  video\\cctv052x2004080606x01833.avi\n",
        "(30, 40)"
       ]
      },
      {
       "output_type": "stream",
       "stream": "stdout",
       "text": [
        "\n",
        "length  40\n",
        "complete  video\\cctv052x2004080606x01833.avi\n",
        "start  video\\cctv052x2004080606x01834.avi\n",
        "(30, 40)"
       ]
      },
      {
       "output_type": "stream",
       "stream": "stdout",
       "text": [
        "\n",
        "length  40\n",
        "complete  video\\cctv052x2004080606x01834.avi\n",
        "start  video\\cctv052x2004080607x01835.avi\n",
        "(30, 40)"
       ]
      },
      {
       "output_type": "stream",
       "stream": "stdout",
       "text": [
        "\n",
        "length  40\n",
        "complete  video\\cctv052x2004080607x01835.avi\n",
        "start  video\\cctv052x2004080607x01836.avi\n",
        "(30, 40)"
       ]
      },
      {
       "output_type": "stream",
       "stream": "stdout",
       "text": [
        "\n",
        "length  40\n",
        "complete  video\\cctv052x2004080607x01836.avi\n",
        "start  video\\cctv052x2004080607x01837.avi\n",
        "(30, 40)"
       ]
      },
      {
       "output_type": "stream",
       "stream": "stdout",
       "text": [
        "\n",
        "length  40\n",
        "complete  video\\cctv052x2004080607x01837.avi\n",
        "start  video\\cctv052x2004080607x01838.avi\n",
        "(30, 40)"
       ]
      },
      {
       "output_type": "stream",
       "stream": "stdout",
       "text": [
        "\n",
        "length  40\n",
        "complete  video\\cctv052x2004080607x01838.avi\n",
        "start  video\\cctv052x2004080607x01839.avi\n",
        "(30, 40)"
       ]
      },
      {
       "output_type": "stream",
       "stream": "stdout",
       "text": [
        "\n",
        "length  40\n",
        "complete  video\\cctv052x2004080607x01839.avi\n",
        "start  video\\cctv052x2004080607x01840.avi\n",
        "(30, 40)"
       ]
      },
      {
       "output_type": "stream",
       "stream": "stdout",
       "text": [
        "\n",
        "length  40\n",
        "complete  video\\cctv052x2004080607x01840.avi\n",
        "start  video\\cctv052x2004080607x01841.avi\n",
        "(30, 40)"
       ]
      },
      {
       "output_type": "stream",
       "stream": "stdout",
       "text": [
        "\n",
        "length  40\n",
        "complete  video\\cctv052x2004080607x01841.avi\n",
        "start  video\\cctv052x2004080607x01842.avi\n",
        "(30, 40)"
       ]
      },
      {
       "output_type": "stream",
       "stream": "stdout",
       "text": [
        "\n",
        "length  40\n",
        "complete  video\\cctv052x2004080607x01842.avi\n",
        "start  video\\cctv052x2004080607x01843.avi\n",
        "(30, 40)"
       ]
      },
      {
       "output_type": "stream",
       "stream": "stdout",
       "text": [
        "\n",
        "length  40\n",
        "complete  video\\cctv052x2004080607x01843.avi\n",
        "start  video\\cctv052x2004080607x01844.avi\n",
        "(30, 40)"
       ]
      },
      {
       "output_type": "stream",
       "stream": "stdout",
       "text": [
        "\n",
        "length  40\n",
        "complete  video\\cctv052x2004080607x01844.avi\n",
        "start  video\\cctv052x2004080607x01845.avi\n",
        "(30, 40)"
       ]
      },
      {
       "output_type": "stream",
       "stream": "stdout",
       "text": [
        "\n",
        "length  40\n",
        "complete  video\\cctv052x2004080607x01845.avi\n",
        "start  video\\cctv052x2004080607x01846.avi\n",
        "(30, 40)"
       ]
      },
      {
       "output_type": "stream",
       "stream": "stdout",
       "text": [
        "\n",
        "length  40\n",
        "complete  video\\cctv052x2004080607x01846.avi\n",
        "start  video\\cctv052x2004080607x01847.avi\n",
        "(30, 40)"
       ]
      },
      {
       "output_type": "stream",
       "stream": "stdout",
       "text": [
        "\n",
        "length  40\n",
        "complete  video\\cctv052x2004080607x01847.avi\n",
        "start  video\\cctv052x2004080607x01848.avi\n",
        "(30, 40)"
       ]
      },
      {
       "output_type": "stream",
       "stream": "stdout",
       "text": [
        "\n",
        "length  40\n",
        "complete  video\\cctv052x2004080607x01848.avi\n",
        "start  video\\cctv052x2004080608x01849.avi\n",
        "(30, 40)"
       ]
      },
      {
       "output_type": "stream",
       "stream": "stdout",
       "text": [
        "\n",
        "length  40\n",
        "complete  video\\cctv052x2004080608x01849.avi\n",
        "start  video\\cctv052x2004080608x01850.avi\n",
        "(30, 40)"
       ]
      },
      {
       "output_type": "stream",
       "stream": "stdout",
       "text": [
        "\n",
        "length  40\n",
        "complete  video\\cctv052x2004080608x01850.avi\n",
        "start  video\\cctv052x2004080608x01851.avi\n",
        "(30, 40)"
       ]
      },
      {
       "output_type": "stream",
       "stream": "stdout",
       "text": [
        "\n",
        "length  40\n",
        "complete  video\\cctv052x2004080608x01851.avi\n",
        "start  video\\cctv052x2004080608x01852.avi\n",
        "(30, 40)"
       ]
      },
      {
       "output_type": "stream",
       "stream": "stdout",
       "text": [
        "\n",
        "length  40\n",
        "complete  video\\cctv052x2004080608x01852.avi\n",
        "start  video\\cctv052x2004080608x01853.avi\n",
        "(30, 40)"
       ]
      },
      {
       "output_type": "stream",
       "stream": "stdout",
       "text": [
        "\n",
        "length  40\n",
        "complete  video\\cctv052x2004080608x01853.avi\n",
        "start  video\\cctv052x2004080608x01854.avi\n",
        "(30, 40)"
       ]
      },
      {
       "output_type": "stream",
       "stream": "stdout",
       "text": [
        "\n",
        "length  40\n",
        "complete  video\\cctv052x2004080608x01854.avi\n",
        "start  video\\cctv052x2004080608x01855.avi\n",
        "(30, 40)"
       ]
      },
      {
       "output_type": "stream",
       "stream": "stdout",
       "text": [
        "\n",
        "length  40\n",
        "complete  video\\cctv052x2004080608x01855.avi\n",
        "start  video\\cctv052x2004080608x01856.avi\n",
        "(30, 40)"
       ]
      },
      {
       "output_type": "stream",
       "stream": "stdout",
       "text": [
        "\n",
        "length  40\n",
        "complete  video\\cctv052x2004080608x01856.avi\n",
        "start  video\\cctv052x2004080608x01857.avi\n",
        "(30, 40)"
       ]
      },
      {
       "output_type": "stream",
       "stream": "stdout",
       "text": [
        "\n",
        "length  40\n",
        "complete  video\\cctv052x2004080608x01857.avi\n",
        "start  video\\cctv052x2004080608x01858.avi\n",
        "(30, 40)"
       ]
      },
      {
       "output_type": "stream",
       "stream": "stdout",
       "text": [
        "\n",
        "length  40\n",
        "complete  video\\cctv052x2004080608x01858.avi\n",
        "start  video\\cctv052x2004080609x01859.avi\n",
        "(30, 40)"
       ]
      },
      {
       "output_type": "stream",
       "stream": "stdout",
       "text": [
        "\n",
        "length  40\n",
        "complete  video\\cctv052x2004080609x01859.avi\n",
        "start  video\\cctv052x2004080609x01860.avi\n",
        "(30, 40)"
       ]
      },
      {
       "output_type": "stream",
       "stream": "stdout",
       "text": [
        "\n",
        "length  40\n",
        "complete  video\\cctv052x2004080609x01860.avi\n",
        "start  video\\cctv052x2004080609x01861.avi\n",
        "(30, 40)"
       ]
      },
      {
       "output_type": "stream",
       "stream": "stdout",
       "text": [
        "\n",
        "length  40\n",
        "complete  video\\cctv052x2004080609x01861.avi\n",
        "start  video\\cctv052x2004080609x01862.avi\n",
        "(30, 40)"
       ]
      },
      {
       "output_type": "stream",
       "stream": "stdout",
       "text": [
        "\n",
        "length  40\n",
        "complete  video\\cctv052x2004080609x01862.avi\n",
        "start  video\\cctv052x2004080609x01863.avi\n",
        "(30, 40)"
       ]
      },
      {
       "output_type": "stream",
       "stream": "stdout",
       "text": [
        "\n",
        "length  40\n",
        "complete  video\\cctv052x2004080609x01863.avi\n",
        "start  video\\cctv052x2004080609x01864.avi\n",
        "(30, 40)"
       ]
      },
      {
       "output_type": "stream",
       "stream": "stdout",
       "text": [
        "\n",
        "length  40\n",
        "complete  video\\cctv052x2004080609x01864.avi\n",
        "start  video\\cctv052x2004080609x01865.avi\n",
        "(30, 40)"
       ]
      },
      {
       "output_type": "stream",
       "stream": "stdout",
       "text": [
        "\n",
        "length  40\n",
        "complete  video\\cctv052x2004080609x01865.avi\n",
        "start  video\\cctv052x2004080609x01866.avi\n",
        "(30, 40)"
       ]
      },
      {
       "output_type": "stream",
       "stream": "stdout",
       "text": [
        "\n",
        "length  40\n",
        "complete  video\\cctv052x2004080609x01866.avi\n",
        "start  video\\cctv052x2004080609x01867.avi\n",
        "(30, 40)"
       ]
      },
      {
       "output_type": "stream",
       "stream": "stdout",
       "text": [
        "\n",
        "length  40\n",
        "complete  video\\cctv052x2004080609x01867.avi\n",
        "start  video\\cctv052x2004080609x01869.avi\n",
        "(30, 40)"
       ]
      },
      {
       "output_type": "stream",
       "stream": "stdout",
       "text": [
        "\n",
        "length  40\n",
        "complete  video\\cctv052x2004080609x01869.avi\n",
        "start  video\\cctv052x2004080609x01870.avi\n",
        "(30, 40)"
       ]
      },
      {
       "output_type": "stream",
       "stream": "stdout",
       "text": [
        "\n",
        "length  40\n",
        "complete  video\\cctv052x2004080609x01870.avi\n",
        "start  video\\cctv052x2004080609x01871.avi\n",
        "(30, 40)"
       ]
      },
      {
       "output_type": "stream",
       "stream": "stdout",
       "text": [
        "\n",
        "length  40\n",
        "complete  video\\cctv052x2004080609x01871.avi\n",
        "start  video\\cctv052x2004080609x01872.avi\n",
        "(30, 40)"
       ]
      },
      {
       "output_type": "stream",
       "stream": "stdout",
       "text": [
        "\n",
        "length  40\n",
        "complete  video\\cctv052x2004080609x01872.avi\n",
        "start  video\\cctv052x2004080609x01873.avi\n",
        "(30, 40)"
       ]
      },
      {
       "output_type": "stream",
       "stream": "stdout",
       "text": [
        "\n",
        "length  40\n",
        "complete  video\\cctv052x2004080609x01873.avi\n",
        "start  video\\cctv052x2004080609x01874.avi\n",
        "(30, 40)"
       ]
      },
      {
       "output_type": "stream",
       "stream": "stdout",
       "text": [
        "\n",
        "length  40\n",
        "complete  video\\cctv052x2004080609x01874.avi\n",
        "start  video\\cctv052x2004080609x01875.avi\n",
        "(30, 40)"
       ]
      },
      {
       "output_type": "stream",
       "stream": "stdout",
       "text": [
        "\n",
        "length  40\n",
        "complete  video\\cctv052x2004080609x01875.avi\n",
        "start  video\\cctv052x2004080609x01876.avi\n",
        "(30, 40)"
       ]
      },
      {
       "output_type": "stream",
       "stream": "stdout",
       "text": [
        "\n",
        "length  40\n",
        "complete  video\\cctv052x2004080609x01876.avi\n",
        "start  video\\cctv052x2004080610x01877.avi\n",
        "(30, 40)"
       ]
      },
      {
       "output_type": "stream",
       "stream": "stdout",
       "text": [
        "\n",
        "length  40\n",
        "complete  video\\cctv052x2004080610x01877.avi\n",
        "start  video\\cctv052x2004080610x01878.avi\n",
        "(30, 40)"
       ]
      },
      {
       "output_type": "stream",
       "stream": "stdout",
       "text": [
        "\n",
        "length  40\n",
        "complete  video\\cctv052x2004080610x01878.avi\n",
        "start  video\\cctv052x2004080610x01879.avi\n",
        "(30, 40)"
       ]
      },
      {
       "output_type": "stream",
       "stream": "stdout",
       "text": [
        "\n",
        "length  40\n",
        "complete  video\\cctv052x2004080610x01879.avi\n",
        "start  video\\cctv052x2004080610x01880.avi\n",
        "(30, 40)"
       ]
      },
      {
       "output_type": "stream",
       "stream": "stdout",
       "text": [
        "\n",
        "length  40\n",
        "complete  video\\cctv052x2004080610x01880.avi\n",
        "start  video\\cctv052x2004080610x01881.avi\n",
        "(30, 40)"
       ]
      },
      {
       "output_type": "stream",
       "stream": "stdout",
       "text": [
        "\n",
        "length  40\n",
        "complete  video\\cctv052x2004080610x01881.avi\n",
        "start  video\\cctv052x2004080610x01882.avi\n",
        "(30, 40)"
       ]
      },
      {
       "output_type": "stream",
       "stream": "stdout",
       "text": [
        "\n",
        "length  40\n",
        "complete  video\\cctv052x2004080610x01882.avi\n",
        "start  video\\cctv052x2004080610x01883.avi\n",
        "(30, 40)"
       ]
      },
      {
       "output_type": "stream",
       "stream": "stdout",
       "text": [
        "\n",
        "length  40\n",
        "complete  video\\cctv052x2004080610x01883.avi\n",
        "start  video\\cctv052x2004080610x01884.avi\n",
        "(30, 40)"
       ]
      },
      {
       "output_type": "stream",
       "stream": "stdout",
       "text": [
        "\n",
        "length  40\n",
        "complete  video\\cctv052x2004080610x01884.avi\n",
        "start  video\\cctv052x2004080610x01885.avi\n",
        "(30, 40)"
       ]
      },
      {
       "output_type": "stream",
       "stream": "stdout",
       "text": [
        "\n",
        "length  40\n",
        "complete  video\\cctv052x2004080610x01885.avi\n",
        "start  video\\cctv052x2004080610x01886.avi\n",
        "(30, 40)"
       ]
      },
      {
       "output_type": "stream",
       "stream": "stdout",
       "text": [
        "\n",
        "length  40\n",
        "complete  video\\cctv052x2004080610x01886.avi\n",
        "start  video\\cctv052x2004080610x01887.avi\n",
        "(30, 40)"
       ]
      },
      {
       "output_type": "stream",
       "stream": "stdout",
       "text": [
        "\n",
        "length  40\n",
        "complete  video\\cctv052x2004080610x01887.avi\n",
        "start  video\\cctv052x2004080610x01889.avi\n",
        "(30, 40)"
       ]
      },
      {
       "output_type": "stream",
       "stream": "stdout",
       "text": [
        "\n",
        "length  40\n",
        "complete  video\\cctv052x2004080610x01889.avi\n",
        "start  video\\cctv052x2004080610x01890.avi\n",
        "(30, 40)"
       ]
      },
      {
       "output_type": "stream",
       "stream": "stdout",
       "text": [
        "\n",
        "length  40\n",
        "complete  video\\cctv052x2004080610x01890.avi\n",
        "start  video\\cctv052x2004080610x01891.avi\n",
        "(30, 40)"
       ]
      },
      {
       "output_type": "stream",
       "stream": "stdout",
       "text": [
        "\n",
        "length  40\n",
        "complete  video\\cctv052x2004080610x01891.avi\n",
        "start  video\\cctv052x2004080610x01892.avi\n",
        "(30, 40)"
       ]
      },
      {
       "output_type": "stream",
       "stream": "stdout",
       "text": [
        "\n",
        "length  40\n",
        "complete  video\\cctv052x2004080610x01892.avi\n",
        "start  video\\cctv052x2004080611x01894.avi\n",
        "(30, 40)"
       ]
      },
      {
       "output_type": "stream",
       "stream": "stdout",
       "text": [
        "\n",
        "length  40\n",
        "complete  video\\cctv052x2004080611x01894.avi\n",
        "start  video\\cctv052x2004080611x01895.avi\n",
        "(30, 40)"
       ]
      },
      {
       "output_type": "stream",
       "stream": "stdout",
       "text": [
        "\n",
        "length  40\n",
        "complete  video\\cctv052x2004080611x01895.avi\n",
        "start  video\\cctv052x2004080611x01896.avi\n",
        "(30, 40)"
       ]
      },
      {
       "output_type": "stream",
       "stream": "stdout",
       "text": [
        "\n",
        "length  40\n",
        "complete  video\\cctv052x2004080611x01896.avi\n",
        "start  video\\cctv052x2004080611x01897.avi\n",
        "(30, 40)"
       ]
      },
      {
       "output_type": "stream",
       "stream": "stdout",
       "text": [
        "\n",
        "length  40\n",
        "complete  video\\cctv052x2004080611x01897.avi\n",
        "start  video\\cctv052x2004080611x01898.avi\n",
        "(30, 40)"
       ]
      },
      {
       "output_type": "stream",
       "stream": "stdout",
       "text": [
        "\n",
        "length  40\n",
        "complete  video\\cctv052x2004080611x01898.avi\n",
        "start  video\\cctv052x2004080611x01899.avi\n",
        "(30, 40)"
       ]
      },
      {
       "output_type": "stream",
       "stream": "stdout",
       "text": [
        "\n",
        "length  40\n",
        "complete  video\\cctv052x2004080611x01899.avi\n",
        "start  video\\cctv052x2004080611x01900.avi\n",
        "(30, 40)"
       ]
      },
      {
       "output_type": "stream",
       "stream": "stdout",
       "text": [
        "\n",
        "length  40\n",
        "complete  video\\cctv052x2004080611x01900.avi\n",
        "start  video\\cctv052x2004080611x01901.avi\n",
        "(30, 40)"
       ]
      },
      {
       "output_type": "stream",
       "stream": "stdout",
       "text": [
        "\n",
        "length  40\n",
        "complete  video\\cctv052x2004080611x01901.avi\n",
        "start  video\\cctv052x2004080611x01902.avi\n",
        "(30, 40)"
       ]
      },
      {
       "output_type": "stream",
       "stream": "stdout",
       "text": [
        "\n",
        "length  40\n",
        "complete  video\\cctv052x2004080611x01902.avi\n",
        "start  video\\cctv052x2004080611x01903.avi\n",
        "(30, 40)"
       ]
      },
      {
       "output_type": "stream",
       "stream": "stdout",
       "text": [
        "\n",
        "length  40\n",
        "complete  video\\cctv052x2004080611x01903.avi\n",
        "start  video\\cctv052x2004080611x01904.avi\n",
        "(30, 40)"
       ]
      },
      {
       "output_type": "stream",
       "stream": "stdout",
       "text": [
        "\n",
        "length  40\n",
        "complete  video\\cctv052x2004080611x01904.avi\n",
        "start  video\\cctv052x2004080611x01905.avi\n",
        "(30, 40)"
       ]
      },
      {
       "output_type": "stream",
       "stream": "stdout",
       "text": [
        "\n",
        "length  40\n",
        "complete  video\\cctv052x2004080611x01905.avi\n",
        "start  video\\cctv052x2004080611x01906.avi\n",
        "(30, 40)"
       ]
      },
      {
       "output_type": "stream",
       "stream": "stdout",
       "text": [
        "\n",
        "length  40\n",
        "complete  video\\cctv052x2004080611x01906.avi\n",
        "start  video\\cctv052x2004080611x01907.avi\n",
        "(30, 40)"
       ]
      },
      {
       "output_type": "stream",
       "stream": "stdout",
       "text": [
        "\n",
        "length  40\n",
        "complete  video\\cctv052x2004080611x01907.avi\n",
        "start  video\\cctv052x2004080612x00000.avi\n",
        "(30, 40)"
       ]
      },
      {
       "output_type": "stream",
       "stream": "stdout",
       "text": [
        "\n",
        "length  40\n",
        "complete  video\\cctv052x2004080612x00000.avi\n",
        "start  video\\cctv052x2004080612x00002.avi\n",
        "(30, 40)"
       ]
      },
      {
       "output_type": "stream",
       "stream": "stdout",
       "text": [
        "\n",
        "length  40\n",
        "complete  video\\cctv052x2004080612x00002.avi\n",
        "start  video\\cctv052x2004080612x00003.avi\n",
        "(30, 40)"
       ]
      },
      {
       "output_type": "stream",
       "stream": "stdout",
       "text": [
        "\n",
        "length  40\n",
        "complete  video\\cctv052x2004080612x00003.avi\n",
        "start  video\\cctv052x2004080612x00004.avi\n",
        "(30, 40)"
       ]
      },
      {
       "output_type": "stream",
       "stream": "stdout",
       "text": [
        "\n",
        "length  40\n",
        "complete  video\\cctv052x2004080612x00004.avi\n",
        "start  video\\cctv052x2004080612x00005.avi\n",
        "(30, 40)"
       ]
      },
      {
       "output_type": "stream",
       "stream": "stdout",
       "text": [
        "\n",
        "length  40\n",
        "complete  video\\cctv052x2004080612x00005.avi\n",
        "start  video\\cctv052x2004080612x00006.avi\n",
        "(30, 40)"
       ]
      },
      {
       "output_type": "stream",
       "stream": "stdout",
       "text": [
        "\n",
        "length  40\n",
        "complete  video\\cctv052x2004080612x00006.avi\n",
        "start  video\\cctv052x2004080612x00007.avi\n",
        "(30, 40)"
       ]
      },
      {
       "output_type": "stream",
       "stream": "stdout",
       "text": [
        "\n",
        "length  40\n",
        "complete  video\\cctv052x2004080612x00007.avi\n",
        "start  video\\cctv052x2004080612x01908.avi\n",
        "(30, 40)"
       ]
      },
      {
       "output_type": "stream",
       "stream": "stdout",
       "text": [
        "\n",
        "length  40\n",
        "complete  video\\cctv052x2004080612x01908.avi\n",
        "start  video\\cctv052x2004080612x01909.avi\n",
        "(30, 40)"
       ]
      },
      {
       "output_type": "stream",
       "stream": "stdout",
       "text": [
        "\n",
        "length  40\n",
        "complete  video\\cctv052x2004080612x01909.avi\n",
        "start  video\\cctv052x2004080612x01910.avi\n",
        "(30, 40)"
       ]
      },
      {
       "output_type": "stream",
       "stream": "stdout",
       "text": [
        "\n",
        "length  40\n",
        "complete  video\\cctv052x2004080612x01910.avi\n",
        "start  video\\cctv052x2004080612x01911.avi\n",
        "(30, 40)"
       ]
      },
      {
       "output_type": "stream",
       "stream": "stdout",
       "text": [
        "\n",
        "length  40\n",
        "complete  video\\cctv052x2004080612x01911.avi\n",
        "start  video\\cctv052x2004080612x01912.avi\n",
        "(30, 40)"
       ]
      },
      {
       "output_type": "stream",
       "stream": "stdout",
       "text": [
        "\n",
        "length  40\n",
        "complete  video\\cctv052x2004080612x01912.avi\n",
        "start  video\\cctv052x2004080612x01913.avi\n",
        "(30, 40)"
       ]
      },
      {
       "output_type": "stream",
       "stream": "stdout",
       "text": [
        "\n",
        "length  40\n",
        "complete  video\\cctv052x2004080612x01913.avi\n",
        "start  video\\cctv052x2004080612x01914.avi\n",
        "(30, 40)"
       ]
      },
      {
       "output_type": "stream",
       "stream": "stdout",
       "text": [
        "\n",
        "length  40\n",
        "complete  video\\cctv052x2004080612x01914.avi\n",
        "start  video\\cctv052x2004080612x01915.avi\n",
        "(30, 40)"
       ]
      },
      {
       "output_type": "stream",
       "stream": "stdout",
       "text": [
        "\n",
        "length  40\n",
        "complete  video\\cctv052x2004080612x01915.avi\n",
        "start  video\\cctv052x2004080613x00008.avi\n",
        "(30, 40)"
       ]
      },
      {
       "output_type": "stream",
       "stream": "stdout",
       "text": [
        "\n",
        "length  40\n",
        "complete  video\\cctv052x2004080613x00008.avi\n",
        "start  video\\cctv052x2004080613x00009.avi\n",
        "(30, 40)"
       ]
      },
      {
       "output_type": "stream",
       "stream": "stdout",
       "text": [
        "\n",
        "length  40\n",
        "complete  video\\cctv052x2004080613x00009.avi\n",
        "start  video\\cctv052x2004080613x00010.avi\n",
        "(30, 40)"
       ]
      },
      {
       "output_type": "stream",
       "stream": "stdout",
       "text": [
        "\n",
        "length  40\n",
        "complete  video\\cctv052x2004080613x00010.avi\n",
        "start  video\\cctv052x2004080613x00011.avi\n",
        "(30, 40)"
       ]
      },
      {
       "output_type": "stream",
       "stream": "stdout",
       "text": [
        "\n",
        "length  40\n",
        "complete  video\\cctv052x2004080613x00011.avi\n",
        "start  video\\cctv052x2004080613x00012.avi\n",
        "(30, 40)"
       ]
      },
      {
       "output_type": "stream",
       "stream": "stdout",
       "text": [
        "\n",
        "length  40\n",
        "complete  video\\cctv052x2004080613x00012.avi\n",
        "start  video\\cctv052x2004080613x00013.avi\n",
        "(30, 40)"
       ]
      },
      {
       "output_type": "stream",
       "stream": "stdout",
       "text": [
        "\n",
        "length  40\n",
        "complete  video\\cctv052x2004080613x00013.avi\n",
        "start  video\\cctv052x2004080613x00014.avi\n",
        "(30, 40)"
       ]
      },
      {
       "output_type": "stream",
       "stream": "stdout",
       "text": [
        "\n",
        "length  40\n",
        "complete  video\\cctv052x2004080613x00014.avi\n",
        "start  video\\cctv052x2004080613x00015.avi\n",
        "(30, 40)"
       ]
      },
      {
       "output_type": "stream",
       "stream": "stdout",
       "text": [
        "\n",
        "length  40\n",
        "complete  video\\cctv052x2004080613x00015.avi\n",
        "start  video\\cctv052x2004080613x00016.avi\n",
        "(30, 40)"
       ]
      },
      {
       "output_type": "stream",
       "stream": "stdout",
       "text": [
        "\n",
        "length  40\n",
        "complete  video\\cctv052x2004080613x00016.avi\n",
        "start  video\\cctv052x2004080613x00017.avi\n",
        "(30, 40)"
       ]
      },
      {
       "output_type": "stream",
       "stream": "stdout",
       "text": [
        "\n",
        "length  40\n",
        "complete  video\\cctv052x2004080613x00017.avi\n",
        "start  video\\cctv052x2004080613x00018.avi\n",
        "(30, 40)"
       ]
      },
      {
       "output_type": "stream",
       "stream": "stdout",
       "text": [
        "\n",
        "length  40\n",
        "complete  video\\cctv052x2004080613x00018.avi\n",
        "start  video\\cctv052x2004080614x00019.avi\n",
        "(30, 40)"
       ]
      },
      {
       "output_type": "stream",
       "stream": "stdout",
       "text": [
        "\n",
        "length  40\n",
        "complete  video\\cctv052x2004080614x00019.avi\n",
        "start  video\\cctv052x2004080614x00020.avi\n",
        "(30, 40)"
       ]
      },
      {
       "output_type": "stream",
       "stream": "stdout",
       "text": [
        "\n",
        "length  40\n",
        "complete  video\\cctv052x2004080614x00020.avi\n",
        "start  video\\cctv052x2004080614x00021.avi\n",
        "(30, 40)"
       ]
      },
      {
       "output_type": "stream",
       "stream": "stdout",
       "text": [
        "\n",
        "length  40\n",
        "complete  video\\cctv052x2004080614x00021.avi\n",
        "start  video\\cctv052x2004080614x00022.avi\n",
        "(30, 40)"
       ]
      },
      {
       "output_type": "stream",
       "stream": "stdout",
       "text": [
        "\n",
        "length  40\n",
        "complete  video\\cctv052x2004080614x00022.avi\n",
        "start  video\\cctv052x2004080614x00023.avi\n",
        "(30, 40)"
       ]
      },
      {
       "output_type": "stream",
       "stream": "stdout",
       "text": [
        "\n",
        "length  40\n",
        "complete  video\\cctv052x2004080614x00023.avi\n",
        "start  video\\cctv052x2004080614x00024.avi\n",
        "(30, 40)"
       ]
      },
      {
       "output_type": "stream",
       "stream": "stdout",
       "text": [
        "\n",
        "length  40\n",
        "complete  video\\cctv052x2004080614x00024.avi\n",
        "start  video\\cctv052x2004080614x00025.avi\n",
        "(30, 40)"
       ]
      },
      {
       "output_type": "stream",
       "stream": "stdout",
       "text": [
        "\n",
        "length  40\n",
        "complete  video\\cctv052x2004080614x00025.avi\n",
        "start  video\\cctv052x2004080614x00026.avi\n",
        "(30, 40)"
       ]
      },
      {
       "output_type": "stream",
       "stream": "stdout",
       "text": [
        "\n",
        "length  40\n",
        "complete  video\\cctv052x2004080614x00026.avi\n",
        "start  video\\cctv052x2004080614x00027.avi\n",
        "(30, 40)"
       ]
      },
      {
       "output_type": "stream",
       "stream": "stdout",
       "text": [
        "\n",
        "length  40\n",
        "complete  video\\cctv052x2004080614x00027.avi\n",
        "start  video\\cctv052x2004080615x00028.avi\n",
        "(30, 40)"
       ]
      },
      {
       "output_type": "stream",
       "stream": "stdout",
       "text": [
        "\n",
        "length  40\n",
        "complete  video\\cctv052x2004080615x00028.avi\n",
        "start  video\\cctv052x2004080615x00029.avi\n",
        "(30, 40)"
       ]
      },
      {
       "output_type": "stream",
       "stream": "stdout",
       "text": [
        "\n",
        "length  40\n",
        "complete  video\\cctv052x2004080615x00029.avi\n",
        "start  video\\cctv052x2004080615x00030.avi\n",
        "(30, 40)"
       ]
      },
      {
       "output_type": "stream",
       "stream": "stdout",
       "text": [
        "\n",
        "length  40\n",
        "complete  video\\cctv052x2004080615x00030.avi\n",
        "start  video\\cctv052x2004080615x00031.avi\n",
        "(30, 40)"
       ]
      },
      {
       "output_type": "stream",
       "stream": "stdout",
       "text": [
        "\n",
        "length  40\n",
        "complete  video\\cctv052x2004080615x00031.avi\n",
        "start  video\\cctv052x2004080615x00032.avi\n",
        "(30, 40)"
       ]
      },
      {
       "output_type": "stream",
       "stream": "stdout",
       "text": [
        "\n",
        "length  40\n",
        "complete  video\\cctv052x2004080615x00032.avi\n",
        "start  video\\cctv052x2004080615x00033.avi\n",
        "(30, 40)"
       ]
      },
      {
       "output_type": "stream",
       "stream": "stdout",
       "text": [
        "\n",
        "length  40\n",
        "complete  video\\cctv052x2004080615x00033.avi\n",
        "start  video\\cctv052x2004080615x00034.avi\n",
        "(30, 40)"
       ]
      },
      {
       "output_type": "stream",
       "stream": "stdout",
       "text": [
        "\n",
        "length  40\n",
        "complete  video\\cctv052x2004080615x00034.avi\n",
        "start  video\\cctv052x2004080615x00035.avi\n",
        "(30, 40)"
       ]
      },
      {
       "output_type": "stream",
       "stream": "stdout",
       "text": [
        "\n",
        "length  40\n",
        "complete  video\\cctv052x2004080615x00035.avi\n",
        "start  video\\cctv052x2004080615x00036.avi\n",
        "(30, 40)"
       ]
      },
      {
       "output_type": "stream",
       "stream": "stdout",
       "text": [
        "\n",
        "length  40\n",
        "complete  video\\cctv052x2004080615x00036.avi\n",
        "start  video\\cctv052x2004080615x00037.avi\n",
        "(30, 40)"
       ]
      },
      {
       "output_type": "stream",
       "stream": "stdout",
       "text": [
        "\n",
        "length  40\n",
        "complete  video\\cctv052x2004080615x00037.avi\n",
        "start  video\\cctv052x2004080615x00038.avi\n",
        "(30, 40)"
       ]
      },
      {
       "output_type": "stream",
       "stream": "stdout",
       "text": [
        "\n",
        "length  40\n",
        "complete  video\\cctv052x2004080615x00038.avi\n",
        "start  video\\cctv052x2004080615x00039.avi\n",
        "(30, 40)"
       ]
      },
      {
       "output_type": "stream",
       "stream": "stdout",
       "text": [
        "\n",
        "length  40\n",
        "complete  video\\cctv052x2004080615x00039.avi\n",
        "start  video\\cctv052x2004080615x00040.avi\n",
        "(30, 40)"
       ]
      },
      {
       "output_type": "stream",
       "stream": "stdout",
       "text": [
        "\n",
        "length  40\n",
        "complete  video\\cctv052x2004080615x00040.avi\n",
        "start  video\\cctv052x2004080615x00041.avi\n",
        "(30, 40)"
       ]
      },
      {
       "output_type": "stream",
       "stream": "stdout",
       "text": [
        "\n",
        "length  40\n",
        "complete  video\\cctv052x2004080615x00041.avi\n",
        "start  video\\cctv052x2004080615x00044.avi\n",
        "(30, 40)"
       ]
      },
      {
       "output_type": "stream",
       "stream": "stdout",
       "text": [
        "\n",
        "length  40\n",
        "complete  video\\cctv052x2004080615x00044.avi\n",
        "start  video\\cctv052x2004080615x00045.avi\n",
        "(30, 40)"
       ]
      },
      {
       "output_type": "stream",
       "stream": "stdout",
       "text": [
        "\n",
        "length  40\n",
        "complete  video\\cctv052x2004080615x00045.avi\n",
        "start  video\\cctv052x2004080616x00046.avi\n",
        "(30, 40)"
       ]
      },
      {
       "output_type": "stream",
       "stream": "stdout",
       "text": [
        "\n",
        "length  40\n",
        "complete  video\\cctv052x2004080616x00046.avi\n",
        "start  video\\cctv052x2004080616x00047.avi\n",
        "(30, 40)"
       ]
      },
      {
       "output_type": "stream",
       "stream": "stdout",
       "text": [
        "\n",
        "length  40\n",
        "complete  video\\cctv052x2004080616x00047.avi\n",
        "start  video\\cctv052x2004080616x00048.avi\n",
        "(30, 40)"
       ]
      },
      {
       "output_type": "stream",
       "stream": "stdout",
       "text": [
        "\n",
        "length  40\n",
        "complete  video\\cctv052x2004080616x00048.avi\n",
        "start  video\\cctv052x2004080616x00049.avi\n",
        "(30, 40)"
       ]
      },
      {
       "output_type": "stream",
       "stream": "stdout",
       "text": [
        "\n",
        "length  40\n",
        "complete  video\\cctv052x2004080616x00049.avi\n",
        "start  video\\cctv052x2004080616x00050.avi\n",
        "(30, 40)"
       ]
      },
      {
       "output_type": "stream",
       "stream": "stdout",
       "text": [
        "\n",
        "length  40\n",
        "complete  video\\cctv052x2004080616x00050.avi\n",
        "start  video\\cctv052x2004080616x00051.avi\n",
        "(30, 40)"
       ]
      },
      {
       "output_type": "stream",
       "stream": "stdout",
       "text": [
        "\n",
        "length  40\n",
        "complete  video\\cctv052x2004080616x00051.avi\n",
        "start  video\\cctv052x2004080616x00052.avi\n",
        "(30, 40)"
       ]
      },
      {
       "output_type": "stream",
       "stream": "stdout",
       "text": [
        "\n",
        "length  40\n",
        "complete  video\\cctv052x2004080616x00052.avi\n",
        "start  video\\cctv052x2004080616x00053.avi\n",
        "(30, 40)"
       ]
      },
      {
       "output_type": "stream",
       "stream": "stdout",
       "text": [
        "\n",
        "length  40\n",
        "complete  video\\cctv052x2004080616x00053.avi\n",
        "start  video\\cctv052x2004080616x00054.avi\n",
        "(30, 40)"
       ]
      },
      {
       "output_type": "stream",
       "stream": "stdout",
       "text": [
        "\n",
        "length  40\n",
        "complete  video\\cctv052x2004080616x00054.avi\n",
        "start  video\\cctv052x2004080616x00055.avi\n",
        "(30, 40)"
       ]
      },
      {
       "output_type": "stream",
       "stream": "stdout",
       "text": [
        "\n",
        "length  40\n",
        "complete  video\\cctv052x2004080616x00055.avi\n",
        "start  video\\cctv052x2004080616x00056.avi\n",
        "(30, 40)"
       ]
      },
      {
       "output_type": "stream",
       "stream": "stdout",
       "text": [
        "\n",
        "length  40\n",
        "complete  video\\cctv052x2004080616x00056.avi\n",
        "start  video\\cctv052x2004080616x00057.avi\n",
        "(30, 40)"
       ]
      },
      {
       "output_type": "stream",
       "stream": "stdout",
       "text": [
        "\n",
        "length  40\n",
        "complete  video\\cctv052x2004080616x00057.avi\n",
        "start  video\\cctv052x2004080616x00058.avi\n",
        "(30, 40)"
       ]
      },
      {
       "output_type": "stream",
       "stream": "stdout",
       "text": [
        "\n",
        "length  40\n",
        "complete  video\\cctv052x2004080616x00058.avi\n",
        "start  video\\cctv052x2004080616x00059.avi\n",
        "(30, 40)"
       ]
      },
      {
       "output_type": "stream",
       "stream": "stdout",
       "text": [
        "\n",
        "length  40\n",
        "complete  video\\cctv052x2004080616x00059.avi\n",
        "start  video\\cctv052x2004080616x00060.avi\n",
        "(30, 40)"
       ]
      },
      {
       "output_type": "stream",
       "stream": "stdout",
       "text": [
        "\n",
        "length  40\n",
        "complete  video\\cctv052x2004080616x00060.avi\n",
        "start  video\\cctv052x2004080616x00061.avi\n",
        "(30, 40)"
       ]
      },
      {
       "output_type": "stream",
       "stream": "stdout",
       "text": [
        "\n",
        "length  40\n",
        "complete  video\\cctv052x2004080616x00061.avi\n",
        "start  video\\cctv052x2004080616x00062.avi\n",
        "(30, 40)"
       ]
      },
      {
       "output_type": "stream",
       "stream": "stdout",
       "text": [
        "\n",
        "length  40\n",
        "complete  video\\cctv052x2004080616x00062.avi\n",
        "start  video\\cctv052x2004080617x00064.avi\n",
        "(30, 40)"
       ]
      },
      {
       "output_type": "stream",
       "stream": "stdout",
       "text": [
        "\n",
        "length  40\n",
        "complete  video\\cctv052x2004080617x00064.avi\n",
        "start  video\\cctv052x2004080617x00065.avi\n",
        "(30, 40)"
       ]
      },
      {
       "output_type": "stream",
       "stream": "stdout",
       "text": [
        "\n",
        "length  40\n",
        "complete  video\\cctv052x2004080617x00065.avi\n",
        "start  video\\cctv052x2004080617x00066.avi\n",
        "(30, 40)"
       ]
      },
      {
       "output_type": "stream",
       "stream": "stdout",
       "text": [
        "\n",
        "length  40\n",
        "complete  video\\cctv052x2004080617x00066.avi\n",
        "start  video\\cctv052x2004080617x00067.avi\n",
        "(30, 40)"
       ]
      },
      {
       "output_type": "stream",
       "stream": "stdout",
       "text": [
        "\n",
        "length  40\n",
        "complete  video\\cctv052x2004080617x00067.avi\n",
        "start  video\\cctv052x2004080617x00068.avi\n",
        "(30, 40)"
       ]
      },
      {
       "output_type": "stream",
       "stream": "stdout",
       "text": [
        "\n",
        "length  40\n",
        "complete  video\\cctv052x2004080617x00068.avi\n",
        "start  video\\cctv052x2004080617x00069.avi\n",
        "(30, 40)"
       ]
      },
      {
       "output_type": "stream",
       "stream": "stdout",
       "text": [
        "\n",
        "length  40\n",
        "complete  video\\cctv052x2004080617x00069.avi\n",
        "start  video\\cctv052x2004080617x00070.avi\n",
        "(30, 40)"
       ]
      },
      {
       "output_type": "stream",
       "stream": "stdout",
       "text": [
        "\n",
        "length  40\n",
        "complete  video\\cctv052x2004080617x00070.avi\n",
        "start  video\\cctv052x2004080617x00071.avi\n",
        "(30, 40)"
       ]
      },
      {
       "output_type": "stream",
       "stream": "stdout",
       "text": [
        "\n",
        "length  40\n",
        "complete  video\\cctv052x2004080617x00071.avi\n",
        "start  video\\cctv052x2004080617x00072.avi\n",
        "(30, 40)"
       ]
      },
      {
       "output_type": "stream",
       "stream": "stdout",
       "text": [
        "\n",
        "length  40\n",
        "complete  video\\cctv052x2004080617x00072.avi\n",
        "start  video\\cctv052x2004080617x00073.avi\n",
        "(30, 40)"
       ]
      },
      {
       "output_type": "stream",
       "stream": "stdout",
       "text": [
        "\n",
        "length  40\n",
        "complete  video\\cctv052x2004080617x00073.avi\n",
        "start  video\\cctv052x2004080617x00074.avi\n",
        "(30, 40)"
       ]
      },
      {
       "output_type": "stream",
       "stream": "stdout",
       "text": [
        "\n",
        "length  40\n",
        "complete  video\\cctv052x2004080617x00074.avi\n",
        "start  video\\cctv052x2004080617x00075.avi\n",
        "(30, 40)"
       ]
      },
      {
       "output_type": "stream",
       "stream": "stdout",
       "text": [
        "\n",
        "length  40\n",
        "complete  video\\cctv052x2004080617x00075.avi\n",
        "start  video\\cctv052x2004080617x00076.avi\n",
        "(30, 40)"
       ]
      },
      {
       "output_type": "stream",
       "stream": "stdout",
       "text": [
        "\n",
        "length  40\n",
        "complete  video\\cctv052x2004080617x00076.avi\n",
        "start  video\\cctv052x2004080617x00077.avi\n",
        "(30, 40)"
       ]
      },
      {
       "output_type": "stream",
       "stream": "stdout",
       "text": [
        "\n",
        "length  40\n",
        "complete  video\\cctv052x2004080617x00077.avi\n",
        "start  video\\cctv052x2004080618x00079.avi\n",
        "(30, 40)"
       ]
      },
      {
       "output_type": "stream",
       "stream": "stdout",
       "text": [
        "\n",
        "length  40\n",
        "complete  video\\cctv052x2004080618x00079.avi\n",
        "start  video\\cctv052x2004080618x00080.avi\n",
        "(30, 40)"
       ]
      },
      {
       "output_type": "stream",
       "stream": "stdout",
       "text": [
        "\n",
        "length  40\n",
        "complete  video\\cctv052x2004080618x00080.avi\n",
        "start  video\\cctv052x2004080618x00081.avi\n",
        "(30, 40)"
       ]
      },
      {
       "output_type": "stream",
       "stream": "stdout",
       "text": [
        "\n",
        "length  40\n",
        "complete  video\\cctv052x2004080618x00081.avi\n",
        "start  video\\cctv052x2004080618x00085.avi\n",
        "(30, 40)"
       ]
      },
      {
       "output_type": "stream",
       "stream": "stdout",
       "text": [
        "\n",
        "length  40\n",
        "complete  video\\cctv052x2004080618x00085.avi\n",
        "start  video\\cctv052x2004080618x00086.avi\n",
        "(30, 40)"
       ]
      },
      {
       "output_type": "stream",
       "stream": "stdout",
       "text": [
        "\n",
        "length  40\n",
        "complete  video\\cctv052x2004080618x00086.avi\n",
        "start  video\\cctv052x2004080618x00087.avi\n",
        "(30, 40)"
       ]
      },
      {
       "output_type": "stream",
       "stream": "stdout",
       "text": [
        "\n",
        "length  40\n",
        "complete  video\\cctv052x2004080618x00087.avi\n",
        "start  video\\cctv052x2004080618x00088.avi\n",
        "(30, 40)"
       ]
      },
      {
       "output_type": "stream",
       "stream": "stdout",
       "text": [
        "\n",
        "length  40\n",
        "complete  video\\cctv052x2004080618x00088.avi\n",
        "start  video\\cctv052x2004080618x00089.avi\n",
        "(30, 40)"
       ]
      },
      {
       "output_type": "stream",
       "stream": "stdout",
       "text": [
        "\n",
        "length  40\n",
        "complete  video\\cctv052x2004080618x00089.avi\n",
        "start  video\\cctv052x2004080619x00090.avi\n",
        "(30, 40)"
       ]
      },
      {
       "output_type": "stream",
       "stream": "stdout",
       "text": [
        "\n",
        "length  40\n",
        "complete  video\\cctv052x2004080619x00090.avi\n",
        "start  video\\cctv052x2004080619x00091.avi\n",
        "(30, 40)"
       ]
      },
      {
       "output_type": "stream",
       "stream": "stdout",
       "text": [
        "\n",
        "length  40\n",
        "complete  video\\cctv052x2004080619x00091.avi\n",
        "start  video\\cctv052x2004080619x00092.avi\n",
        "(30, 40)"
       ]
      },
      {
       "output_type": "stream",
       "stream": "stdout",
       "text": [
        "\n",
        "length  40\n",
        "complete  video\\cctv052x2004080619x00092.avi\n",
        "start  video\\cctv052x2004080619x00093.avi\n",
        "(30, 40)"
       ]
      },
      {
       "output_type": "stream",
       "stream": "stdout",
       "text": [
        "\n",
        "length  40\n",
        "complete  video\\cctv052x2004080619x00093.avi\n",
        "start  video\\cctv052x2004080619x00094.avi\n",
        "(30, 40)"
       ]
      },
      {
       "output_type": "stream",
       "stream": "stdout",
       "text": [
        "\n",
        "length  40\n",
        "complete  video\\cctv052x2004080619x00094.avi\n",
        "start  video\\cctv052x2004080619x00095.avi\n",
        "(30, 40)"
       ]
      },
      {
       "output_type": "stream",
       "stream": "stdout",
       "text": [
        "\n",
        "length  40\n",
        "complete  video\\cctv052x2004080619x00095.avi\n",
        "start  video\\cctv052x2004080619x00096.avi\n",
        "(30, 40)"
       ]
      },
      {
       "output_type": "stream",
       "stream": "stdout",
       "text": [
        "\n",
        "length  40\n",
        "complete  video\\cctv052x2004080619x00096.avi\n",
        "start  video\\cctv052x2004080619x00097.avi\n",
        "(30, 40)"
       ]
      },
      {
       "output_type": "stream",
       "stream": "stdout",
       "text": [
        "\n",
        "length  40\n",
        "complete  video\\cctv052x2004080619x00097.avi\n",
        "start  video\\cctv052x2004080619x00098.avi\n",
        "(30, 40)"
       ]
      },
      {
       "output_type": "stream",
       "stream": "stdout",
       "text": [
        "\n",
        "length  40\n",
        "complete  video\\cctv052x2004080619x00098.avi\n",
        "start  video\\cctv052x2004080619x00099.avi\n",
        "(30, 40)"
       ]
      },
      {
       "output_type": "stream",
       "stream": "stdout",
       "text": [
        "\n",
        "length  40\n",
        "complete  video\\cctv052x2004080619x00099.avi\n",
        "start  video\\cctv052x2004080619x00100.avi\n",
        "(30, 40)"
       ]
      },
      {
       "output_type": "stream",
       "stream": "stdout",
       "text": [
        "\n",
        "length  40\n",
        "complete  video\\cctv052x2004080619x00100.avi\n",
        "start  video\\cctv052x2004080619x00101.avi\n",
        "(30, 40)"
       ]
      },
      {
       "output_type": "stream",
       "stream": "stdout",
       "text": [
        "\n",
        "length  40\n",
        "complete  video\\cctv052x2004080619x00101.avi\n",
        "start  video\\cctv052x2004080619x00102.avi\n",
        "(30, 40)"
       ]
      },
      {
       "output_type": "stream",
       "stream": "stdout",
       "text": [
        "\n",
        "length  40\n",
        "complete  video\\cctv052x2004080619x00102.avi\n",
        "start  video\\cctv052x2004080619x00103.avi\n",
        "(30, 40)"
       ]
      },
      {
       "output_type": "stream",
       "stream": "stdout",
       "text": [
        "\n",
        "length  40\n",
        "complete  video\\cctv052x2004080619x00103.avi\n",
        "start  video\\cctv052x2004080619x00104.avi\n",
        "(30, 40)"
       ]
      },
      {
       "output_type": "stream",
       "stream": "stdout",
       "text": [
        "\n",
        "length  40\n",
        "complete  video\\cctv052x2004080619x00104.avi\n",
        "start  video\\cctv052x2004080620x00105.avi\n",
        "(30, 40)"
       ]
      },
      {
       "output_type": "stream",
       "stream": "stdout",
       "text": [
        "\n",
        "length  40\n",
        "complete  video\\cctv052x2004080620x00105.avi\n",
        "start  video\\cctv052x2004080620x00106.avi\n",
        "(30, 40)"
       ]
      },
      {
       "output_type": "stream",
       "stream": "stdout",
       "text": [
        "\n",
        "length  40\n",
        "complete  video\\cctv052x2004080620x00106.avi\n",
        "start  video\\cctv052x2004080620x00107.avi\n",
        "(30, 40)"
       ]
      },
      {
       "output_type": "stream",
       "stream": "stdout",
       "text": [
        "\n",
        "length  40\n",
        "complete  video\\cctv052x2004080620x00107.avi\n",
        "start  video\\cctv052x2004080620x00108.avi\n",
        "(30, 40)"
       ]
      },
      {
       "output_type": "stream",
       "stream": "stdout",
       "text": [
        "\n",
        "length  40\n",
        "complete  video\\cctv052x2004080620x00108.avi\n",
        "max value= 8.61297668151\n",
        "***********complete all*************\n"
       ]
      }
     ],
     "prompt_number": 6
    },
    {
     "cell_type": "heading",
     "level": 1,
     "metadata": {},
     "source": [
      "Convert to lower Resolution"
     ]
    },
    {
     "cell_type": "code",
     "collapsed": false,
     "input": [
      "import numpy as np\n",
      "import pandas as pd\n",
      "import cv2\n",
      "import glob\n",
      "import ntpath\n",
      "import os.path\n",
      "\n",
      "M = 3\n",
      "# Define the codec and create VideoWriter object\n",
      "\n",
      "\n",
      "def lower_video(folderhead,folder):\n",
      "    \n",
      "    arrayFiles = glob.glob(folderhead+\"/\"+folder+\"/*.avi\")\n",
      "    \n",
      "    for name in arrayFiles:\n",
      "        \n",
      "        fname=os.path.splitext(ntpath.basename(name))[0]\n",
      "        print name\n",
      "        print fname\n",
      "        cap = cv2.VideoCapture(name)\n",
      "        ret = True\n",
      "        ret,frame = cap.read()\n",
      "        lower_reso = cv2.pyrDown(frame)\n",
      "        r,c,s=lower_reso.shape\n",
      "        fourcc = cv2.cv.CV_FOURCC(*'XVID')\n",
      "        \n",
      "        directory = folderhead+'/outnew/'+folder\n",
      "        if not os.path.exists(directory):\n",
      "            os.makedirs(directory)\n",
      "        wFile=directory+'/'+ fname  + '.avi'\n",
      "        out = cv2.VideoWriter(wFile,fourcc,cap.get(cv2.cv.CV_CAP_PROP_FPS) , (c,r))\n",
      "        while (cap.isOpened() and ret):\n",
      "            ret, frame = cap.read()\n",
      "            if ret:\n",
      "                lower_reso = cv2.pyrDown(frame)\n",
      "                out.write(lower_reso)\n",
      "\n",
      "\n",
      "#     cap.release()\n",
      "    cv2.destroyAllWindows()"
     ],
     "language": "python",
     "metadata": {},
     "outputs": [],
     "prompt_number": 2
    },
    {
     "cell_type": "code",
     "collapsed": false,
     "input": [
      "lower_video(\"with opencv\",\"1\")\n",
      "lower_video(\"with opencv\",\"2\")\n",
      "lower_video(\"with opencv\",\"3\")\n",
      "lower_video(\"with opencv\",\"4\")"
     ],
     "language": "python",
     "metadata": {},
     "outputs": [
      {
       "output_type": "stream",
       "stream": "stdout",
       "text": [
        "with opencv/1\\17KAJ4F_172.18.4.71_2013-06-14_06-00-00(1)_0.avi\n",
        "17KAJ4F_172.18.4.71_2013-06-14_06-00-00(1)_0\n",
        "with opencv/1\\17KAJ4F_172.18.4.71_2013-06-14_06-00-00(1)_1.avi"
       ]
      },
      {
       "output_type": "stream",
       "stream": "stdout",
       "text": [
        "\n",
        "17KAJ4F_172.18.4.71_2013-06-14_06-00-00(1)_1\n",
        "with opencv/1\\17KAJ4F_172.18.4.71_2013-06-14_06-00-00(1)_10.avi"
       ]
      },
      {
       "output_type": "stream",
       "stream": "stdout",
       "text": [
        "\n",
        "17KAJ4F_172.18.4.71_2013-06-14_06-00-00(1)_10\n",
        "with opencv/1\\17KAJ4F_172.18.4.71_2013-06-14_06-00-00(1)_2.avi"
       ]
      },
      {
       "output_type": "stream",
       "stream": "stdout",
       "text": [
        "\n",
        "17KAJ4F_172.18.4.71_2013-06-14_06-00-00(1)_2\n",
        "with opencv/1\\17KAJ4F_172.18.4.71_2013-06-14_06-00-00(1)_3.avi"
       ]
      },
      {
       "output_type": "stream",
       "stream": "stdout",
       "text": [
        "\n",
        "17KAJ4F_172.18.4.71_2013-06-14_06-00-00(1)_3\n",
        "with opencv/1\\17KAJ4F_172.18.4.71_2013-06-14_06-00-00(1)_4.avi"
       ]
      },
      {
       "output_type": "stream",
       "stream": "stdout",
       "text": [
        "\n",
        "17KAJ4F_172.18.4.71_2013-06-14_06-00-00(1)_4\n",
        "with opencv/1\\17KAJ4F_172.18.4.71_2013-06-14_06-00-00(1)_5.avi"
       ]
      },
      {
       "output_type": "stream",
       "stream": "stdout",
       "text": [
        "\n",
        "17KAJ4F_172.18.4.71_2013-06-14_06-00-00(1)_5\n",
        "with opencv/1\\17KAJ4F_172.18.4.71_2013-06-14_06-00-00(1)_6.avi"
       ]
      },
      {
       "output_type": "stream",
       "stream": "stdout",
       "text": [
        "\n",
        "17KAJ4F_172.18.4.71_2013-06-14_06-00-00(1)_6\n",
        "with opencv/1\\17KAJ4F_172.18.4.71_2013-06-14_06-00-00(1)_7.avi"
       ]
      },
      {
       "output_type": "stream",
       "stream": "stdout",
       "text": [
        "\n",
        "17KAJ4F_172.18.4.71_2013-06-14_06-00-00(1)_7\n",
        "with opencv/1\\17KAJ4F_172.18.4.71_2013-06-14_06-00-00(1)_8.avi"
       ]
      },
      {
       "output_type": "stream",
       "stream": "stdout",
       "text": [
        "\n",
        "17KAJ4F_172.18.4.71_2013-06-14_06-00-00(1)_8\n",
        "with opencv/1\\17KAJ4F_172.18.4.71_2013-06-14_06-00-00(1)_9.avi"
       ]
      },
      {
       "output_type": "stream",
       "stream": "stdout",
       "text": [
        "\n",
        "17KAJ4F_172.18.4.71_2013-06-14_06-00-00(1)_9\n",
        "with opencv/2\\17KAJ4F_172.18.4.71_2013-06-14_06-00-00(2)_0.avi"
       ]
      },
      {
       "output_type": "stream",
       "stream": "stdout",
       "text": [
        "\n",
        "17KAJ4F_172.18.4.71_2013-06-14_06-00-00(2)_0\n",
        "with opencv/2\\17KAJ4F_172.18.4.71_2013-06-14_06-00-00(2)_1.avi"
       ]
      },
      {
       "output_type": "stream",
       "stream": "stdout",
       "text": [
        "\n",
        "17KAJ4F_172.18.4.71_2013-06-14_06-00-00(2)_1\n",
        "with opencv/2\\17KAJ4F_172.18.4.71_2013-06-14_06-00-00(2)_10.avi"
       ]
      },
      {
       "output_type": "stream",
       "stream": "stdout",
       "text": [
        "\n",
        "17KAJ4F_172.18.4.71_2013-06-14_06-00-00(2)_10\n",
        "with opencv/2\\17KAJ4F_172.18.4.71_2013-06-14_06-00-00(2)_2.avi"
       ]
      },
      {
       "output_type": "stream",
       "stream": "stdout",
       "text": [
        "\n",
        "17KAJ4F_172.18.4.71_2013-06-14_06-00-00(2)_2\n",
        "with opencv/2\\17KAJ4F_172.18.4.71_2013-06-14_06-00-00(2)_3.avi"
       ]
      },
      {
       "output_type": "stream",
       "stream": "stdout",
       "text": [
        "\n",
        "17KAJ4F_172.18.4.71_2013-06-14_06-00-00(2)_3\n",
        "with opencv/2\\17KAJ4F_172.18.4.71_2013-06-14_06-00-00(2)_4.avi"
       ]
      },
      {
       "output_type": "stream",
       "stream": "stdout",
       "text": [
        "\n",
        "17KAJ4F_172.18.4.71_2013-06-14_06-00-00(2)_4\n",
        "with opencv/2\\17KAJ4F_172.18.4.71_2013-06-14_06-00-00(2)_5.avi"
       ]
      },
      {
       "output_type": "stream",
       "stream": "stdout",
       "text": [
        "\n",
        "17KAJ4F_172.18.4.71_2013-06-14_06-00-00(2)_5\n",
        "with opencv/2\\17KAJ4F_172.18.4.71_2013-06-14_06-00-00(2)_6.avi"
       ]
      },
      {
       "output_type": "stream",
       "stream": "stdout",
       "text": [
        "\n",
        "17KAJ4F_172.18.4.71_2013-06-14_06-00-00(2)_6\n",
        "with opencv/2\\17KAJ4F_172.18.4.71_2013-06-14_06-00-00(2)_7.avi"
       ]
      },
      {
       "output_type": "stream",
       "stream": "stdout",
       "text": [
        "\n",
        "17KAJ4F_172.18.4.71_2013-06-14_06-00-00(2)_7\n",
        "with opencv/2\\17KAJ4F_172.18.4.71_2013-06-14_06-00-00(2)_8.avi"
       ]
      },
      {
       "output_type": "stream",
       "stream": "stdout",
       "text": [
        "\n",
        "17KAJ4F_172.18.4.71_2013-06-14_06-00-00(2)_8\n",
        "with opencv/2\\17KAJ4F_172.18.4.71_2013-06-14_06-00-00(2)_9.avi"
       ]
      },
      {
       "output_type": "stream",
       "stream": "stdout",
       "text": [
        "\n",
        "17KAJ4F_172.18.4.71_2013-06-14_06-00-00(2)_9\n",
        "with opencv/3\\17KAJ4F_172.18.4.71_2013-06-14_06-00-00(3)_0.avi"
       ]
      },
      {
       "output_type": "stream",
       "stream": "stdout",
       "text": [
        "\n",
        "17KAJ4F_172.18.4.71_2013-06-14_06-00-00(3)_0\n",
        "with opencv/3\\17KAJ4F_172.18.4.71_2013-06-14_06-00-00(3)_1.avi"
       ]
      },
      {
       "output_type": "stream",
       "stream": "stdout",
       "text": [
        "\n",
        "17KAJ4F_172.18.4.71_2013-06-14_06-00-00(3)_1\n",
        "with opencv/3\\17KAJ4F_172.18.4.71_2013-06-14_06-00-00(3)_10.avi"
       ]
      },
      {
       "output_type": "stream",
       "stream": "stdout",
       "text": [
        "\n",
        "17KAJ4F_172.18.4.71_2013-06-14_06-00-00(3)_10\n",
        "with opencv/3\\17KAJ4F_172.18.4.71_2013-06-14_06-00-00(3)_2.avi"
       ]
      },
      {
       "output_type": "stream",
       "stream": "stdout",
       "text": [
        "\n",
        "17KAJ4F_172.18.4.71_2013-06-14_06-00-00(3)_2\n",
        "with opencv/3\\17KAJ4F_172.18.4.71_2013-06-14_06-00-00(3)_3.avi"
       ]
      },
      {
       "output_type": "stream",
       "stream": "stdout",
       "text": [
        "\n",
        "17KAJ4F_172.18.4.71_2013-06-14_06-00-00(3)_3\n",
        "with opencv/3\\17KAJ4F_172.18.4.71_2013-06-14_06-00-00(3)_4.avi"
       ]
      },
      {
       "output_type": "stream",
       "stream": "stdout",
       "text": [
        "\n",
        "17KAJ4F_172.18.4.71_2013-06-14_06-00-00(3)_4\n",
        "with opencv/3\\17KAJ4F_172.18.4.71_2013-06-14_06-00-00(3)_5.avi"
       ]
      },
      {
       "output_type": "stream",
       "stream": "stdout",
       "text": [
        "\n",
        "17KAJ4F_172.18.4.71_2013-06-14_06-00-00(3)_5\n",
        "with opencv/3\\17KAJ4F_172.18.4.71_2013-06-14_06-00-00(3)_6.avi"
       ]
      },
      {
       "output_type": "stream",
       "stream": "stdout",
       "text": [
        "\n",
        "17KAJ4F_172.18.4.71_2013-06-14_06-00-00(3)_6\n",
        "with opencv/3\\17KAJ4F_172.18.4.71_2013-06-14_06-00-00(3)_7.avi"
       ]
      },
      {
       "output_type": "stream",
       "stream": "stdout",
       "text": [
        "\n",
        "17KAJ4F_172.18.4.71_2013-06-14_06-00-00(3)_7\n",
        "with opencv/3\\17KAJ4F_172.18.4.71_2013-06-14_06-00-00(3)_8.avi"
       ]
      },
      {
       "output_type": "stream",
       "stream": "stdout",
       "text": [
        "\n",
        "17KAJ4F_172.18.4.71_2013-06-14_06-00-00(3)_8\n",
        "with opencv/3\\17KAJ4F_172.18.4.71_2013-06-14_06-00-00(3)_9.avi"
       ]
      },
      {
       "output_type": "stream",
       "stream": "stdout",
       "text": [
        "\n",
        "17KAJ4F_172.18.4.71_2013-06-14_06-00-00(3)_9\n",
        "with opencv/4\\17KAJ4F_172.18.4.71_2013-06-14_06-00-00(4)_0.avi"
       ]
      },
      {
       "output_type": "stream",
       "stream": "stdout",
       "text": [
        "\n",
        "17KAJ4F_172.18.4.71_2013-06-14_06-00-00(4)_0\n",
        "with opencv/4\\17KAJ4F_172.18.4.71_2013-06-14_06-00-00(4)_1.avi"
       ]
      },
      {
       "output_type": "stream",
       "stream": "stdout",
       "text": [
        "\n",
        "17KAJ4F_172.18.4.71_2013-06-14_06-00-00(4)_1\n",
        "with opencv/4\\17KAJ4F_172.18.4.71_2013-06-14_06-00-00(4)_10.avi"
       ]
      },
      {
       "output_type": "stream",
       "stream": "stdout",
       "text": [
        "\n",
        "17KAJ4F_172.18.4.71_2013-06-14_06-00-00(4)_10\n",
        "with opencv/4\\17KAJ4F_172.18.4.71_2013-06-14_06-00-00(4)_2.avi"
       ]
      },
      {
       "output_type": "stream",
       "stream": "stdout",
       "text": [
        "\n",
        "17KAJ4F_172.18.4.71_2013-06-14_06-00-00(4)_2\n",
        "with opencv/4\\17KAJ4F_172.18.4.71_2013-06-14_06-00-00(4)_3.avi"
       ]
      },
      {
       "output_type": "stream",
       "stream": "stdout",
       "text": [
        "\n",
        "17KAJ4F_172.18.4.71_2013-06-14_06-00-00(4)_3\n",
        "with opencv/4\\17KAJ4F_172.18.4.71_2013-06-14_06-00-00(4)_4.avi"
       ]
      },
      {
       "output_type": "stream",
       "stream": "stdout",
       "text": [
        "\n",
        "17KAJ4F_172.18.4.71_2013-06-14_06-00-00(4)_4\n",
        "with opencv/4\\17KAJ4F_172.18.4.71_2013-06-14_06-00-00(4)_5.avi"
       ]
      },
      {
       "output_type": "stream",
       "stream": "stdout",
       "text": [
        "\n",
        "17KAJ4F_172.18.4.71_2013-06-14_06-00-00(4)_5\n",
        "with opencv/4\\17KAJ4F_172.18.4.71_2013-06-14_06-00-00(4)_6.avi"
       ]
      },
      {
       "output_type": "stream",
       "stream": "stdout",
       "text": [
        "\n",
        "17KAJ4F_172.18.4.71_2013-06-14_06-00-00(4)_6\n",
        "with opencv/4\\17KAJ4F_172.18.4.71_2013-06-14_06-00-00(4)_7.avi"
       ]
      },
      {
       "output_type": "stream",
       "stream": "stdout",
       "text": [
        "\n",
        "17KAJ4F_172.18.4.71_2013-06-14_06-00-00(4)_7\n",
        "with opencv/4\\17KAJ4F_172.18.4.71_2013-06-14_06-00-00(4)_8.avi"
       ]
      },
      {
       "output_type": "stream",
       "stream": "stdout",
       "text": [
        "\n",
        "17KAJ4F_172.18.4.71_2013-06-14_06-00-00(4)_8\n",
        "with opencv/4\\17KAJ4F_172.18.4.71_2013-06-14_06-00-00(4)_9.avi"
       ]
      },
      {
       "output_type": "stream",
       "stream": "stdout",
       "text": [
        "\n",
        "17KAJ4F_172.18.4.71_2013-06-14_06-00-00(4)_9\n"
       ]
      }
     ],
     "prompt_number": 4
    },
    {
     "cell_type": "heading",
     "level": 1,
     "metadata": {},
     "source": [
      "Texture Feature With Edge Detection"
     ]
    },
    {
     "cell_type": "code",
     "collapsed": false,
     "input": [
      "import numpy as np\n",
      "import pandas as pd\n",
      "import cv2\n",
      "import glob\n",
      "import ntpath\n",
      "import os.path\n",
      "\n",
      "np.set_printoptions(threshold='nan')\n",
      "\n",
      "# Take input path\n",
      "def start(folder,outname):\n",
      "    \n",
      "    L = []\n",
      "    arrayFiles = glob.glob(folder+\"/*.avi\")\n",
      "    for name in arrayFiles:\n",
      "            fname=os.path.splitext(ntpath.basename(name))[0]\n",
      "            print \"start \", name\n",
      "            cap = cv2.VideoCapture(name)\n",
      "            \n",
      "            frameCount=cap.get(cv2.cv.CV_CAP_PROP_FRAME_COUNT)\n",
      "            \n",
      "            ret, frame = cap.read()\n",
      "            #lower_reso = cv2.pyrDown(cv2.pyrDown(cv2.pyrDown(cv2.pyrDown(frame))))\n",
      "            TMM = np.zeros((frame.shape[0],frame.shape[1]))\n",
      "            rowVal=frame.shape[0]/2\n",
      "            \n",
      "            ret, frame = cap.read()\n",
      "            ret = True\n",
      "            #background subtract method\n",
      "            #fgbg = cv2.BackgroundSubtractorMOG()\n",
      "            \n",
      "            #frame difference method\n",
      "            back=frame\n",
      "            while(cap.isOpened() and ret):\n",
      "                ret, frame = cap.read()\n",
      "                if ret:\n",
      "#                     frame=cv2.GaussianBlur(frame,(7,7),0)\n",
      "                    #lower_reso = cv2.pyrDown(cv2.pyrDown(cv2.pyrDown(cv2.pyrDown(frame))))\n",
      "                    #background subtract method\n",
      "                    #fgmask = fgbg.apply(frame)\n",
      "                    \n",
      "                    #frame difference method\n",
      "                    fgmask1 =cv2.absdiff(frame,back)\n",
      "                    fgmask2= cv2.cvtColor(fgmask1, cv2.COLOR_BGR2GRAY)\n",
      "                    fgmask = cv2.Canny(fgmask2,100,200)\n",
      "#                     fgmask=cv2.GaussianBlur(fgmask2,(7,7),0)\n",
      "                    \n",
      "                    back=frame\n",
      "                    \n",
      "                    fgmask = fgmask/255.0\n",
      "                    TMM=TMM+fgmask\n",
      "                    \n",
      "            TMM=TMM/frameCount\n",
      "            #TMM=cv2.pyrDown(TMM)\n",
      "            #get the sum of all the rows and create a single row\n",
      "            lower_reso = cv2.pyrDown(cv2.pyrDown(TMM))        \n",
      "            \n",
      "            \n",
      "            Res = np.sum(lower_reso, axis=0)\n",
      "            \n",
      "            #get the middle row as the input vector\n",
      "            #Res = TMM[rowVal]\n",
      "        \n",
      "            print lower_reso.shape\n",
      "            #print \"row value\",rowVal\n",
      "            #Res1 = np.sum(TMM, axis=1)\n",
      "            # Res1=Res1*1.0/np.max(Res1)\n",
      "#             if np.max(Res) !=0.0:\n",
      "#                 Res=Res*1.0/np.max(Res)\n",
      "            print np.max(Res)\n",
      "            l = [fname]\n",
      "            l=l+Res.tolist()\n",
      "            #l=l+Res1.tolist()\n",
      "            print \"length \", Res.shape[0]\n",
      "            L.append(l)  \n",
      "            print \"complete \", name\n",
      "    # write to file\n",
      "    #L = np.array(L)\n",
      "    d = pd.DataFrame(data=L)\n",
      "    d.to_csv(outname + '.txt', index=False, header=False)  \n",
      "    print \"***********complete all*************\"\n",
      "    #T = set([l.shape for l in L])"
     ],
     "language": "python",
     "metadata": {},
     "outputs": [],
     "prompt_number": 4
    },
    {
     "cell_type": "code",
     "collapsed": false,
     "input": [
      "start(\"video\",\"inputedge\")"
     ],
     "language": "python",
     "metadata": {},
     "outputs": [
      {
       "output_type": "stream",
       "stream": "stdout",
       "text": [
        "start  video\\cctv052x2004080516x01638.avi\n",
        "(60, 80)"
       ]
      },
      {
       "output_type": "stream",
       "stream": "stdout",
       "text": [
        "\n",
        "3.72581050081\n",
        "length  80\n",
        "complete  video\\cctv052x2004080516x01638.avi\n",
        "start  video\\cctv052x2004080516x01639.avi\n",
        "(60, 80)"
       ]
      },
      {
       "output_type": "stream",
       "stream": "stdout",
       "text": [
        "\n",
        "3.35947173496\n",
        "length  80\n",
        "complete  video\\cctv052x2004080516x01639.avi\n",
        "start  video\\cctv052x2004080516x01640.avi\n",
        "(60, 80)"
       ]
      },
      {
       "output_type": "stream",
       "stream": "stdout",
       "text": [
        "\n",
        "2.72271383034\n",
        "length  80\n",
        "complete  video\\cctv052x2004080516x01640.avi\n",
        "start  video\\cctv052x2004080516x01641.avi\n",
        "(60, 80)"
       ]
      },
      {
       "output_type": "stream",
       "stream": "stdout",
       "text": [
        "\n",
        "3.83552522479\n",
        "length  80\n",
        "complete  video\\cctv052x2004080516x01641.avi\n",
        "start  video\\cctv052x2004080516x01642.avi\n",
        "(60, 80)"
       ]
      },
      {
       "output_type": "stream",
       "stream": "stdout",
       "text": [
        "\n",
        "3.58017319899\n",
        "length  80\n",
        "complete  video\\cctv052x2004080516x01642.avi\n",
        "start  video\\cctv052x2004080516x01643.avi\n",
        "(60, 80)"
       ]
      },
      {
       "output_type": "stream",
       "stream": "stdout",
       "text": [
        "\n",
        "3.13728764372\n",
        "length  80\n",
        "complete  video\\cctv052x2004080516x01643.avi\n",
        "start  video\\cctv052x2004080516x01644.avi\n",
        "(60, 80)"
       ]
      },
      {
       "output_type": "stream",
       "stream": "stdout",
       "text": [
        "\n",
        "5.05848665057\n",
        "length  80\n",
        "complete  video\\cctv052x2004080516x01644.avi\n",
        "start  video\\cctv052x2004080516x01645.avi\n",
        "(60, 80)"
       ]
      },
      {
       "output_type": "stream",
       "stream": "stdout",
       "text": [
        "\n",
        "4.98197937012\n",
        "length  80\n",
        "complete  video\\cctv052x2004080516x01645.avi\n",
        "start  video\\cctv052x2004080516x01646.avi\n",
        "(60, 80)"
       ]
      },
      {
       "output_type": "stream",
       "stream": "stdout",
       "text": [
        "\n",
        "2.46283074145\n",
        "length  80\n",
        "complete  video\\cctv052x2004080516x01646.avi\n",
        "start  video\\cctv052x2004080516x01647.avi\n",
        "(60, 80)"
       ]
      },
      {
       "output_type": "stream",
       "stream": "stdout",
       "text": [
        "\n",
        "3.86842289677\n",
        "length  80\n",
        "complete  video\\cctv052x2004080516x01647.avi\n",
        "start  video\\cctv052x2004080516x01648.avi\n",
        "(60, 80)"
       ]
      },
      {
       "output_type": "stream",
       "stream": "stdout",
       "text": [
        "\n",
        "6.31055032982\n",
        "length  80\n",
        "complete  video\\cctv052x2004080516x01648.avi\n",
        "start  video\\cctv052x2004080516x01649.avi\n",
        "(60, 80)"
       ]
      },
      {
       "output_type": "stream",
       "stream": "stdout",
       "text": [
        "\n",
        "3.92684648622\n",
        "length  80\n",
        "complete  video\\cctv052x2004080516x01649.avi\n",
        "start  video\\cctv052x2004080516x01650.avi\n",
        "(60, 80)"
       ]
      },
      {
       "output_type": "stream",
       "stream": "stdout",
       "text": [
        "\n",
        "6.06025667011\n",
        "length  80\n",
        "complete  video\\cctv052x2004080516x01650.avi\n",
        "start  video\\cctv052x2004080517x01652.avi\n",
        "(60, 80)"
       ]
      },
      {
       "output_type": "stream",
       "stream": "stdout",
       "text": [
        "\n",
        "5.20332422796\n",
        "length  80\n",
        "complete  video\\cctv052x2004080517x01652.avi\n",
        "start  video\\cctv052x2004080517x01653.avi\n",
        "(60, 80)"
       ]
      },
      {
       "output_type": "stream",
       "stream": "stdout",
       "text": [
        "\n",
        "3.62554125516\n",
        "length  80\n",
        "complete  video\\cctv052x2004080517x01653.avi\n",
        "start  video\\cctv052x2004080517x01654.avi\n",
        "(60, 80)"
       ]
      },
      {
       "output_type": "stream",
       "stream": "stdout",
       "text": [
        "\n",
        "4.95294304614\n",
        "length  80\n",
        "complete  video\\cctv052x2004080517x01654.avi\n",
        "start  video\\cctv052x2004080517x01655.avi\n",
        "(60, 80)"
       ]
      },
      {
       "output_type": "stream",
       "stream": "stdout",
       "text": [
        "\n",
        "4.08615400206\n",
        "length  80\n",
        "complete  video\\cctv052x2004080517x01655.avi\n",
        "start  video\\cctv052x2004080517x01656.avi\n",
        "(60, 80)"
       ]
      },
      {
       "output_type": "stream",
       "stream": "stdout",
       "text": [
        "\n",
        "4.31197026091\n",
        "length  80\n",
        "complete  video\\cctv052x2004080517x01656.avi\n",
        "start  video\\cctv052x2004080517x01657.avi\n",
        "(60, 80)"
       ]
      },
      {
       "output_type": "stream",
       "stream": "stdout",
       "text": [
        "\n",
        "4.97632066259\n",
        "length  80\n",
        "complete  video\\cctv052x2004080517x01657.avi\n",
        "start  video\\cctv052x2004080517x01658.avi\n",
        "(60, 80)"
       ]
      },
      {
       "output_type": "stream",
       "stream": "stdout",
       "text": [
        "\n",
        "2.43189858491\n",
        "length  80\n",
        "complete  video\\cctv052x2004080517x01658.avi\n",
        "start  video\\cctv052x2004080517x01659.avi\n",
        "(60, 80)"
       ]
      },
      {
       "output_type": "stream",
       "stream": "stdout",
       "text": [
        "\n",
        "2.08063089623\n",
        "length  80\n",
        "complete  video\\cctv052x2004080517x01659.avi\n",
        "start  video\\cctv052x2004080517x01660.avi\n",
        "(60, 80)"
       ]
      },
      {
       "output_type": "stream",
       "stream": "stdout",
       "text": [
        "\n",
        "5.51355095629\n",
        "length  80\n",
        "complete  video\\cctv052x2004080517x01660.avi\n",
        "start  video\\cctv052x2004080517x01661.avi\n",
        "(60, 80)"
       ]
      },
      {
       "output_type": "stream",
       "stream": "stdout",
       "text": [
        "\n",
        "4.17002667121\n",
        "length  80\n",
        "complete  video\\cctv052x2004080517x01661.avi\n",
        "start  video\\cctv052x2004080517x01662.avi\n",
        "(60, 80)"
       ]
      },
      {
       "output_type": "stream",
       "stream": "stdout",
       "text": [
        "\n",
        "5.4828848209\n",
        "length  80\n",
        "complete  video\\cctv052x2004080517x01662.avi\n",
        "start  video\\cctv052x2004080517x01663.avi\n",
        "(60, 80)"
       ]
      },
      {
       "output_type": "stream",
       "stream": "stdout",
       "text": [
        "\n",
        "5.39385180203\n",
        "length  80\n",
        "complete  video\\cctv052x2004080517x01663.avi\n",
        "start  video\\cctv052x2004080517x01664.avi\n",
        "(60, 80)"
       ]
      },
      {
       "output_type": "stream",
       "stream": "stdout",
       "text": [
        "\n",
        "5.56207627517\n",
        "length  80\n",
        "complete  video\\cctv052x2004080517x01664.avi\n",
        "start  video\\cctv052x2004080517x01665.avi\n",
        "(60, 80)"
       ]
      },
      {
       "output_type": "stream",
       "stream": "stdout",
       "text": [
        "\n",
        "4.77133696934\n",
        "length  80\n",
        "complete  video\\cctv052x2004080517x01665.avi\n",
        "start  video\\cctv052x2004080518x01666.avi\n",
        "(60, 80)"
       ]
      },
      {
       "output_type": "stream",
       "stream": "stdout",
       "text": [
        "\n",
        "5.3761867947\n",
        "length  80\n",
        "complete  video\\cctv052x2004080518x01666.avi\n",
        "start  video\\cctv052x2004080518x01667.avi\n",
        "(60, 80)"
       ]
      },
      {
       "output_type": "stream",
       "stream": "stdout",
       "text": [
        "\n",
        "6.92116445865\n",
        "length  80\n",
        "complete  video\\cctv052x2004080518x01667.avi\n",
        "start  video\\cctv052x2004080518x01668.avi\n",
        "(60, 80)"
       ]
      },
      {
       "output_type": "stream",
       "stream": "stdout",
       "text": [
        "\n",
        "5.96629016804\n",
        "length  80\n",
        "complete  video\\cctv052x2004080518x01668.avi\n",
        "start  video\\cctv052x2004080518x01669.avi\n",
        "(60, 80)"
       ]
      },
      {
       "output_type": "stream",
       "stream": "stdout",
       "text": [
        "\n",
        "5.62914002616\n",
        "length  80\n",
        "complete  video\\cctv052x2004080518x01669.avi\n",
        "start  video\\cctv052x2004080518x01670.avi\n",
        "(60, 80)"
       ]
      },
      {
       "output_type": "stream",
       "stream": "stdout",
       "text": [
        "\n",
        "4.47548574772\n",
        "length  80\n",
        "complete  video\\cctv052x2004080518x01670.avi\n",
        "start  video\\cctv052x2004080518x01671.avi\n",
        "(60, 80)"
       ]
      },
      {
       "output_type": "stream",
       "stream": "stdout",
       "text": [
        "\n",
        "7.63814904555\n",
        "length  80\n",
        "complete  video\\cctv052x2004080518x01671.avi\n",
        "start  video\\cctv052x2004080518x01672.avi\n",
        "(60, 80)"
       ]
      },
      {
       "output_type": "stream",
       "stream": "stdout",
       "text": [
        "\n",
        "5.36769766178\n",
        "length  80\n",
        "complete  video\\cctv052x2004080518x01672.avi\n",
        "start  video\\cctv052x2004080518x01673.avi\n",
        "(60, 80)"
       ]
      },
      {
       "output_type": "stream",
       "stream": "stdout",
       "text": [
        "\n",
        "3.6053996536\n",
        "length  80\n",
        "complete  video\\cctv052x2004080518x01673.avi\n",
        "start  video\\cctv052x2004080518x01674.avi\n",
        "(60, 80)"
       ]
      },
      {
       "output_type": "stream",
       "stream": "stdout",
       "text": [
        "\n",
        "6.44870628501\n",
        "length  80\n",
        "complete  video\\cctv052x2004080518x01674.avi\n",
        "start  video\\cctv052x2004080518x01675.avi\n",
        "(60, 80)"
       ]
      },
      {
       "output_type": "stream",
       "stream": "stdout",
       "text": [
        "\n",
        "4.04261635834\n",
        "length  80\n",
        "complete  video\\cctv052x2004080518x01675.avi\n",
        "start  video\\cctv052x2004080518x01676.avi\n",
        "(60, 80)"
       ]
      },
      {
       "output_type": "stream",
       "stream": "stdout",
       "text": [
        "\n",
        "3.326549602\n",
        "length  80\n",
        "complete  video\\cctv052x2004080518x01676.avi\n",
        "start  video\\cctv052x2004080518x01677.avi\n",
        "(60, 80)"
       ]
      },
      {
       "output_type": "stream",
       "stream": "stdout",
       "text": [
        "\n",
        "2.82462526717\n",
        "length  80\n",
        "complete  video\\cctv052x2004080518x01677.avi\n",
        "start  video\\cctv052x2004080519x01678.avi\n",
        "(60, 80)"
       ]
      },
      {
       "output_type": "stream",
       "stream": "stdout",
       "text": [
        "\n",
        "5.71083961343\n",
        "length  80\n",
        "complete  video\\cctv052x2004080519x01678.avi\n",
        "start  video\\cctv052x2004080519x01679.avi\n",
        "(60, 80)"
       ]
      },
      {
       "output_type": "stream",
       "stream": "stdout",
       "text": [
        "\n",
        "4.04282134434\n",
        "length  80\n",
        "complete  video\\cctv052x2004080519x01679.avi\n",
        "start  video\\cctv052x2004080519x01680.avi\n",
        "(60, 80)"
       ]
      },
      {
       "output_type": "stream",
       "stream": "stdout",
       "text": [
        "\n",
        "3.48455810547\n",
        "length  80\n",
        "complete  video\\cctv052x2004080519x01680.avi\n",
        "start  video\\cctv052x2004080519x01681.avi\n",
        "(60, 80)"
       ]
      },
      {
       "output_type": "stream",
       "stream": "stdout",
       "text": [
        "\n",
        "3.35075983011\n",
        "length  80\n",
        "complete  video\\cctv052x2004080519x01681.avi\n",
        "start  video\\cctv052x2004080519x01682.avi\n",
        "(60, 80)"
       ]
      },
      {
       "output_type": "stream",
       "stream": "stdout",
       "text": [
        "\n",
        "2.81126547759\n",
        "length  80\n",
        "complete  video\\cctv052x2004080519x01682.avi\n",
        "start  video\\cctv052x2004080519x01683.avi\n",
        "(60, 80)"
       ]
      },
      {
       "output_type": "stream",
       "stream": "stdout",
       "text": [
        "\n",
        "2.41672731795\n",
        "length  80\n",
        "complete  video\\cctv052x2004080519x01683.avi\n",
        "start  video\\cctv052x2004080519x01684.avi\n",
        "(60, 80)"
       ]
      },
      {
       "output_type": "stream",
       "stream": "stdout",
       "text": [
        "\n",
        "2.79910451061\n",
        "length  80\n",
        "complete  video\\cctv052x2004080519x01684.avi\n",
        "start  video\\cctv052x2004080519x01685.avi\n",
        "(60, 80)"
       ]
      },
      {
       "output_type": "stream",
       "stream": "stdout",
       "text": [
        "\n",
        "2.1435719616\n",
        "length  80\n",
        "complete  video\\cctv052x2004080519x01685.avi\n",
        "start  video\\cctv052x2004080519x01686.avi\n",
        "(60, 80)"
       ]
      },
      {
       "output_type": "stream",
       "stream": "stdout",
       "text": [
        "\n",
        "2.24994718111\n",
        "length  80\n",
        "complete  video\\cctv052x2004080519x01686.avi\n",
        "start  video\\cctv052x2004080519x01687.avi\n",
        "(60, 80)"
       ]
      },
      {
       "output_type": "stream",
       "stream": "stdout",
       "text": [
        "\n",
        "3.14805286335\n",
        "length  80\n",
        "complete  video\\cctv052x2004080519x01687.avi\n",
        "start  video\\cctv052x2004080519x01688.avi\n",
        "(60, 80)"
       ]
      },
      {
       "output_type": "stream",
       "stream": "stdout",
       "text": [
        "\n",
        "1.82950692807\n",
        "length  80\n",
        "complete  video\\cctv052x2004080519x01688.avi\n",
        "start  video\\cctv052x2004080519x01689.avi\n",
        "(60, 80)"
       ]
      },
      {
       "output_type": "stream",
       "stream": "stdout",
       "text": [
        "\n",
        "3.63882043227\n",
        "length  80\n",
        "complete  video\\cctv052x2004080519x01689.avi\n",
        "start  video\\cctv052x2004080519x01690.avi\n",
        "(60, 80)"
       ]
      },
      {
       "output_type": "stream",
       "stream": "stdout",
       "text": [
        "\n",
        "3.06572664701\n",
        "length  80\n",
        "complete  video\\cctv052x2004080519x01690.avi\n",
        "start  video\\cctv052x2004080519x01691.avi\n",
        "(60, 80)"
       ]
      },
      {
       "output_type": "stream",
       "stream": "stdout",
       "text": [
        "\n",
        "5.00225369435\n",
        "length  80\n",
        "complete  video\\cctv052x2004080519x01691.avi\n",
        "start  video\\cctv052x2004080519x01692.avi\n",
        "(60, 80)"
       ]
      },
      {
       "output_type": "stream",
       "stream": "stdout",
       "text": [
        "\n",
        "3.90414140809\n",
        "length  80\n",
        "complete  video\\cctv052x2004080519x01692.avi\n",
        "start  video\\cctv052x2004080519x01693.avi\n",
        "(60, 80)"
       ]
      },
      {
       "output_type": "stream",
       "stream": "stdout",
       "text": [
        "\n",
        "3.34553729363\n",
        "length  80\n",
        "complete  video\\cctv052x2004080519x01693.avi\n",
        "start  video\\cctv052x2004080520x01694.avi\n",
        "(60, 80)"
       ]
      },
      {
       "output_type": "stream",
       "stream": "stdout",
       "text": [
        "\n",
        "3.86090433373\n",
        "length  80\n",
        "complete  video\\cctv052x2004080520x01694.avi\n",
        "start  video\\cctv052x2004080520x01695.avi\n",
        "(60, 80)"
       ]
      },
      {
       "output_type": "stream",
       "stream": "stdout",
       "text": [
        "\n",
        "2.12394973467\n",
        "length  80\n",
        "complete  video\\cctv052x2004080520x01695.avi\n",
        "start  video\\cctv052x2004080520x01697.avi\n",
        "(60, 80)"
       ]
      },
      {
       "output_type": "stream",
       "stream": "stdout",
       "text": [
        "\n",
        "2.58122051887\n",
        "length  80\n",
        "complete  video\\cctv052x2004080520x01697.avi\n",
        "start  video\\cctv052x2004080520x01698.avi\n",
        "(60, 80)"
       ]
      },
      {
       "output_type": "stream",
       "stream": "stdout",
       "text": [
        "\n",
        "2.99883915828\n",
        "length  80\n",
        "complete  video\\cctv052x2004080520x01698.avi\n",
        "start  video\\cctv052x2004080520x01699.avi\n",
        "(60, 80)"
       ]
      },
      {
       "output_type": "stream",
       "stream": "stdout",
       "text": [
        "\n",
        "1.77103365385\n",
        "length  80\n",
        "complete  video\\cctv052x2004080520x01699.avi\n",
        "start  video\\cctv052x2004080520x01700.avi\n",
        "(60, 80)"
       ]
      },
      {
       "output_type": "stream",
       "stream": "stdout",
       "text": [
        "\n",
        "2.98769508218\n",
        "length  80\n",
        "complete  video\\cctv052x2004080520x01700.avi\n",
        "start  video\\cctv052x2004080606x01820.avi\n",
        "(60, 80)"
       ]
      },
      {
       "output_type": "stream",
       "stream": "stdout",
       "text": [
        "\n",
        "1.18761055425\n",
        "length  80\n",
        "complete  video\\cctv052x2004080606x01820.avi\n",
        "start  video\\cctv052x2004080606x01821.avi\n",
        "(60, 80)"
       ]
      },
      {
       "output_type": "stream",
       "stream": "stdout",
       "text": [
        "\n",
        "0.975949754902\n",
        "length  80\n",
        "complete  video\\cctv052x2004080606x01821.avi\n",
        "start  video\\cctv052x2004080606x01822.avi\n",
        "(60, 80)"
       ]
      },
      {
       "output_type": "stream",
       "stream": "stdout",
       "text": [
        "\n",
        "1.47317216981\n",
        "length  80\n",
        "complete  video\\cctv052x2004080606x01822.avi\n",
        "start  video\\cctv052x2004080606x01823.avi\n",
        "(60, 80)"
       ]
      },
      {
       "output_type": "stream",
       "stream": "stdout",
       "text": [
        "\n",
        "1.74544885024\n",
        "length  80\n",
        "complete  video\\cctv052x2004080606x01823.avi\n",
        "start  video\\cctv052x2004080606x01824.avi\n",
        "(60, 80)"
       ]
      },
      {
       "output_type": "stream",
       "stream": "stdout",
       "text": [
        "\n",
        "2.13889298349\n",
        "length  80\n",
        "complete  video\\cctv052x2004080606x01824.avi\n",
        "start  video\\cctv052x2004080606x01826.avi\n",
        "(60, 80)"
       ]
      },
      {
       "output_type": "stream",
       "stream": "stdout",
       "text": [
        "\n",
        "2.07826895084\n",
        "length  80\n",
        "complete  video\\cctv052x2004080606x01826.avi\n",
        "start  video\\cctv052x2004080606x01827.avi\n",
        "(60, 80)"
       ]
      },
      {
       "output_type": "stream",
       "stream": "stdout",
       "text": [
        "\n",
        "2.36980395047\n",
        "length  80\n",
        "complete  video\\cctv052x2004080606x01827.avi\n",
        "start  video\\cctv052x2004080606x01828.avi\n",
        "(60, 80)"
       ]
      },
      {
       "output_type": "stream",
       "stream": "stdout",
       "text": [
        "\n",
        "2.88677509014\n",
        "length  80\n",
        "complete  video\\cctv052x2004080606x01828.avi\n",
        "start  video\\cctv052x2004080606x01829.avi\n",
        "(60, 80)"
       ]
      },
      {
       "output_type": "stream",
       "stream": "stdout",
       "text": [
        "\n",
        "2.53774045548\n",
        "length  80\n",
        "complete  video\\cctv052x2004080606x01829.avi\n",
        "start  video\\cctv052x2004080606x01830.avi\n",
        "(60, 80)"
       ]
      },
      {
       "output_type": "stream",
       "stream": "stdout",
       "text": [
        "\n",
        "1.82240151459\n",
        "length  80\n",
        "complete  video\\cctv052x2004080606x01830.avi\n",
        "start  video\\cctv052x2004080606x01831.avi\n",
        "(60, 80)"
       ]
      },
      {
       "output_type": "stream",
       "stream": "stdout",
       "text": [
        "\n",
        "2.29223863134\n",
        "length  80\n",
        "complete  video\\cctv052x2004080606x01831.avi\n",
        "start  video\\cctv052x2004080606x01832.avi\n",
        "(60, 80)"
       ]
      },
      {
       "output_type": "stream",
       "stream": "stdout",
       "text": [
        "\n",
        "1.82505136166\n",
        "length  80\n",
        "complete  video\\cctv052x2004080606x01832.avi\n",
        "start  video\\cctv052x2004080606x01833.avi\n",
        "(60, 80)"
       ]
      },
      {
       "output_type": "stream",
       "stream": "stdout",
       "text": [
        "\n",
        "1.86825619104\n",
        "length  80\n",
        "complete  video\\cctv052x2004080606x01833.avi\n",
        "start  video\\cctv052x2004080606x01834.avi\n",
        "(60, 80)"
       ]
      },
      {
       "output_type": "stream",
       "stream": "stdout",
       "text": [
        "\n",
        "2.85723761792\n",
        "length  80\n",
        "complete  video\\cctv052x2004080606x01834.avi\n",
        "start  video\\cctv052x2004080607x01835.avi\n",
        "(60, 80)"
       ]
      },
      {
       "output_type": "stream",
       "stream": "stdout",
       "text": [
        "\n",
        "1.38541052476\n",
        "length  80\n",
        "complete  video\\cctv052x2004080607x01835.avi\n",
        "start  video\\cctv052x2004080607x01836.avi\n",
        "(60, 80)"
       ]
      },
      {
       "output_type": "stream",
       "stream": "stdout",
       "text": [
        "\n",
        "2.67562808631\n",
        "length  80\n",
        "complete  video\\cctv052x2004080607x01836.avi\n",
        "start  video\\cctv052x2004080607x01837.avi\n",
        "(60, 80)"
       ]
      },
      {
       "output_type": "stream",
       "stream": "stdout",
       "text": [
        "\n",
        "1.84596108491\n",
        "length  80\n",
        "complete  video\\cctv052x2004080607x01837.avi\n",
        "start  video\\cctv052x2004080607x01838.avi\n",
        "(60, 80)"
       ]
      },
      {
       "output_type": "stream",
       "stream": "stdout",
       "text": [
        "\n",
        "3.07017315559\n",
        "length  80\n",
        "complete  video\\cctv052x2004080607x01838.avi\n",
        "start  video\\cctv052x2004080607x01839.avi\n",
        "(60, 80)"
       ]
      },
      {
       "output_type": "stream",
       "stream": "stdout",
       "text": [
        "\n",
        "1.59688237028\n",
        "length  80\n",
        "complete  video\\cctv052x2004080607x01839.avi\n",
        "start  video\\cctv052x2004080607x01840.avi\n",
        "(60, 80)"
       ]
      },
      {
       "output_type": "stream",
       "stream": "stdout",
       "text": [
        "\n",
        "1.30823560031\n",
        "length  80\n",
        "complete  video\\cctv052x2004080607x01840.avi\n",
        "start  video\\cctv052x2004080607x01841.avi\n",
        "(60, 80)"
       ]
      },
      {
       "output_type": "stream",
       "stream": "stdout",
       "text": [
        "\n",
        "1.60395093234\n",
        "length  80\n",
        "complete  video\\cctv052x2004080607x01841.avi\n",
        "start  video\\cctv052x2004080607x01842.avi\n",
        "(60, 80)"
       ]
      },
      {
       "output_type": "stream",
       "stream": "stdout",
       "text": [
        "\n",
        "1.79215801887\n",
        "length  80\n",
        "complete  video\\cctv052x2004080607x01842.avi\n",
        "start  video\\cctv052x2004080607x01843.avi\n",
        "(60, 80)"
       ]
      },
      {
       "output_type": "stream",
       "stream": "stdout",
       "text": [
        "\n",
        "1.64245720629\n",
        "length  80\n",
        "complete  video\\cctv052x2004080607x01843.avi\n",
        "start  video\\cctv052x2004080607x01844.avi\n",
        "(60, 80)"
       ]
      },
      {
       "output_type": "stream",
       "stream": "stdout",
       "text": [
        "\n",
        "1.22064669627\n",
        "length  80\n",
        "complete  video\\cctv052x2004080607x01844.avi\n",
        "start  video\\cctv052x2004080607x01845.avi\n",
        "(60, 80)"
       ]
      },
      {
       "output_type": "stream",
       "stream": "stdout",
       "text": [
        "\n",
        "2.01590829525\n",
        "length  80\n",
        "complete  video\\cctv052x2004080607x01845.avi\n",
        "start  video\\cctv052x2004080607x01846.avi\n",
        "(60, 80)"
       ]
      },
      {
       "output_type": "stream",
       "stream": "stdout",
       "text": [
        "\n",
        "1.50046064269\n",
        "length  80\n",
        "complete  video\\cctv052x2004080607x01846.avi\n",
        "start  video\\cctv052x2004080607x01847.avi\n",
        "(60, 80)"
       ]
      },
      {
       "output_type": "stream",
       "stream": "stdout",
       "text": [
        "\n",
        "1.75317617563\n",
        "length  80\n",
        "complete  video\\cctv052x2004080607x01847.avi\n",
        "start  video\\cctv052x2004080607x01848.avi\n",
        "(60, 80)"
       ]
      },
      {
       "output_type": "stream",
       "stream": "stdout",
       "text": [
        "\n",
        "1.52102373231\n",
        "length  80\n",
        "complete  video\\cctv052x2004080607x01848.avi\n",
        "start  video\\cctv052x2004080608x01849.avi\n",
        "(60, 80)"
       ]
      },
      {
       "output_type": "stream",
       "stream": "stdout",
       "text": [
        "\n",
        "0.866026680425\n",
        "length  80\n",
        "complete  video\\cctv052x2004080608x01849.avi\n",
        "start  video\\cctv052x2004080608x01850.avi\n",
        "(60, 80)"
       ]
      },
      {
       "output_type": "stream",
       "stream": "stdout",
       "text": [
        "\n",
        "1.03935731132\n",
        "length  80\n",
        "complete  video\\cctv052x2004080608x01850.avi\n",
        "start  video\\cctv052x2004080608x01851.avi\n",
        "(60, 80)"
       ]
      },
      {
       "output_type": "stream",
       "stream": "stdout",
       "text": [
        "\n",
        "3.2951614092\n",
        "length  80\n",
        "complete  video\\cctv052x2004080608x01851.avi\n",
        "start  video\\cctv052x2004080608x01852.avi\n",
        "(60, 80)"
       ]
      },
      {
       "output_type": "stream",
       "stream": "stdout",
       "text": [
        "\n",
        "2.10389104879\n",
        "length  80\n",
        "complete  video\\cctv052x2004080608x01852.avi\n",
        "start  video\\cctv052x2004080608x01853.avi\n",
        "(60, 80)"
       ]
      },
      {
       "output_type": "stream",
       "stream": "stdout",
       "text": [
        "\n",
        "2.56093036004\n",
        "length  80\n",
        "complete  video\\cctv052x2004080608x01853.avi\n",
        "start  video\\cctv052x2004080608x01854.avi\n",
        "(60, 80)"
       ]
      },
      {
       "output_type": "stream",
       "stream": "stdout",
       "text": [
        "\n",
        "3.58270378833\n",
        "length  80\n",
        "complete  video\\cctv052x2004080608x01854.avi\n",
        "start  video\\cctv052x2004080608x01855.avi\n",
        "(60, 80)"
       ]
      },
      {
       "output_type": "stream",
       "stream": "stdout",
       "text": [
        "\n",
        "2.80360016999\n",
        "length  80\n",
        "complete  video\\cctv052x2004080608x01855.avi\n",
        "start  video\\cctv052x2004080608x01856.avi\n",
        "(60, 80)"
       ]
      },
      {
       "output_type": "stream",
       "stream": "stdout",
       "text": [
        "\n",
        "2.72825766509\n",
        "length  80\n",
        "complete  video\\cctv052x2004080608x01856.avi\n",
        "start  video\\cctv052x2004080608x01857.avi\n",
        "(60, 80)"
       ]
      },
      {
       "output_type": "stream",
       "stream": "stdout",
       "text": [
        "\n",
        "2.46876957731\n",
        "length  80\n",
        "complete  video\\cctv052x2004080608x01857.avi\n",
        "start  video\\cctv052x2004080608x01858.avi\n",
        "(60, 80)"
       ]
      },
      {
       "output_type": "stream",
       "stream": "stdout",
       "text": [
        "\n",
        "1.59966465212\n",
        "length  80\n",
        "complete  video\\cctv052x2004080608x01858.avi\n",
        "start  video\\cctv052x2004080609x01859.avi\n",
        "(60, 80)"
       ]
      },
      {
       "output_type": "stream",
       "stream": "stdout",
       "text": [
        "\n",
        "1.91806087854\n",
        "length  80\n",
        "complete  video\\cctv052x2004080609x01859.avi\n",
        "start  video\\cctv052x2004080609x01860.avi\n",
        "(60, 80)"
       ]
      },
      {
       "output_type": "stream",
       "stream": "stdout",
       "text": [
        "\n",
        "2.20696434608\n",
        "length  80\n",
        "complete  video\\cctv052x2004080609x01860.avi\n",
        "start  video\\cctv052x2004080609x01861.avi\n",
        "(60, 80)"
       ]
      },
      {
       "output_type": "stream",
       "stream": "stdout",
       "text": [
        "\n",
        "2.25122187688\n",
        "length  80\n",
        "complete  video\\cctv052x2004080609x01861.avi\n",
        "start  video\\cctv052x2004080609x01862.avi\n",
        "(60, 80)"
       ]
      },
      {
       "output_type": "stream",
       "stream": "stdout",
       "text": [
        "\n",
        "1.81951213333\n",
        "length  80\n",
        "complete  video\\cctv052x2004080609x01862.avi\n",
        "start  video\\cctv052x2004080609x01863.avi\n",
        "(60, 80)"
       ]
      },
      {
       "output_type": "stream",
       "stream": "stdout",
       "text": [
        "\n",
        "1.58110996462\n",
        "length  80\n",
        "complete  video\\cctv052x2004080609x01863.avi\n",
        "start  video\\cctv052x2004080609x01864.avi\n",
        "(60, 80)"
       ]
      },
      {
       "output_type": "stream",
       "stream": "stdout",
       "text": [
        "\n",
        "2.58389570128\n",
        "length  80\n",
        "complete  video\\cctv052x2004080609x01864.avi\n",
        "start  video\\cctv052x2004080609x01865.avi\n",
        "(60, 80)"
       ]
      },
      {
       "output_type": "stream",
       "stream": "stdout",
       "text": [
        "\n",
        "1.36794295401\n",
        "length  80\n",
        "complete  video\\cctv052x2004080609x01865.avi\n",
        "start  video\\cctv052x2004080609x01866.avi\n",
        "(60, 80)"
       ]
      },
      {
       "output_type": "stream",
       "stream": "stdout",
       "text": [
        "\n",
        "2.31438152607\n",
        "length  80\n",
        "complete  video\\cctv052x2004080609x01866.avi\n",
        "start  video\\cctv052x2004080609x01867.avi\n",
        "(60, 80)"
       ]
      },
      {
       "output_type": "stream",
       "stream": "stdout",
       "text": [
        "\n",
        "1.79138413915\n",
        "length  80\n",
        "complete  video\\cctv052x2004080609x01867.avi\n",
        "start  video\\cctv052x2004080609x01869.avi\n",
        "(60, 80)"
       ]
      },
      {
       "output_type": "stream",
       "stream": "stdout",
       "text": [
        "\n",
        "3.07663251769\n",
        "length  80\n",
        "complete  video\\cctv052x2004080609x01869.avi\n",
        "start  video\\cctv052x2004080609x01870.avi\n",
        "(60, 80)"
       ]
      },
      {
       "output_type": "stream",
       "stream": "stdout",
       "text": [
        "\n",
        "2.76733398438\n",
        "length  80\n",
        "complete  video\\cctv052x2004080609x01870.avi\n",
        "start  video\\cctv052x2004080609x01871.avi\n",
        "(60, 80)"
       ]
      },
      {
       "output_type": "stream",
       "stream": "stdout",
       "text": [
        "\n",
        "1.21835039247\n",
        "length  80\n",
        "complete  video\\cctv052x2004080609x01871.avi\n",
        "start  video\\cctv052x2004080609x01872.avi\n",
        "(60, 80)"
       ]
      },
      {
       "output_type": "stream",
       "stream": "stdout",
       "text": [
        "\n",
        "2.69035943949\n",
        "length  80\n",
        "complete  video\\cctv052x2004080609x01872.avi\n",
        "start  video\\cctv052x2004080609x01873.avi\n",
        "(60, 80)"
       ]
      },
      {
       "output_type": "stream",
       "stream": "stdout",
       "text": [
        "\n",
        "2.22993670769\n",
        "length  80\n",
        "complete  video\\cctv052x2004080609x01873.avi\n",
        "start  video\\cctv052x2004080609x01874.avi\n",
        "(60, 80)"
       ]
      },
      {
       "output_type": "stream",
       "stream": "stdout",
       "text": [
        "\n",
        "1.67872475678\n",
        "length  80\n",
        "complete  video\\cctv052x2004080609x01874.avi\n",
        "start  video\\cctv052x2004080609x01875.avi\n",
        "(60, 80)"
       ]
      },
      {
       "output_type": "stream",
       "stream": "stdout",
       "text": [
        "\n",
        "2.09607163915\n",
        "length  80\n",
        "complete  video\\cctv052x2004080609x01875.avi\n",
        "start  video\\cctv052x2004080609x01876.avi\n",
        "(60, 80)"
       ]
      },
      {
       "output_type": "stream",
       "stream": "stdout",
       "text": [
        "\n",
        "0.759520332768\n",
        "length  80\n",
        "complete  video\\cctv052x2004080609x01876.avi\n",
        "start  video\\cctv052x2004080610x01877.avi\n",
        "(60, 80)"
       ]
      },
      {
       "output_type": "stream",
       "stream": "stdout",
       "text": [
        "\n",
        "1.4943813108\n",
        "length  80\n",
        "complete  video\\cctv052x2004080610x01877.avi\n",
        "start  video\\cctv052x2004080610x01878.avi\n",
        "(60, 80)"
       ]
      },
      {
       "output_type": "stream",
       "stream": "stdout",
       "text": [
        "\n",
        "0.997881043632\n",
        "length  80\n",
        "complete  video\\cctv052x2004080610x01878.avi\n",
        "start  video\\cctv052x2004080610x01879.avi\n",
        "(60, 80)"
       ]
      },
      {
       "output_type": "stream",
       "stream": "stdout",
       "text": [
        "\n",
        "1.62103732127\n",
        "length  80\n",
        "complete  video\\cctv052x2004080610x01879.avi\n",
        "start  video\\cctv052x2004080610x01880.avi\n",
        "(60, 80)"
       ]
      },
      {
       "output_type": "stream",
       "stream": "stdout",
       "text": [
        "\n",
        "1.13329041679\n",
        "length  80\n",
        "complete  video\\cctv052x2004080610x01880.avi\n",
        "start  video\\cctv052x2004080610x01881.avi\n",
        "(60, 80)"
       ]
      },
      {
       "output_type": "stream",
       "stream": "stdout",
       "text": [
        "\n",
        "2.17617279629\n",
        "length  80\n",
        "complete  video\\cctv052x2004080610x01881.avi\n",
        "start  video\\cctv052x2004080610x01882.avi\n",
        "(60, 80)"
       ]
      },
      {
       "output_type": "stream",
       "stream": "stdout",
       "text": [
        "\n",
        "1.90424965912\n",
        "length  80\n",
        "complete  video\\cctv052x2004080610x01882.avi\n",
        "start  video\\cctv052x2004080610x01883.avi\n",
        "(60, 80)"
       ]
      },
      {
       "output_type": "stream",
       "stream": "stdout",
       "text": [
        "\n",
        "2.43060187574\n",
        "length  80\n",
        "complete  video\\cctv052x2004080610x01883.avi\n",
        "start  video\\cctv052x2004080610x01884.avi\n",
        "(60, 80)"
       ]
      },
      {
       "output_type": "stream",
       "stream": "stdout",
       "text": [
        "\n",
        "2.92126695165\n",
        "length  80\n",
        "complete  video\\cctv052x2004080610x01884.avi\n",
        "start  video\\cctv052x2004080610x01885.avi\n",
        "(60, 80)"
       ]
      },
      {
       "output_type": "stream",
       "stream": "stdout",
       "text": [
        "\n",
        "2.17271797612\n",
        "length  80\n",
        "complete  video\\cctv052x2004080610x01885.avi\n",
        "start  video\\cctv052x2004080610x01886.avi\n",
        "(60, 80)"
       ]
      },
      {
       "output_type": "stream",
       "stream": "stdout",
       "text": [
        "\n",
        "2.51232104032\n",
        "length  80\n",
        "complete  video\\cctv052x2004080610x01886.avi\n",
        "start  video\\cctv052x2004080610x01887.avi\n",
        "(60, 80)"
       ]
      },
      {
       "output_type": "stream",
       "stream": "stdout",
       "text": [
        "\n",
        "3.31800122531\n",
        "length  80\n",
        "complete  video\\cctv052x2004080610x01887.avi\n",
        "start  video\\cctv052x2004080610x01889.avi\n",
        "(60, 80)"
       ]
      },
      {
       "output_type": "stream",
       "stream": "stdout",
       "text": [
        "\n",
        "2.44479722243\n",
        "length  80\n",
        "complete  video\\cctv052x2004080610x01889.avi\n",
        "start  video\\cctv052x2004080610x01890.avi\n",
        "(60, 80)"
       ]
      },
      {
       "output_type": "stream",
       "stream": "stdout",
       "text": [
        "\n",
        "3.42816853073\n",
        "length  80\n",
        "complete  video\\cctv052x2004080610x01890.avi\n",
        "start  video\\cctv052x2004080610x01891.avi\n",
        "(60, 80)"
       ]
      },
      {
       "output_type": "stream",
       "stream": "stdout",
       "text": [
        "\n",
        "2.87958915279\n",
        "length  80\n",
        "complete  video\\cctv052x2004080610x01891.avi\n",
        "start  video\\cctv052x2004080610x01892.avi\n",
        "(60, 80)"
       ]
      },
      {
       "output_type": "stream",
       "stream": "stdout",
       "text": [
        "\n",
        "2.43147479363\n",
        "length  80\n",
        "complete  video\\cctv052x2004080610x01892.avi\n",
        "start  video\\cctv052x2004080611x01894.avi\n",
        "(60, 80)"
       ]
      },
      {
       "output_type": "stream",
       "stream": "stdout",
       "text": [
        "\n",
        "2.83078521153\n",
        "length  80\n",
        "complete  video\\cctv052x2004080611x01894.avi\n",
        "start  video\\cctv052x2004080611x01895.avi\n",
        "(60, 80)"
       ]
      },
      {
       "output_type": "stream",
       "stream": "stdout",
       "text": [
        "\n",
        "1.98882250516\n",
        "length  80\n",
        "complete  video\\cctv052x2004080611x01895.avi\n",
        "start  video\\cctv052x2004080611x01896.avi\n",
        "(60, 80)"
       ]
      },
      {
       "output_type": "stream",
       "stream": "stdout",
       "text": [
        "\n",
        "2.38629956515\n",
        "length  80\n",
        "complete  video\\cctv052x2004080611x01896.avi\n",
        "start  video\\cctv052x2004080611x01897.avi\n",
        "(60, 80)"
       ]
      },
      {
       "output_type": "stream",
       "stream": "stdout",
       "text": [
        "\n",
        "1.77331542969\n",
        "length  80\n",
        "complete  video\\cctv052x2004080611x01897.avi\n",
        "start  video\\cctv052x2004080611x01898.avi\n",
        "(60, 80)"
       ]
      },
      {
       "output_type": "stream",
       "stream": "stdout",
       "text": [
        "\n",
        "3.54514643831\n",
        "length  80\n",
        "complete  video\\cctv052x2004080611x01898.avi\n",
        "start  video\\cctv052x2004080611x01899.avi\n",
        "(60, 80)"
       ]
      },
      {
       "output_type": "stream",
       "stream": "stdout",
       "text": [
        "\n",
        "1.98366445865\n",
        "length  80\n",
        "complete  video\\cctv052x2004080611x01899.avi\n",
        "start  video\\cctv052x2004080611x01900.avi\n",
        "(60, 80)"
       ]
      },
      {
       "output_type": "stream",
       "stream": "stdout",
       "text": [
        "\n",
        "2.04343003493\n",
        "length  80\n",
        "complete  video\\cctv052x2004080611x01900.avi\n",
        "start  video\\cctv052x2004080611x01901.avi\n",
        "(60, 80)"
       ]
      },
      {
       "output_type": "stream",
       "stream": "stdout",
       "text": [
        "\n",
        "1.82324101375\n",
        "length  80\n",
        "complete  video\\cctv052x2004080611x01901.avi\n",
        "start  video\\cctv052x2004080611x01902.avi\n",
        "(60, 80)"
       ]
      },
      {
       "output_type": "stream",
       "stream": "stdout",
       "text": [
        "\n",
        "1.85807713922\n",
        "length  80\n",
        "complete  video\\cctv052x2004080611x01902.avi\n",
        "start  video\\cctv052x2004080611x01903.avi\n",
        "(60, 80)"
       ]
      },
      {
       "output_type": "stream",
       "stream": "stdout",
       "text": [
        "\n",
        "1.60460965139\n",
        "length  80\n",
        "complete  video\\cctv052x2004080611x01903.avi\n",
        "start  video\\cctv052x2004080611x01904.avi\n",
        "(60, 80)"
       ]
      },
      {
       "output_type": "stream",
       "stream": "stdout",
       "text": [
        "\n",
        "1.82386635834\n",
        "length  80\n",
        "complete  video\\cctv052x2004080611x01904.avi\n",
        "start  video\\cctv052x2004080611x01905.avi\n",
        "(60, 80)"
       ]
      },
      {
       "output_type": "stream",
       "stream": "stdout",
       "text": [
        "\n",
        "1.2939453125\n",
        "length  80\n",
        "complete  video\\cctv052x2004080611x01905.avi\n",
        "start  video\\cctv052x2004080611x01906.avi\n",
        "(60, 80)"
       ]
      },
      {
       "output_type": "stream",
       "stream": "stdout",
       "text": [
        "\n",
        "0.834187057783\n",
        "length  80\n",
        "complete  video\\cctv052x2004080611x01906.avi\n",
        "start  video\\cctv052x2004080611x01907.avi\n",
        "(60, 80)"
       ]
      },
      {
       "output_type": "stream",
       "stream": "stdout",
       "text": [
        "\n",
        "2.39329672759\n",
        "length  80\n",
        "complete  video\\cctv052x2004080611x01907.avi\n",
        "start  video\\cctv052x2004080612x00000.avi\n",
        "(60, 80)"
       ]
      },
      {
       "output_type": "stream",
       "stream": "stdout",
       "text": [
        "\n",
        "1.96000469856\n",
        "length  80\n",
        "complete  video\\cctv052x2004080612x00000.avi\n",
        "start  video\\cctv052x2004080612x00002.avi\n",
        "(60, 80)"
       ]
      },
      {
       "output_type": "stream",
       "stream": "stdout",
       "text": [
        "\n",
        "0.758296174823\n",
        "length  80\n",
        "complete  video\\cctv052x2004080612x00002.avi\n",
        "start  video\\cctv052x2004080612x00003.avi\n",
        "(60, 80)"
       ]
      },
      {
       "output_type": "stream",
       "stream": "stdout",
       "text": [
        "\n",
        "1.6617465549\n",
        "length  80\n",
        "complete  video\\cctv052x2004080612x00003.avi\n",
        "start  video\\cctv052x2004080612x00004.avi\n",
        "(60, 80)"
       ]
      },
      {
       "output_type": "stream",
       "stream": "stdout",
       "text": [
        "\n",
        "2.54403513782\n",
        "length  80\n",
        "complete  video\\cctv052x2004080612x00004.avi\n",
        "start  video\\cctv052x2004080612x00005.avi\n",
        "(60, 80)"
       ]
      },
      {
       "output_type": "stream",
       "stream": "stdout",
       "text": [
        "\n",
        "2.81332915684\n",
        "length  80\n",
        "complete  video\\cctv052x2004080612x00005.avi\n",
        "start  video\\cctv052x2004080612x00006.avi\n",
        "(60, 80)"
       ]
      },
      {
       "output_type": "stream",
       "stream": "stdout",
       "text": [
        "\n",
        "2.52919207879\n",
        "length  80\n",
        "complete  video\\cctv052x2004080612x00006.avi\n",
        "start  video\\cctv052x2004080612x00007.avi\n",
        "(60, 80)"
       ]
      },
      {
       "output_type": "stream",
       "stream": "stdout",
       "text": [
        "\n",
        "3.58932207216\n",
        "length  80\n",
        "complete  video\\cctv052x2004080612x00007.avi\n",
        "start  video\\cctv052x2004080612x01908.avi\n",
        "(60, 80)"
       ]
      },
      {
       "output_type": "stream",
       "stream": "stdout",
       "text": [
        "\n",
        "1.43885774432\n",
        "length  80\n",
        "complete  video\\cctv052x2004080612x01908.avi\n",
        "start  video\\cctv052x2004080612x01909.avi\n",
        "(60, 80)"
       ]
      },
      {
       "output_type": "stream",
       "stream": "stdout",
       "text": [
        "\n",
        "2.00478377432\n",
        "length  80\n",
        "complete  video\\cctv052x2004080612x01909.avi\n",
        "start  video\\cctv052x2004080612x01910.avi\n",
        "(60, 80)"
       ]
      },
      {
       "output_type": "stream",
       "stream": "stdout",
       "text": [
        "\n",
        "0.798330630896\n",
        "length  80\n",
        "complete  video\\cctv052x2004080612x01910.avi\n",
        "start  video\\cctv052x2004080612x01911.avi\n",
        "(60, 80)"
       ]
      },
      {
       "output_type": "stream",
       "stream": "stdout",
       "text": [
        "\n",
        "1.49504348467\n",
        "length  80\n",
        "complete  video\\cctv052x2004080612x01911.avi\n",
        "start  video\\cctv052x2004080612x01912.avi\n",
        "(60, 80)"
       ]
      },
      {
       "output_type": "stream",
       "stream": "stdout",
       "text": [
        "\n",
        "2.44571671396\n",
        "length  80\n",
        "complete  video\\cctv052x2004080612x01912.avi\n",
        "start  video\\cctv052x2004080612x01913.avi\n",
        "(60, 80)"
       ]
      },
      {
       "output_type": "stream",
       "stream": "stdout",
       "text": [
        "\n",
        "1.72857435694\n",
        "length  80\n",
        "complete  video\\cctv052x2004080612x01913.avi\n",
        "start  video\\cctv052x2004080612x01914.avi\n",
        "(60, 80)"
       ]
      },
      {
       "output_type": "stream",
       "stream": "stdout",
       "text": [
        "\n",
        "1.84625474462\n",
        "length  80\n",
        "complete  video\\cctv052x2004080612x01914.avi\n",
        "start  video\\cctv052x2004080612x01915.avi\n",
        "(60, 80)"
       ]
      },
      {
       "output_type": "stream",
       "stream": "stdout",
       "text": [
        "\n",
        "2.16983780771\n",
        "length  80\n",
        "complete  video\\cctv052x2004080612x01915.avi\n",
        "start  video\\cctv052x2004080613x00008.avi\n",
        "(60, 80)"
       ]
      },
      {
       "output_type": "stream",
       "stream": "stdout",
       "text": [
        "\n",
        "3.88292650907\n",
        "length  80\n",
        "complete  video\\cctv052x2004080613x00008.avi\n",
        "start  video\\cctv052x2004080613x00009.avi\n",
        "(60, 80)"
       ]
      },
      {
       "output_type": "stream",
       "stream": "stdout",
       "text": [
        "\n",
        "4.24559280108\n",
        "length  80\n",
        "complete  video\\cctv052x2004080613x00009.avi\n",
        "start  video\\cctv052x2004080613x00010.avi\n",
        "(60, 80)"
       ]
      },
      {
       "output_type": "stream",
       "stream": "stdout",
       "text": [
        "\n",
        "2.81868988613\n",
        "length  80\n",
        "complete  video\\cctv052x2004080613x00010.avi\n",
        "start  video\\cctv052x2004080613x00011.avi\n",
        "(60, 80)"
       ]
      },
      {
       "output_type": "stream",
       "stream": "stdout",
       "text": [
        "\n",
        "2.10751170032\n",
        "length  80\n",
        "complete  video\\cctv052x2004080613x00011.avi\n",
        "start  video\\cctv052x2004080613x00012.avi\n",
        "(60, 80)"
       ]
      },
      {
       "output_type": "stream",
       "stream": "stdout",
       "text": [
        "\n",
        "4.11717943875\n",
        "length  80\n",
        "complete  video\\cctv052x2004080613x00012.avi\n",
        "start  video\\cctv052x2004080613x00013.avi\n",
        "(60, 80)"
       ]
      },
      {
       "output_type": "stream",
       "stream": "stdout",
       "text": [
        "\n",
        "2.58088194649\n",
        "length  80\n",
        "complete  video\\cctv052x2004080613x00013.avi\n",
        "start  video\\cctv052x2004080613x00014.avi\n",
        "(60, 80)"
       ]
      },
      {
       "output_type": "stream",
       "stream": "stdout",
       "text": [
        "\n",
        "2.73850005528\n",
        "length  80\n",
        "complete  video\\cctv052x2004080613x00014.avi\n",
        "start  video\\cctv052x2004080613x00015.avi\n",
        "(60, 80)"
       ]
      },
      {
       "output_type": "stream",
       "stream": "stdout",
       "text": [
        "\n",
        "3.81051002358\n",
        "length  80\n",
        "complete  video\\cctv052x2004080613x00015.avi\n",
        "start  video\\cctv052x2004080613x00016.avi\n",
        "(60, 80)"
       ]
      },
      {
       "output_type": "stream",
       "stream": "stdout",
       "text": [
        "\n",
        "3.1020599941\n",
        "length  80\n",
        "complete  video\\cctv052x2004080613x00016.avi\n",
        "start  video\\cctv052x2004080613x00017.avi\n",
        "(60, 80)"
       ]
      },
      {
       "output_type": "stream",
       "stream": "stdout",
       "text": [
        "\n",
        "2.57811809036\n",
        "length  80\n",
        "complete  video\\cctv052x2004080613x00017.avi\n",
        "start  video\\cctv052x2004080613x00018.avi\n",
        "(60, 80)"
       ]
      },
      {
       "output_type": "stream",
       "stream": "stdout",
       "text": [
        "\n",
        "4.41247904076\n",
        "length  80\n",
        "complete  video\\cctv052x2004080613x00018.avi\n",
        "start  video\\cctv052x2004080614x00019.avi\n",
        "(60, 80)"
       ]
      },
      {
       "output_type": "stream",
       "stream": "stdout",
       "text": [
        "\n",
        "4.68689425486\n",
        "length  80\n",
        "complete  video\\cctv052x2004080614x00019.avi\n",
        "start  video\\cctv052x2004080614x00020.avi\n",
        "(60, 80)"
       ]
      },
      {
       "output_type": "stream",
       "stream": "stdout",
       "text": [
        "\n",
        "3.24744343308\n",
        "length  80\n",
        "complete  video\\cctv052x2004080614x00020.avi\n",
        "start  video\\cctv052x2004080614x00021.avi\n",
        "(60, 80)"
       ]
      },
      {
       "output_type": "stream",
       "stream": "stdout",
       "text": [
        "\n",
        "4.03407489129\n",
        "length  80\n",
        "complete  video\\cctv052x2004080614x00021.avi\n",
        "start  video\\cctv052x2004080614x00022.avi\n",
        "(60, 80)"
       ]
      },
      {
       "output_type": "stream",
       "stream": "stdout",
       "text": [
        "\n",
        "3.26580465065\n",
        "length  80\n",
        "complete  video\\cctv052x2004080614x00022.avi\n",
        "start  video\\cctv052x2004080614x00023.avi\n",
        "(60, 80)"
       ]
      },
      {
       "output_type": "stream",
       "stream": "stdout",
       "text": [
        "\n",
        "4.31358924279\n",
        "length  80\n",
        "complete  video\\cctv052x2004080614x00023.avi\n",
        "start  video\\cctv052x2004080614x00024.avi\n",
        "(60, 80)"
       ]
      },
      {
       "output_type": "stream",
       "stream": "stdout",
       "text": [
        "\n",
        "3.90704576024\n",
        "length  80\n",
        "complete  video\\cctv052x2004080614x00024.avi\n",
        "start  video\\cctv052x2004080614x00025.avi\n",
        "(60, 80)"
       ]
      },
      {
       "output_type": "stream",
       "stream": "stdout",
       "text": [
        "\n",
        "2.55116703825\n",
        "length  80\n",
        "complete  video\\cctv052x2004080614x00025.avi\n",
        "start  video\\cctv052x2004080614x00026.avi\n",
        "(60, 80)"
       ]
      },
      {
       "output_type": "stream",
       "stream": "stdout",
       "text": [
        "\n",
        "3.00794723799\n",
        "length  80\n",
        "complete  video\\cctv052x2004080614x00026.avi\n",
        "start  video\\cctv052x2004080614x00027.avi\n",
        "(60, 80)"
       ]
      },
      {
       "output_type": "stream",
       "stream": "stdout",
       "text": [
        "\n",
        "4.34507319612\n",
        "length  80\n",
        "complete  video\\cctv052x2004080614x00027.avi\n",
        "start  video\\cctv052x2004080615x00028.avi\n",
        "(60, 80)"
       ]
      },
      {
       "output_type": "stream",
       "stream": "stdout",
       "text": [
        "\n",
        "4.52517066812\n",
        "length  80\n",
        "complete  video\\cctv052x2004080615x00028.avi\n",
        "start  video\\cctv052x2004080615x00029.avi\n",
        "(60, 80)"
       ]
      },
      {
       "output_type": "stream",
       "stream": "stdout",
       "text": [
        "\n",
        "6.23190480358\n",
        "length  80\n",
        "complete  video\\cctv052x2004080615x00029.avi\n",
        "start  video\\cctv052x2004080615x00030.avi\n",
        "(60, 80)"
       ]
      },
      {
       "output_type": "stream",
       "stream": "stdout",
       "text": [
        "\n",
        "4.76842801076\n",
        "length  80\n",
        "complete  video\\cctv052x2004080615x00030.avi\n",
        "start  video\\cctv052x2004080615x00031.avi\n",
        "(60, 80)"
       ]
      },
      {
       "output_type": "stream",
       "stream": "stdout",
       "text": [
        "\n",
        "3.81035570828\n",
        "length  80\n",
        "complete  video\\cctv052x2004080615x00031.avi\n",
        "start  video\\cctv052x2004080615x00032.avi\n",
        "(60, 80)"
       ]
      },
      {
       "output_type": "stream",
       "stream": "stdout",
       "text": [
        "\n",
        "3.3957473467\n",
        "length  80\n",
        "complete  video\\cctv052x2004080615x00032.avi\n",
        "start  video\\cctv052x2004080615x00033.avi\n",
        "(60, 80)"
       ]
      },
      {
       "output_type": "stream",
       "stream": "stdout",
       "text": [
        "\n",
        "3.72501474057\n",
        "length  80\n",
        "complete  video\\cctv052x2004080615x00033.avi\n",
        "start  video\\cctv052x2004080615x00034.avi\n",
        "(60, 80)"
       ]
      },
      {
       "output_type": "stream",
       "stream": "stdout",
       "text": [
        "\n",
        "2.4688870412\n",
        "length  80\n",
        "complete  video\\cctv052x2004080615x00034.avi\n",
        "start  video\\cctv052x2004080615x00035.avi\n",
        "(60, 80)"
       ]
      },
      {
       "output_type": "stream",
       "stream": "stdout",
       "text": [
        "\n",
        "2.28796156397\n",
        "length  80\n",
        "complete  video\\cctv052x2004080615x00035.avi\n",
        "start  video\\cctv052x2004080615x00036.avi\n",
        "(60, 80)"
       ]
      },
      {
       "output_type": "stream",
       "stream": "stdout",
       "text": [
        "\n",
        "2.20708098235\n",
        "length  80\n",
        "complete  video\\cctv052x2004080615x00036.avi\n",
        "start  video\\cctv052x2004080615x00037.avi\n",
        "(60, 80)"
       ]
      },
      {
       "output_type": "stream",
       "stream": "stdout",
       "text": [
        "\n",
        "2.79254495873\n",
        "length  80\n",
        "complete  video\\cctv052x2004080615x00037.avi\n",
        "start  video\\cctv052x2004080615x00038.avi\n",
        "(60, 80)"
       ]
      },
      {
       "output_type": "stream",
       "stream": "stdout",
       "text": [
        "\n",
        "3.98771235628\n",
        "length  80\n",
        "complete  video\\cctv052x2004080615x00038.avi\n",
        "start  video\\cctv052x2004080615x00039.avi\n",
        "(60, 80)"
       ]
      },
      {
       "output_type": "stream",
       "stream": "stdout",
       "text": [
        "\n",
        "4.87704525354\n",
        "length  80\n",
        "complete  video\\cctv052x2004080615x00039.avi\n",
        "start  video\\cctv052x2004080615x00040.avi\n",
        "(60, 80)"
       ]
      },
      {
       "output_type": "stream",
       "stream": "stdout",
       "text": [
        "\n",
        "3.44801532098\n",
        "length  80\n",
        "complete  video\\cctv052x2004080615x00040.avi\n",
        "start  video\\cctv052x2004080615x00041.avi\n",
        "(60, 80)"
       ]
      },
      {
       "output_type": "stream",
       "stream": "stdout",
       "text": [
        "\n",
        "2.57166218308\n",
        "length  80\n",
        "complete  video\\cctv052x2004080615x00041.avi\n",
        "start  video\\cctv052x2004080615x00044.avi\n",
        "(60, 80)"
       ]
      },
      {
       "output_type": "stream",
       "stream": "stdout",
       "text": [
        "\n",
        "1.57874801924\n",
        "length  80\n",
        "complete  video\\cctv052x2004080615x00044.avi\n",
        "start  video\\cctv052x2004080615x00045.avi\n",
        "(60, 80)"
       ]
      },
      {
       "output_type": "stream",
       "stream": "stdout",
       "text": [
        "\n",
        "1.57726129496\n",
        "length  80\n",
        "complete  video\\cctv052x2004080615x00045.avi\n",
        "start  video\\cctv052x2004080616x00046.avi\n",
        "(60, 80)"
       ]
      },
      {
       "output_type": "stream",
       "stream": "stdout",
       "text": [
        "\n",
        "2.42863608306\n",
        "length  80\n",
        "complete  video\\cctv052x2004080616x00046.avi\n",
        "start  video\\cctv052x2004080616x00047.avi\n",
        "(60, 80)"
       ]
      },
      {
       "output_type": "stream",
       "stream": "stdout",
       "text": [
        "\n",
        "2.45658788141\n",
        "length  80\n",
        "complete  video\\cctv052x2004080616x00047.avi\n",
        "start  video\\cctv052x2004080616x00048.avi\n",
        "(60, 80)"
       ]
      },
      {
       "output_type": "stream",
       "stream": "stdout",
       "text": [
        "\n",
        "3.51906254606\n",
        "length  80\n",
        "complete  video\\cctv052x2004080616x00048.avi\n",
        "start  video\\cctv052x2004080616x00049.avi\n",
        "(60, 80)"
       ]
      },
      {
       "output_type": "stream",
       "stream": "stdout",
       "text": [
        "\n",
        "1.73762107382\n",
        "length  80\n",
        "complete  video\\cctv052x2004080616x00049.avi\n",
        "start  video\\cctv052x2004080616x00050.avi\n",
        "(60, 80)"
       ]
      },
      {
       "output_type": "stream",
       "stream": "stdout",
       "text": [
        "\n",
        "3.16203452056\n",
        "length  80\n",
        "complete  video\\cctv052x2004080616x00050.avi\n",
        "start  video\\cctv052x2004080616x00051.avi\n",
        "(60, 80)"
       ]
      },
      {
       "output_type": "stream",
       "stream": "stdout",
       "text": [
        "\n",
        "3.78034023069\n",
        "length  80\n",
        "complete  video\\cctv052x2004080616x00051.avi\n",
        "start  video\\cctv052x2004080616x00052.avi\n",
        "(60, 80)"
       ]
      },
      {
       "output_type": "stream",
       "stream": "stdout",
       "text": [
        "\n",
        "3.51321123231\n",
        "length  80\n",
        "complete  video\\cctv052x2004080616x00052.avi\n",
        "start  video\\cctv052x2004080616x00053.avi\n",
        "(60, 80)"
       ]
      },
      {
       "output_type": "stream",
       "stream": "stdout",
       "text": [
        "\n",
        "3.09500870615\n",
        "length  80\n",
        "complete  video\\cctv052x2004080616x00053.avi\n",
        "start  video\\cctv052x2004080616x00054.avi\n",
        "(60, 80)"
       ]
      },
      {
       "output_type": "stream",
       "stream": "stdout",
       "text": [
        "\n",
        "2.39478575509\n",
        "length  80\n",
        "complete  video\\cctv052x2004080616x00054.avi\n",
        "start  video\\cctv052x2004080616x00055.avi\n",
        "(60, 80)"
       ]
      },
      {
       "output_type": "stream",
       "stream": "stdout",
       "text": [
        "\n",
        "2.19827212927\n",
        "length  80\n",
        "complete  video\\cctv052x2004080616x00055.avi\n",
        "start  video\\cctv052x2004080616x00056.avi\n",
        "(60, 80)"
       ]
      },
      {
       "output_type": "stream",
       "stream": "stdout",
       "text": [
        "\n",
        "3.80317774359\n",
        "length  80\n",
        "complete  video\\cctv052x2004080616x00056.avi\n",
        "start  video\\cctv052x2004080616x00057.avi\n",
        "(60, 80)"
       ]
      },
      {
       "output_type": "stream",
       "stream": "stdout",
       "text": [
        "\n",
        "4.83244352521\n",
        "length  80\n",
        "complete  video\\cctv052x2004080616x00057.avi\n",
        "start  video\\cctv052x2004080616x00058.avi\n",
        "(60, 80)"
       ]
      },
      {
       "output_type": "stream",
       "stream": "stdout",
       "text": [
        "\n",
        "5.03682147332\n",
        "length  80\n",
        "complete  video\\cctv052x2004080616x00058.avi\n",
        "start  video\\cctv052x2004080616x00059.avi\n",
        "(60, 80)"
       ]
      },
      {
       "output_type": "stream",
       "stream": "stdout",
       "text": [
        "\n",
        "3.42038502413\n",
        "length  80\n",
        "complete  video\\cctv052x2004080616x00059.avi\n",
        "start  video\\cctv052x2004080616x00060.avi\n",
        "(60, 80)"
       ]
      },
      {
       "output_type": "stream",
       "stream": "stdout",
       "text": [
        "\n",
        "1.84984199956\n",
        "length  80\n",
        "complete  video\\cctv052x2004080616x00060.avi\n",
        "start  video\\cctv052x2004080616x00061.avi\n",
        "(60, 80)"
       ]
      },
      {
       "output_type": "stream",
       "stream": "stdout",
       "text": [
        "\n",
        "5.14474660046\n",
        "length  80\n",
        "complete  video\\cctv052x2004080616x00061.avi\n",
        "start  video\\cctv052x2004080616x00062.avi\n",
        "(60, 80)"
       ]
      },
      {
       "output_type": "stream",
       "stream": "stdout",
       "text": [
        "\n",
        "4.71305069833\n",
        "length  80\n",
        "complete  video\\cctv052x2004080616x00062.avi\n",
        "start  video\\cctv052x2004080617x00064.avi\n",
        "(60, 80)"
       ]
      },
      {
       "output_type": "stream",
       "stream": "stdout",
       "text": [
        "\n",
        "5.49909944354\n",
        "length  80\n",
        "complete  video\\cctv052x2004080617x00064.avi\n",
        "start  video\\cctv052x2004080617x00065.avi\n",
        "(60, 80)"
       ]
      },
      {
       "output_type": "stream",
       "stream": "stdout",
       "text": [
        "\n",
        "5.35487452093\n",
        "length  80\n",
        "complete  video\\cctv052x2004080617x00065.avi\n",
        "start  video\\cctv052x2004080617x00066.avi\n",
        "(60, 80)"
       ]
      },
      {
       "output_type": "stream",
       "stream": "stdout",
       "text": [
        "\n",
        "7.20144135097\n",
        "length  80\n",
        "complete  video\\cctv052x2004080617x00066.avi\n",
        "start  video\\cctv052x2004080617x00067.avi\n",
        "(60, 80)"
       ]
      },
      {
       "output_type": "stream",
       "stream": "stdout",
       "text": [
        "\n",
        "3.68660750479\n",
        "length  80\n",
        "complete  video\\cctv052x2004080617x00067.avi\n",
        "start  video\\cctv052x2004080617x00068.avi\n",
        "(60, 80)"
       ]
      },
      {
       "output_type": "stream",
       "stream": "stdout",
       "text": [
        "\n",
        "5.2488184515\n",
        "length  80\n",
        "complete  video\\cctv052x2004080617x00068.avi\n",
        "start  video\\cctv052x2004080617x00069.avi\n",
        "(60, 80)"
       ]
      },
      {
       "output_type": "stream",
       "stream": "stdout",
       "text": [
        "\n",
        "5.27369545991\n",
        "length  80\n",
        "complete  video\\cctv052x2004080617x00069.avi\n",
        "start  video\\cctv052x2004080617x00070.avi\n",
        "(60, 80)"
       ]
      },
      {
       "output_type": "stream",
       "stream": "stdout",
       "text": [
        "\n",
        "6.60008498858\n",
        "length  80\n",
        "complete  video\\cctv052x2004080617x00070.avi\n",
        "start  video\\cctv052x2004080617x00071.avi\n",
        "(60, 80)"
       ]
      },
      {
       "output_type": "stream",
       "stream": "stdout",
       "text": [
        "\n",
        "5.12713623047\n",
        "length  80\n",
        "complete  video\\cctv052x2004080617x00071.avi\n",
        "start  video\\cctv052x2004080617x00072.avi\n",
        "(60, 80)"
       ]
      },
      {
       "output_type": "stream",
       "stream": "stdout",
       "text": [
        "\n",
        "6.47794673128\n",
        "length  80\n",
        "complete  video\\cctv052x2004080617x00072.avi\n",
        "start  video\\cctv052x2004080617x00073.avi\n",
        "(60, 80)"
       ]
      },
      {
       "output_type": "stream",
       "stream": "stdout",
       "text": [
        "\n",
        "4.83702576835\n",
        "length  80\n",
        "complete  video\\cctv052x2004080617x00073.avi\n",
        "start  video\\cctv052x2004080617x00074.avi\n",
        "(60, 80)"
       ]
      },
      {
       "output_type": "stream",
       "stream": "stdout",
       "text": [
        "\n",
        "3.5915046105\n",
        "length  80\n",
        "complete  video\\cctv052x2004080617x00074.avi\n",
        "start  video\\cctv052x2004080617x00075.avi\n",
        "(60, 80)"
       ]
      },
      {
       "output_type": "stream",
       "stream": "stdout",
       "text": [
        "\n",
        "6.07603368219\n",
        "length  80\n",
        "complete  video\\cctv052x2004080617x00075.avi\n",
        "start  video\\cctv052x2004080617x00076.avi\n",
        "(60, 80)"
       ]
      },
      {
       "output_type": "stream",
       "stream": "stdout",
       "text": [
        "\n",
        "4.76578083444\n",
        "length  80\n",
        "complete  video\\cctv052x2004080617x00076.avi\n",
        "start  video\\cctv052x2004080617x00077.avi\n",
        "(60, 80)"
       ]
      },
      {
       "output_type": "stream",
       "stream": "stdout",
       "text": [
        "\n",
        "6.21354934404\n",
        "length  80\n",
        "complete  video\\cctv052x2004080617x00077.avi\n",
        "start  video\\cctv052x2004080618x00079.avi\n",
        "(60, 80)"
       ]
      },
      {
       "output_type": "stream",
       "stream": "stdout",
       "text": [
        "\n",
        "4.41220150354\n",
        "length  80\n",
        "complete  video\\cctv052x2004080618x00079.avi\n",
        "start  video\\cctv052x2004080618x00080.avi\n",
        "(60, 80)"
       ]
      },
      {
       "output_type": "stream",
       "stream": "stdout",
       "text": [
        "\n",
        "3.35083468455\n",
        "length  80\n",
        "complete  video\\cctv052x2004080618x00080.avi\n",
        "start  video\\cctv052x2004080618x00081.avi\n",
        "(60, 80)"
       ]
      },
      {
       "output_type": "stream",
       "stream": "stdout",
       "text": [
        "\n",
        "2.75321067954\n",
        "length  80\n",
        "complete  video\\cctv052x2004080618x00081.avi\n",
        "start  video\\cctv052x2004080618x00085.avi\n",
        "(60, 80)"
       ]
      },
      {
       "output_type": "stream",
       "stream": "stdout",
       "text": [
        "\n",
        "1.60904794369\n",
        "length  80\n",
        "complete  video\\cctv052x2004080618x00085.avi\n",
        "start  video\\cctv052x2004080618x00086.avi\n",
        "(60, 80)"
       ]
      },
      {
       "output_type": "stream",
       "stream": "stdout",
       "text": [
        "\n",
        "1.88495909493\n",
        "length  80\n",
        "complete  video\\cctv052x2004080618x00086.avi\n",
        "start  video\\cctv052x2004080618x00087.avi\n",
        "(60, 80)"
       ]
      },
      {
       "output_type": "stream",
       "stream": "stdout",
       "text": [
        "\n",
        "1.30101502616\n",
        "length  80\n",
        "complete  video\\cctv052x2004080618x00087.avi\n",
        "start  video\\cctv052x2004080618x00088.avi\n",
        "(60, 80)"
       ]
      },
      {
       "output_type": "stream",
       "stream": "stdout",
       "text": [
        "\n",
        "1.79777785967\n",
        "length  80\n",
        "complete  video\\cctv052x2004080618x00088.avi\n",
        "start  video\\cctv052x2004080618x00089.avi\n",
        "(60, 80)"
       ]
      },
      {
       "output_type": "stream",
       "stream": "stdout",
       "text": [
        "\n",
        "2.66467630638\n",
        "length  80\n",
        "complete  video\\cctv052x2004080618x00089.avi\n",
        "start  video\\cctv052x2004080619x00090.avi\n",
        "(60, 80)"
       ]
      },
      {
       "output_type": "stream",
       "stream": "stdout",
       "text": [
        "\n",
        "1.56997738244\n",
        "length  80\n",
        "complete  video\\cctv052x2004080619x00090.avi\n",
        "start  video\\cctv052x2004080619x00091.avi\n",
        "(60, 80)"
       ]
      },
      {
       "output_type": "stream",
       "stream": "stdout",
       "text": [
        "\n",
        "2.58814167527\n",
        "length  80\n",
        "complete  video\\cctv052x2004080619x00091.avi\n",
        "start  video\\cctv052x2004080619x00092.avi\n",
        "(60, 80)"
       ]
      },
      {
       "output_type": "stream",
       "stream": "stdout",
       "text": [
        "\n",
        "3.6494647332\n",
        "length  80\n",
        "complete  video\\cctv052x2004080619x00092.avi\n",
        "start  video\\cctv052x2004080619x00093.avi\n",
        "(60, 80)"
       ]
      },
      {
       "output_type": "stream",
       "stream": "stdout",
       "text": [
        "\n",
        "2.79943962817\n",
        "length  80\n",
        "complete  video\\cctv052x2004080619x00093.avi\n",
        "start  video\\cctv052x2004080619x00094.avi\n",
        "(60, 80)"
       ]
      },
      {
       "output_type": "stream",
       "stream": "stdout",
       "text": [
        "\n",
        "2.67001515514\n",
        "length  80\n",
        "complete  video\\cctv052x2004080619x00094.avi\n",
        "start  video\\cctv052x2004080619x00095.avi\n",
        "(60, 80)"
       ]
      },
      {
       "output_type": "stream",
       "stream": "stdout",
       "text": [
        "\n",
        "2.576857081\n",
        "length  80\n",
        "complete  video\\cctv052x2004080619x00095.avi\n",
        "start  video\\cctv052x2004080619x00096.avi\n",
        "(60, 80)"
       ]
      },
      {
       "output_type": "stream",
       "stream": "stdout",
       "text": [
        "\n",
        "2.46102962854\n",
        "length  80\n",
        "complete  video\\cctv052x2004080619x00096.avi\n",
        "start  video\\cctv052x2004080619x00097.avi\n",
        "(60, 80)"
       ]
      },
      {
       "output_type": "stream",
       "stream": "stdout",
       "text": [
        "\n",
        "3.77864736881\n",
        "length  80\n",
        "complete  video\\cctv052x2004080619x00097.avi\n",
        "start  video\\cctv052x2004080619x00098.avi\n",
        "(60, 80)"
       ]
      },
      {
       "output_type": "stream",
       "stream": "stdout",
       "text": [
        "\n",
        "4.16798717571\n",
        "length  80\n",
        "complete  video\\cctv052x2004080619x00098.avi\n",
        "start  video\\cctv052x2004080619x00099.avi\n",
        "(60, 80)"
       ]
      },
      {
       "output_type": "stream",
       "stream": "stdout",
       "text": [
        "\n",
        "3.66789619878\n",
        "length  80\n",
        "complete  video\\cctv052x2004080619x00099.avi\n",
        "start  video\\cctv052x2004080619x00100.avi\n",
        "(60, 80)"
       ]
      },
      {
       "output_type": "stream",
       "stream": "stdout",
       "text": [
        "\n",
        "5.20260101894\n",
        "length  80\n",
        "complete  video\\cctv052x2004080619x00100.avi\n",
        "start  video\\cctv052x2004080619x00101.avi\n",
        "(60, 80)"
       ]
      },
      {
       "output_type": "stream",
       "stream": "stdout",
       "text": [
        "\n",
        "5.3399116948\n",
        "length  80\n",
        "complete  video\\cctv052x2004080619x00101.avi\n",
        "start  video\\cctv052x2004080619x00102.avi\n",
        "(60, 80)"
       ]
      },
      {
       "output_type": "stream",
       "stream": "stdout",
       "text": [
        "\n",
        "1.79463078425\n",
        "length  80\n",
        "complete  video\\cctv052x2004080619x00102.avi\n",
        "start  video\\cctv052x2004080619x00103.avi\n",
        "(60, 80)"
       ]
      },
      {
       "output_type": "stream",
       "stream": "stdout",
       "text": [
        "\n",
        "2.84792572597\n",
        "length  80\n",
        "complete  video\\cctv052x2004080619x00103.avi\n",
        "start  video\\cctv052x2004080619x00104.avi\n",
        "(60, 80)"
       ]
      },
      {
       "output_type": "stream",
       "stream": "stdout",
       "text": [
        "\n",
        "3.51813319944\n",
        "length  80\n",
        "complete  video\\cctv052x2004080619x00104.avi\n",
        "start  video\\cctv052x2004080620x00105.avi\n",
        "(60, 80)"
       ]
      },
      {
       "output_type": "stream",
       "stream": "stdout",
       "text": [
        "\n",
        "3.83567493367\n",
        "length  80\n",
        "complete  video\\cctv052x2004080620x00105.avi\n",
        "start  video\\cctv052x2004080620x00106.avi\n",
        "(60, 80)"
       ]
      },
      {
       "output_type": "stream",
       "stream": "stdout",
       "text": [
        "\n",
        "5.20165554982\n",
        "length  80\n",
        "complete  video\\cctv052x2004080620x00106.avi\n",
        "start  video\\cctv052x2004080620x00107.avi\n",
        "(60, 80)"
       ]
      },
      {
       "output_type": "stream",
       "stream": "stdout",
       "text": [
        "\n",
        "3.17142126695\n",
        "length  80\n",
        "complete  video\\cctv052x2004080620x00107.avi\n",
        "start  video\\cctv052x2004080620x00108.avi\n",
        "(60, 80)"
       ]
      },
      {
       "output_type": "stream",
       "stream": "stdout",
       "text": [
        "\n",
        "2.97157949772\n",
        "length  80\n",
        "complete  video\\cctv052x2004080620x00108.avi\n",
        "***********complete all*************"
       ]
      },
      {
       "output_type": "stream",
       "stream": "stdout",
       "text": [
        "\n"
       ]
      }
     ],
     "prompt_number": 5
    },
    {
     "cell_type": "code",
     "collapsed": false,
     "input": [
      "import numpy as np\n",
      "import pandas as pd\n",
      "import cv2\n",
      "import glob\n",
      "import ntpath\n",
      "import os.path\n",
      "\n",
      "np.set_printoptions(threshold='nan')\n",
      "\n",
      "# Take input path\n",
      "def start(folder,outname):\n",
      "    \n",
      "    L = []\n",
      "    arrayFiles = glob.glob(folder+\"/*.avi\")\n",
      "    for name in arrayFiles:\n",
      "            fname=os.path.splitext(ntpath.basename(name))[0]\n",
      "            print \"start \", name\n",
      "            cap = cv2.VideoCapture(name)\n",
      "            \n",
      "            frameCount=cap.get(cv2.cv.CV_CAP_PROP_FRAME_COUNT)\n",
      "            \n",
      "            ret, frame = cap.read()\n",
      "            #lower_reso = cv2.pyrDown(cv2.pyrDown(cv2.pyrDown(cv2.pyrDown(frame))))\n",
      "            TMM = np.zeros((frame.shape[0],frame.shape[1]))\n",
      "            rowVal=frame.shape[0]/2\n",
      "            \n",
      "            ret, frame = cap.read()\n",
      "            ret = True\n",
      "            \n",
      "            if f_type == 0:\n",
      "        \n",
      "                #background subtract method\n",
      "                fgbg = cv2.BackgroundSubtractorMOG()\n",
      "            else:\n",
      "                #frame difference method\n",
      "                back=frame\n",
      "            while(cap.isOpened() and ret):\n",
      "                ret, frame = cap.read()\n",
      "                if ret:\n",
      "#                     frame=cv2.GaussianBlur(frame,(7,7),0)\n",
      "                    #lower_reso = cv2.pyrDown(cv2.pyrDown(cv2.pyrDown(cv2.pyrDown(frame))))\n",
      "                    if f_type == 0:\n",
      "                        #background subtract method\n",
      "                        fgmask = fgbg.apply(frame)\n",
      "                    else:\n",
      "                        #frame difference method\n",
      "                        fgmask1 =cv2.absdiff(frame,back)\n",
      "                        fgmask2= cv2.cvtColor(fgmask1, cv2.COLOR_BGR2GRAY)\n",
      "                        fgmask = cv2.Canny(fgmask2,100,200)\n",
      "    #                     fgmask=cv2.GaussianBlur(fgmask2,(7,7),0)\n",
      "\n",
      "                        back=frame\n",
      "                    \n",
      "                    fgmask = fgmask/255.0\n",
      "                    TMM=TMM+fgmask\n",
      "                    \n",
      "            TMM=TMM/frameCount\n",
      "            #TMM=cv2.pyrDown(TMM)\n",
      "            #get the sum of all the rows and create a single row\n",
      "            lower_reso = cv2.pyrDown(cv2.pyrDown(TMM))        \n",
      "            \n",
      "            \n",
      "            Res = np.sum(lower_reso, axis=0)\n",
      "            \n",
      "            #get the middle row as the input vector\n",
      "            #Res = TMM[rowVal]\n",
      "        \n",
      "            print lower_reso.shape\n",
      "            #print \"row value\",rowVal\n",
      "            #Res1 = np.sum(TMM, axis=1)\n",
      "            # Res1=Res1*1.0/np.max(Res1)\n",
      "#             if np.max(Res) !=0.0:\n",
      "#                 Res=Res*1.0/np.max(Res)\n",
      "            print np.max(Res)\n",
      "            l = [fname]\n",
      "            l=l+Res.tolist()\n",
      "            #l=l+Res1.tolist()\n",
      "            print \"length \", Res.shape[0]\n",
      "            L.append(l)  \n",
      "            print \"complete \", name\n",
      "    # write to file\n",
      "    #L = np.array(L)\n",
      "    d = pd.DataFrame(data=L)\n",
      "    d.to_csv(outname + '.txt', index=False, header=False)  \n",
      "    print \"***********complete all*************\"\n",
      "    #T = set([l.shape for l in L])"
     ],
     "language": "python",
     "metadata": {},
     "outputs": []
    },
    {
     "cell_type": "code",
     "collapsed": false,
     "input": [
      "import numpy as np\n",
      "import pandas as pd\n",
      "import cv2\n",
      "import glob\n",
      "import ntpath\n",
      "import os.path\n",
      "\n",
      "np.set_printoptions(threshold='nan')\n",
      "\n",
      "# Take input path\n",
      "def start(folder,outname):\n",
      "    max_val=0\n",
      "    L = []\n",
      "    arrayFiles = glob.glob(folder+\"/*.avi\")\n",
      "    for name in arrayFiles:\n",
      "            fname=os.path.splitext(ntpath.basename(name))[0]\n",
      "            print \"start \", name\n",
      "            cap = cv2.VideoCapture(name)\n",
      "            \n",
      "            frameCount=cap.get(cv2.cv.CV_CAP_PROP_FRAME_COUNT)\n",
      "            \n",
      "            ret, frame = cap.read()\n",
      "            #lower_reso = cv2.pyrDown(cv2.pyrDown(cv2.pyrDown(cv2.pyrDown(frame))))\n",
      "            TMM = np.zeros((frame.shape[0],frame.shape[1]))\n",
      "            rowVal=frame.shape[0]/2\n",
      "            \n",
      "            ret, frame = cap.read()\n",
      "            ret = True\n",
      "            #background subtract method\n",
      "            #fgbg = cv2.BackgroundSubtractorMOG()\n",
      "            \n",
      "            #frame difference method\n",
      "            back=frame\n",
      "            while(cap.isOpened() and ret):\n",
      "                ret, frame = cap.read()\n",
      "                if ret:\n",
      "#                     frame=cv2.GaussianBlur(frame,(7,7),0)\n",
      "                    #lower_reso = cv2.pyrDown(cv2.pyrDown(cv2.pyrDown(cv2.pyrDown(frame))))\n",
      "                    #background subtract method\n",
      "                    #fgmask = fgbg.apply(frame)\n",
      "                    \n",
      "                    #frame difference method\n",
      "                    fgmask1 =cv2.absdiff(frame,back)\n",
      "                    fgmask2= cv2.cvtColor(fgmask1, cv2.COLOR_BGR2GRAY)\n",
      "                    fgmask=cv2.GaussianBlur(fgmask2,(7,7),0)\n",
      "                    (th,fgmask)=cv2.threshold(fgmask,20,255,cv2.THRESH_BINARY)\n",
      "#                     fgmask=cv2.GaussianBlur(fgmask2,(7,7),0)\n",
      "                    \n",
      "                    back=frame\n",
      "  "
     ],
     "language": "python",
     "metadata": {},
     "outputs": []
    }
   ],
   "metadata": {}
  }
 ]
}